{
 "cells": [
  {
   "metadata": {},
   "cell_type": "markdown",
   "source": [
    "# Car Price prediction\n",
    "\n",
    "<img src=\"https://whatcar.vn/media/2018/09/car-lot-940x470.jpg\"/>\n",
    "\n",
    "## Прогнозирование стоимости автомобиля по характеристикам\n",
    "*Этот ноутбук является шаблоном (Baseline) к текущему соревнованию и не служит готовым решением!*   \n",
    "Вы можете использовать его как основу для построения своего решения.\n",
    "\n",
    "\n",
    "> **Baseline** создается больше как шаблон, где можно посмотреть, как происходит обращение с входящими данными и что нужно получить на выходе. При этом ML начинка может быть достаточно простой. Это помогает быстрее приступить к самому ML, а не тратить ценное время на инженерные задачи. \n",
    "Также baseline является хорошей опорной точкой по метрике. Если наше решение хуже baseline -  мы явно делаем что-то не так и стоит попробовать другой путь) "
   ]
  },
  {
   "metadata": {},
   "cell_type": "markdown",
   "source": [
    "## В baseline мы сделаем следующее:\n",
    "* Построим \"наивную\"/baseline модель, предсказывающую цену по модели и году выпуска (с ней будем сравнивать другие модели)\n",
    "* Обработаем и отнормируем признаки\n",
    "* Сделаем первую модель на основе градиентного бустинга с помощью CatBoost\n",
    "* Сделаем вторую модель на основе нейронных сетей и сравним результаты\n",
    "* Сделаем multi-input нейронную сеть для анализа табличных данных и текста одновременно\n",
    "* Добавим в multi-input сеть обработку изображений\n",
    "* Осуществим ансамблирование градиентного бустинга и нейронной сети (усреднение их предсказаний)\n"
   ]
  },
  {
   "metadata": {
    "_cell_guid": "b1076dfc-b9ad-4769-8c92-a6c4dae69d19",
    "_kg_hide-input": true,
    "_uuid": "8f2839f25d086af736a60e9eeb907d3b93b6e0e5",
    "trusted": true
   },
   "cell_type": "code",
   "source": [
    "# This Python 3 environment comes with many helpful analytics libraries installed\n",
    "# It is defined by the kaggle/python Docker image: https://github.com/kaggle/docker-python\n",
    "# For example, here's several helpful packages to load\n",
    "\n",
    "import random\n",
    "import numpy as np # linear algebra\n",
    "import pandas as pd # data processing, CSV file I/O (e.g. pd.read_csv)\n",
    "import os\n",
    "import sys\n",
    "import PIL\n",
    "import cv2\n",
    "import re\n",
    "\n",
    "# Input data files are available in the read-only \"../input/\" directory\n",
    "# For example, running this (by clicking run or pressing Shift+Enter) will list all files under the input directory\n",
    "\n",
    "from catboost import CatBoostRegressor\n",
    "from sklearn.model_selection import train_test_split\n",
    "from sklearn.preprocessing import MinMaxScaler\n",
    "\n",
    "# # keras\n",
    "import tensorflow as tf\n",
    "import tensorflow.keras.layers as L\n",
    "from tensorflow.keras.models import Model, Sequential\n",
    "from tensorflow.keras.preprocessing.text import Tokenizer\n",
    "from tensorflow.keras.preprocessing import sequence\n",
    "from tensorflow.keras.callbacks import ModelCheckpoint, EarlyStopping\n",
    "import albumentations\n",
    "\n",
    "# plt\n",
    "import matplotlib.pyplot as plt\n",
    "# увеличим размер графиков по умолчанию\n",
    "from pylab import rcParams\n",
    "rcParams['figure.figsize'] = 10, 5\n",
    "# графики в svg выглядят более четкими\n",
    "%config InlineBackend.figure_format = 'svg' \n",
    "%matplotlib inline\n",
    "\n",
    "# You can write up to 5 GB to the current directory (/kaggle/working/) that gets preserved as output when you create a version using \"Save & Run All\"\n",
    "# You can also write temporary files to /kaggle/temp/, but they won't be saved outside of the current session"
   ],
   "execution_count": 1,
   "outputs": []
  },
  {
   "cell_type": "code",
   "execution_count": 2,
   "metadata": {},
   "outputs": [
    {
     "output_type": "stream",
     "name": "stdout",
     "text": [
      "1 Physical GPUs, 1 Logical GPUs\n"
     ]
    }
   ],
   "source": [
    "gpus = tf.config.experimental.list_physical_devices('GPU')\n",
    "if gpus:\n",
    "  try:\n",
    "    # Currently, memory growth needs to be the same across GPUs\n",
    "    for gpu in gpus:\n",
    "      tf.config.experimental.set_memory_growth(gpu, True)\n",
    "    logical_gpus = tf.config.experimental.list_logical_devices('GPU')\n",
    "    print(len(gpus), \"Physical GPUs,\", len(logical_gpus), \"Logical GPUs\")\n",
    "  except RuntimeError as e:\n",
    "    # Memory growth must be set before GPUs have been initialized\n",
    "    print(e)"
   ]
  },
  {
   "metadata": {
    "_kg_hide-input": true,
    "trusted": true
   },
   "cell_type": "code",
   "source": [
    "print('Python       :', sys.version.split('\\n')[0])\n",
    "print('Numpy        :', np.__version__)\n",
    "print('Tensorflow   :', tf.__version__)"
   ],
   "execution_count": 3,
   "outputs": [
    {
     "output_type": "stream",
     "name": "stdout",
     "text": [
      "Python       : 3.8.5 (default, Jul 28 2020, 12:59:40) \nNumpy        : 1.19.4\nTensorflow   : 2.5.0\n"
     ]
    }
   ]
  },
  {
   "metadata": {
    "_kg_hide-input": true,
    "trusted": true
   },
   "cell_type": "code",
   "source": [
    "def mape(y_true, y_pred):\n",
    "    return np.mean(np.abs((y_pred-y_true)/y_true))"
   ],
   "execution_count": 3,
   "outputs": []
  },
  {
   "metadata": {
    "_kg_hide-input": true,
    "trusted": true
   },
   "cell_type": "code",
   "source": [
    "# всегда фиксируйте RANDOM_SEED, чтобы ваши эксперименты были воспроизводимы!\n",
    "RANDOM_SEED = 42\n",
    "np.random.seed(RANDOM_SEED)"
   ],
   "execution_count": 4,
   "outputs": []
  },
  {
   "metadata": {},
   "cell_type": "markdown",
   "source": [
    "# DATA"
   ]
  },
  {
   "metadata": {},
   "cell_type": "markdown",
   "source": [
    "Посмотрим на типы признаков:\n",
    "\n",
    "* bodyType - категориальный\n",
    "* brand - категориальный\n",
    "* color - категориальный\n",
    "* description - текстовый\n",
    "* engineDisplacement - числовой, представленный как текст\n",
    "* enginePower - числовой, представленный как текст\n",
    "* fuelType - категориальный\n",
    "* mileage - числовой\n",
    "* modelDate - числовой\n",
    "* model_info - категориальный\n",
    "* name - категориальный, желательно сократить размерность\n",
    "* numberOfDoors - категориальный\n",
    "* price - числовой, целевой\n",
    "* productionDate - числовой\n",
    "* sell_id - изображение (файл доступен по адресу, основанному на sell_id)\n",
    "* vehicleConfiguration - не используется (комбинация других столбцов)\n",
    "* vehicleTransmission - категориальный\n",
    "* Владельцы - категориальный\n",
    "* Владение - числовой, представленный как текст\n",
    "* ПТС - категориальный\n",
    "* Привод - категориальный\n",
    "* Руль - категориальный"
   ]
  },
  {
   "metadata": {
    "_cell_guid": "79c7e3d0-c299-4dcb-8224-4455121ee9b0",
    "_uuid": "d629ff2d2480ee46fbb7e2d37f6b5fab8052498a",
    "trusted": true
   },
   "cell_type": "code",
   "source": [
    "DATA_DIR = '~/CarPrice2/input/'\n",
    "train = pd.read_csv(DATA_DIR + 'train.csv')\n",
    "test = pd.read_csv(DATA_DIR + 'test.csv')\n",
    "sample_submission = pd.read_csv(DATA_DIR + 'sample_submission.csv')"
   ],
   "execution_count": 5,
   "outputs": []
  },
  {
   "metadata": {
    "trusted": true
   },
   "cell_type": "code",
   "source": [
    "train.info()"
   ],
   "execution_count": 6,
   "outputs": [
    {
     "output_type": "stream",
     "name": "stdout",
     "text": [
      "<class 'pandas.core.frame.DataFrame'>\nRangeIndex: 6682 entries, 0 to 6681\nData columns (total 22 columns):\n #   Column                Non-Null Count  Dtype  \n---  ------                --------------  -----  \n 0   bodyType              6682 non-null   object \n 1   brand                 6682 non-null   object \n 2   color                 6682 non-null   object \n 3   description           6682 non-null   object \n 4   engineDisplacement    6682 non-null   object \n 5   enginePower           6682 non-null   object \n 6   fuelType              6682 non-null   object \n 7   mileage               6682 non-null   int64  \n 8   modelDate             6682 non-null   int64  \n 9   model_info            6682 non-null   object \n 10  name                  6682 non-null   object \n 11  numberOfDoors         6682 non-null   int64  \n 12  price                 6682 non-null   float64\n 13  productionDate        6682 non-null   int64  \n 14  sell_id               6682 non-null   int64  \n 15  vehicleConfiguration  6682 non-null   object \n 16  vehicleTransmission   6682 non-null   object \n 17  Владельцы             6681 non-null   object \n 18  Владение              2356 non-null   object \n 19  ПТС                   6682 non-null   object \n 20  Привод                6682 non-null   object \n 21  Руль                  6682 non-null   object \ndtypes: float64(1), int64(5), object(16)\nmemory usage: 1.1+ MB\n"
     ]
    }
   ]
  },
  {
   "metadata": {
    "trusted": true
   },
   "cell_type": "code",
   "source": [
    "from pymystem3 import Mystem\n",
    "m = Mystem()\n",
    "lemmas = m.lemmatize(train.description[3])\n",
    "print(''.join(lemmas))"
   ],
   "execution_count": 7,
   "outputs": [
    {
     "output_type": "stream",
     "name": "stdout",
     "text": [
      "в комплект зимний колесо. 27.07.2020 замена передний тормозной диск, замена масло в двигатель и коробка со весь фильтр, замена свеча зажигание. машина в хороший состояние. возможный торг. причина продажа связанный с покупка жилье. \n\n"
     ]
    }
   ]
  },
  {
   "metadata": {},
   "cell_type": "markdown",
   "source": [
    "# Model 1: Создадим \"наивную\" модель \n",
    "Эта модель будет предсказывать среднюю цену по модели и году выпуска. \n",
    "С ней будем сравнивать другие модели.\n",
    "\n"
   ]
  },
  {
   "metadata": {
    "trusted": true
   },
   "cell_type": "code",
   "source": [
    "# split данных\n",
    "data_train, data_test = train_test_split(train, test_size=0.15, shuffle=True, random_state=RANDOM_SEED)"
   ],
   "execution_count": 8,
   "outputs": []
  },
  {
   "metadata": {},
   "cell_type": "markdown",
   "source": [
    "# EDA"
   ]
  },
  {
   "metadata": {
    "trusted": true
   },
   "cell_type": "code",
   "source": [
    "# Наивная модель\n",
    "predicts = []\n",
    "for index, row in pd.DataFrame(data_test[['model_info', 'productionDate']]).iterrows():\n",
    "    query = f\"model_info == '{row[0]}' and productionDate == '{row[1]}'\"\n",
    "    predicts.append(data_train.query(query)['price'].median())\n",
    "\n",
    "# заполним не найденные совпадения\n",
    "predicts = pd.DataFrame(predicts)\n",
    "predicts = predicts.fillna(predicts.median())\n",
    "\n",
    "# округлим\n",
    "predicts = (predicts // 1000) * 1000\n",
    "\n",
    "#оцениваем точность\n",
    "print(f\"Точность наивной модели по метрике MAPE: {(mape(data_test['price'], predicts.values[:, 0]))*100:0.2f}%\")"
   ],
   "execution_count": 9,
   "outputs": [
    {
     "output_type": "stream",
     "name": "stdout",
     "text": [
      "Точность наивной модели по метрике MAPE: 19.88%\n"
     ]
    }
   ]
  },
  {
   "metadata": {},
   "cell_type": "markdown",
   "source": [
    "Проведем быстрый анализ данных для того, чтобы понимать, сможет ли с этими данными работать наш алгоритм."
   ]
  },
  {
   "metadata": {},
   "cell_type": "markdown",
   "source": [
    "Посмотрим, как выглядят распределения числовых признаков:"
   ]
  },
  {
   "metadata": {
    "_kg_hide-input": true,
    "trusted": true
   },
   "cell_type": "code",
   "source": [
    "#посмотрим, как выглядят распределения числовых признаков\n",
    "def visualize_distributions(titles_values_dict):\n",
    "  columns = min(3, len(titles_values_dict))\n",
    "  rows = (len(titles_values_dict) - 1) // columns + 1\n",
    "  fig = plt.figure(figsize = (columns * 6, rows * 4))\n",
    "  for i, (title, values) in enumerate(titles_values_dict.items()):\n",
    "    hist, bins = np.histogram(values, bins = 20)\n",
    "    ax = fig.add_subplot(rows, columns, i + 1)\n",
    "    ax.bar(bins[:-1], hist, width = (bins[1] - bins[0]) * 0.7)\n",
    "    ax.set_title(title)\n",
    "  plt.show()\n",
    "\n",
    "visualize_distributions({\n",
    "    'mileage': train['mileage'].dropna(),\n",
    "    'modelDate': train['modelDate'].dropna(),\n",
    "    'productionDate': train['productionDate'].dropna()\n",
    "})"
   ],
   "execution_count": 10,
   "outputs": [
    {
     "output_type": "display_data",
     "data": {
      "text/plain": "<Figure size 1296x288 with 3 Axes>",
      "image/svg+xml": "<?xml version=\"1.0\" encoding=\"utf-8\" standalone=\"no\"?>\n<!DOCTYPE svg PUBLIC \"-//W3C//DTD SVG 1.1//EN\"\n  \"http://www.w3.org/Graphics/SVG/1.1/DTD/svg11.dtd\">\n<!-- Created with matplotlib (https://matplotlib.org/) -->\n<svg height=\"276.314375pt\" version=\"1.1\" viewBox=\"0 0 1059.408182 276.314375\" width=\"1059.408182pt\" xmlns=\"http://www.w3.org/2000/svg\" xmlns:xlink=\"http://www.w3.org/1999/xlink\">\n <metadata>\n  <rdf:RDF xmlns:cc=\"http://creativecommons.org/ns#\" xmlns:dc=\"http://purl.org/dc/elements/1.1/\" xmlns:rdf=\"http://www.w3.org/1999/02/22-rdf-syntax-ns#\">\n   <cc:Work>\n    <dc:type rdf:resource=\"http://purl.org/dc/dcmitype/StillImage\"/>\n    <dc:date>2020-11-12T18:55:46.340077</dc:date>\n    <dc:format>image/svg+xml</dc:format>\n    <dc:creator>\n     <cc:Agent>\n      <dc:title>Matplotlib v3.3.2, https://matplotlib.org/</dc:title>\n     </cc:Agent>\n    </dc:creator>\n   </cc:Work>\n  </rdf:RDF>\n </metadata>\n <defs>\n  <style type=\"text/css\">*{stroke-linecap:butt;stroke-linejoin:round;}</style>\n </defs>\n <g id=\"figure_1\">\n  <g id=\"patch_1\">\n   <path d=\"M 0 276.314375 \nL 1059.408182 276.314375 \nL 1059.408182 0 \nL 0 0 \nz\n\" style=\"fill:none;\"/>\n  </g>\n  <g id=\"axes_1\">\n   <g id=\"patch_2\">\n    <path d=\"M 39.65 239.758125 \nL 335.061765 239.758125 \nL 335.061765 22.318125 \nL 39.65 22.318125 \nz\n\" style=\"fill:#ffffff;\"/>\n   </g>\n   <g id=\"patch_3\">\n    <path clip-path=\"url(#p540a3a352b)\" d=\"M 53.077807 239.758125 \nL 62.620412 239.758125 \nL 62.620412 58.00874 \nL 53.077807 58.00874 \nz\n\" style=\"fill:#1f77b4;\"/>\n   </g>\n   <g id=\"patch_4\">\n    <path clip-path=\"url(#p540a3a352b)\" d=\"M 66.710099 239.758125 \nL 76.252704 239.758125 \nL 76.252704 32.672411 \nL 66.710099 32.672411 \nz\n\" style=\"fill:#1f77b4;\"/>\n   </g>\n   <g id=\"patch_5\">\n    <path clip-path=\"url(#p540a3a352b)\" d=\"M 80.342391 239.758125 \nL 89.884996 239.758125 \nL 89.884996 33.189479 \nL 80.342391 33.189479 \nz\n\" style=\"fill:#1f77b4;\"/>\n   </g>\n   <g id=\"patch_6\">\n    <path clip-path=\"url(#p540a3a352b)\" d=\"M 93.974683 239.758125 \nL 103.517287 239.758125 \nL 103.517287 96.271769 \nL 93.974683 96.271769 \nz\n\" style=\"fill:#1f77b4;\"/>\n   </g>\n   <g id=\"patch_7\">\n    <path clip-path=\"url(#p540a3a352b)\" d=\"M 107.606975 239.758125 \nL 117.149579 239.758125 \nL 117.149579 172.15149 \nL 107.606975 172.15149 \nz\n\" style=\"fill:#1f77b4;\"/>\n   </g>\n   <g id=\"patch_8\">\n    <path clip-path=\"url(#p540a3a352b)\" d=\"M 121.239267 239.758125 \nL 130.781871 239.758125 \nL 130.781871 207.182844 \nL 121.239267 207.182844 \nz\n\" style=\"fill:#1f77b4;\"/>\n   </g>\n   <g id=\"patch_9\">\n    <path clip-path=\"url(#p540a3a352b)\" d=\"M 134.871559 239.758125 \nL 144.414163 239.758125 \nL 144.414163 224.892421 \nL 134.871559 224.892421 \nz\n\" style=\"fill:#1f77b4;\"/>\n   </g>\n   <g id=\"patch_10\">\n    <path clip-path=\"url(#p540a3a352b)\" d=\"M 148.503851 239.758125 \nL 158.046455 239.758125 \nL 158.046455 233.811844 \nL 148.503851 233.811844 \nz\n\" style=\"fill:#1f77b4;\"/>\n   </g>\n   <g id=\"patch_11\">\n    <path clip-path=\"url(#p540a3a352b)\" d=\"M 162.136142 239.758125 \nL 171.678747 239.758125 \nL 171.678747 236.914251 \nL 162.136142 236.914251 \nz\n\" style=\"fill:#1f77b4;\"/>\n   </g>\n   <g id=\"patch_12\">\n    <path clip-path=\"url(#p540a3a352b)\" d=\"M 175.768434 239.758125 \nL 185.311039 239.758125 \nL 185.311039 239.370324 \nL 175.768434 239.370324 \nz\n\" style=\"fill:#1f77b4;\"/>\n   </g>\n   <g id=\"patch_13\">\n    <path clip-path=\"url(#p540a3a352b)\" d=\"M 189.400726 239.758125 \nL 198.94333 239.758125 \nL 198.94333 239.499591 \nL 189.400726 239.499591 \nz\n\" style=\"fill:#1f77b4;\"/>\n   </g>\n   <g id=\"patch_14\">\n    <path clip-path=\"url(#p540a3a352b)\" d=\"M 203.033018 239.758125 \nL 212.575622 239.758125 \nL 212.575622 239.628858 \nL 203.033018 239.628858 \nz\n\" style=\"fill:#1f77b4;\"/>\n   </g>\n   <g id=\"patch_15\">\n    <path clip-path=\"url(#p540a3a352b)\" d=\"M 216.66531 239.758125 \nL 226.207914 239.758125 \nL 226.207914 239.758125 \nL 216.66531 239.758125 \nz\n\" style=\"fill:#1f77b4;\"/>\n   </g>\n   <g id=\"patch_16\">\n    <path clip-path=\"url(#p540a3a352b)\" d=\"M 230.297602 239.758125 \nL 239.840206 239.758125 \nL 239.840206 239.628858 \nL 230.297602 239.628858 \nz\n\" style=\"fill:#1f77b4;\"/>\n   </g>\n   <g id=\"patch_17\">\n    <path clip-path=\"url(#p540a3a352b)\" d=\"M 243.929894 239.758125 \nL 253.472498 239.758125 \nL 253.472498 239.758125 \nL 243.929894 239.758125 \nz\n\" style=\"fill:#1f77b4;\"/>\n   </g>\n   <g id=\"patch_18\">\n    <path clip-path=\"url(#p540a3a352b)\" d=\"M 257.562185 239.758125 \nL 267.10479 239.758125 \nL 267.10479 239.758125 \nL 257.562185 239.758125 \nz\n\" style=\"fill:#1f77b4;\"/>\n   </g>\n   <g id=\"patch_19\">\n    <path clip-path=\"url(#p540a3a352b)\" d=\"M 271.194477 239.758125 \nL 280.737082 239.758125 \nL 280.737082 239.758125 \nL 271.194477 239.758125 \nz\n\" style=\"fill:#1f77b4;\"/>\n   </g>\n   <g id=\"patch_20\">\n    <path clip-path=\"url(#p540a3a352b)\" d=\"M 284.826769 239.758125 \nL 294.369373 239.758125 \nL 294.369373 239.758125 \nL 284.826769 239.758125 \nz\n\" style=\"fill:#1f77b4;\"/>\n   </g>\n   <g id=\"patch_21\">\n    <path clip-path=\"url(#p540a3a352b)\" d=\"M 298.459061 239.758125 \nL 308.001665 239.758125 \nL 308.001665 239.758125 \nL 298.459061 239.758125 \nz\n\" style=\"fill:#1f77b4;\"/>\n   </g>\n   <g id=\"patch_22\">\n    <path clip-path=\"url(#p540a3a352b)\" d=\"M 312.091353 239.758125 \nL 321.633957 239.758125 \nL 321.633957 239.628858 \nL 312.091353 239.628858 \nz\n\" style=\"fill:#1f77b4;\"/>\n   </g>\n   <g id=\"matplotlib.axis_1\">\n    <g id=\"xtick_1\">\n     <g id=\"line2d_1\">\n      <defs>\n       <path d=\"M 0 0 \nL 0 3.5 \n\" id=\"mbdd2b3b401\" style=\"stroke:#000000;stroke-width:0.8;\"/>\n      </defs>\n      <g>\n       <use style=\"stroke:#000000;stroke-width:0.8;\" x=\"57.848837\" xlink:href=\"#mbdd2b3b401\" y=\"239.758125\"/>\n      </g>\n     </g>\n     <g id=\"text_1\">\n      <!-- 0.0 -->\n      <g transform=\"translate(49.897274 254.356562)scale(0.1 -0.1)\">\n       <defs>\n        <path d=\"M 31.78125 66.40625 \nQ 24.171875 66.40625 20.328125 58.90625 \nQ 16.5 51.421875 16.5 36.375 \nQ 16.5 21.390625 20.328125 13.890625 \nQ 24.171875 6.390625 31.78125 6.390625 \nQ 39.453125 6.390625 43.28125 13.890625 \nQ 47.125 21.390625 47.125 36.375 \nQ 47.125 51.421875 43.28125 58.90625 \nQ 39.453125 66.40625 31.78125 66.40625 \nz\nM 31.78125 74.21875 \nQ 44.046875 74.21875 50.515625 64.515625 \nQ 56.984375 54.828125 56.984375 36.375 \nQ 56.984375 17.96875 50.515625 8.265625 \nQ 44.046875 -1.421875 31.78125 -1.421875 \nQ 19.53125 -1.421875 13.0625 8.265625 \nQ 6.59375 17.96875 6.59375 36.375 \nQ 6.59375 54.828125 13.0625 64.515625 \nQ 19.53125 74.21875 31.78125 74.21875 \nz\n\" id=\"DejaVuSans-48\"/>\n        <path d=\"M 10.6875 12.40625 \nL 21 12.40625 \nL 21 0 \nL 10.6875 0 \nz\n\" id=\"DejaVuSans-46\"/>\n       </defs>\n       <use xlink:href=\"#DejaVuSans-48\"/>\n       <use x=\"63.623047\" xlink:href=\"#DejaVuSans-46\"/>\n       <use x=\"95.410156\" xlink:href=\"#DejaVuSans-48\"/>\n      </g>\n     </g>\n    </g>\n    <g id=\"xtick_2\">\n     <g id=\"line2d_2\">\n      <g>\n       <use style=\"stroke:#000000;stroke-width:0.8;\" x=\"112.378114\" xlink:href=\"#mbdd2b3b401\" y=\"239.758125\"/>\n      </g>\n     </g>\n     <g id=\"text_2\">\n      <!-- 0.2 -->\n      <g transform=\"translate(104.426551 254.356562)scale(0.1 -0.1)\">\n       <defs>\n        <path d=\"M 19.1875 8.296875 \nL 53.609375 8.296875 \nL 53.609375 0 \nL 7.328125 0 \nL 7.328125 8.296875 \nQ 12.9375 14.109375 22.625 23.890625 \nQ 32.328125 33.6875 34.8125 36.53125 \nQ 39.546875 41.84375 41.421875 45.53125 \nQ 43.3125 49.21875 43.3125 52.78125 \nQ 43.3125 58.59375 39.234375 62.25 \nQ 35.15625 65.921875 28.609375 65.921875 \nQ 23.96875 65.921875 18.8125 64.3125 \nQ 13.671875 62.703125 7.8125 59.421875 \nL 7.8125 69.390625 \nQ 13.765625 71.78125 18.9375 73 \nQ 24.125 74.21875 28.421875 74.21875 \nQ 39.75 74.21875 46.484375 68.546875 \nQ 53.21875 62.890625 53.21875 53.421875 \nQ 53.21875 48.921875 51.53125 44.890625 \nQ 49.859375 40.875 45.40625 35.40625 \nQ 44.1875 33.984375 37.640625 27.21875 \nQ 31.109375 20.453125 19.1875 8.296875 \nz\n\" id=\"DejaVuSans-50\"/>\n       </defs>\n       <use xlink:href=\"#DejaVuSans-48\"/>\n       <use x=\"63.623047\" xlink:href=\"#DejaVuSans-46\"/>\n       <use x=\"95.410156\" xlink:href=\"#DejaVuSans-50\"/>\n      </g>\n     </g>\n    </g>\n    <g id=\"xtick_3\">\n     <g id=\"line2d_3\">\n      <g>\n       <use style=\"stroke:#000000;stroke-width:0.8;\" x=\"166.90739\" xlink:href=\"#mbdd2b3b401\" y=\"239.758125\"/>\n      </g>\n     </g>\n     <g id=\"text_3\">\n      <!-- 0.4 -->\n      <g transform=\"translate(158.955828 254.356562)scale(0.1 -0.1)\">\n       <defs>\n        <path d=\"M 37.796875 64.3125 \nL 12.890625 25.390625 \nL 37.796875 25.390625 \nz\nM 35.203125 72.90625 \nL 47.609375 72.90625 \nL 47.609375 25.390625 \nL 58.015625 25.390625 \nL 58.015625 17.1875 \nL 47.609375 17.1875 \nL 47.609375 0 \nL 37.796875 0 \nL 37.796875 17.1875 \nL 4.890625 17.1875 \nL 4.890625 26.703125 \nz\n\" id=\"DejaVuSans-52\"/>\n       </defs>\n       <use xlink:href=\"#DejaVuSans-48\"/>\n       <use x=\"63.623047\" xlink:href=\"#DejaVuSans-46\"/>\n       <use x=\"95.410156\" xlink:href=\"#DejaVuSans-52\"/>\n      </g>\n     </g>\n    </g>\n    <g id=\"xtick_4\">\n     <g id=\"line2d_4\">\n      <g>\n       <use style=\"stroke:#000000;stroke-width:0.8;\" x=\"221.436667\" xlink:href=\"#mbdd2b3b401\" y=\"239.758125\"/>\n      </g>\n     </g>\n     <g id=\"text_4\">\n      <!-- 0.6 -->\n      <g transform=\"translate(213.485104 254.356562)scale(0.1 -0.1)\">\n       <defs>\n        <path d=\"M 33.015625 40.375 \nQ 26.375 40.375 22.484375 35.828125 \nQ 18.609375 31.296875 18.609375 23.390625 \nQ 18.609375 15.53125 22.484375 10.953125 \nQ 26.375 6.390625 33.015625 6.390625 \nQ 39.65625 6.390625 43.53125 10.953125 \nQ 47.40625 15.53125 47.40625 23.390625 \nQ 47.40625 31.296875 43.53125 35.828125 \nQ 39.65625 40.375 33.015625 40.375 \nz\nM 52.59375 71.296875 \nL 52.59375 62.3125 \nQ 48.875 64.0625 45.09375 64.984375 \nQ 41.3125 65.921875 37.59375 65.921875 \nQ 27.828125 65.921875 22.671875 59.328125 \nQ 17.53125 52.734375 16.796875 39.40625 \nQ 19.671875 43.65625 24.015625 45.921875 \nQ 28.375 48.1875 33.59375 48.1875 \nQ 44.578125 48.1875 50.953125 41.515625 \nQ 57.328125 34.859375 57.328125 23.390625 \nQ 57.328125 12.15625 50.6875 5.359375 \nQ 44.046875 -1.421875 33.015625 -1.421875 \nQ 20.359375 -1.421875 13.671875 8.265625 \nQ 6.984375 17.96875 6.984375 36.375 \nQ 6.984375 53.65625 15.1875 63.9375 \nQ 23.390625 74.21875 37.203125 74.21875 \nQ 40.921875 74.21875 44.703125 73.484375 \nQ 48.484375 72.75 52.59375 71.296875 \nz\n\" id=\"DejaVuSans-54\"/>\n       </defs>\n       <use xlink:href=\"#DejaVuSans-48\"/>\n       <use x=\"63.623047\" xlink:href=\"#DejaVuSans-46\"/>\n       <use x=\"95.410156\" xlink:href=\"#DejaVuSans-54\"/>\n      </g>\n     </g>\n    </g>\n    <g id=\"xtick_5\">\n     <g id=\"line2d_5\">\n      <g>\n       <use style=\"stroke:#000000;stroke-width:0.8;\" x=\"275.965943\" xlink:href=\"#mbdd2b3b401\" y=\"239.758125\"/>\n      </g>\n     </g>\n     <g id=\"text_5\">\n      <!-- 0.8 -->\n      <g transform=\"translate(268.014381 254.356562)scale(0.1 -0.1)\">\n       <defs>\n        <path d=\"M 31.78125 34.625 \nQ 24.75 34.625 20.71875 30.859375 \nQ 16.703125 27.09375 16.703125 20.515625 \nQ 16.703125 13.921875 20.71875 10.15625 \nQ 24.75 6.390625 31.78125 6.390625 \nQ 38.8125 6.390625 42.859375 10.171875 \nQ 46.921875 13.96875 46.921875 20.515625 \nQ 46.921875 27.09375 42.890625 30.859375 \nQ 38.875 34.625 31.78125 34.625 \nz\nM 21.921875 38.8125 \nQ 15.578125 40.375 12.03125 44.71875 \nQ 8.5 49.078125 8.5 55.328125 \nQ 8.5 64.0625 14.71875 69.140625 \nQ 20.953125 74.21875 31.78125 74.21875 \nQ 42.671875 74.21875 48.875 69.140625 \nQ 55.078125 64.0625 55.078125 55.328125 \nQ 55.078125 49.078125 51.53125 44.71875 \nQ 48 40.375 41.703125 38.8125 \nQ 48.828125 37.15625 52.796875 32.3125 \nQ 56.78125 27.484375 56.78125 20.515625 \nQ 56.78125 9.90625 50.3125 4.234375 \nQ 43.84375 -1.421875 31.78125 -1.421875 \nQ 19.734375 -1.421875 13.25 4.234375 \nQ 6.78125 9.90625 6.78125 20.515625 \nQ 6.78125 27.484375 10.78125 32.3125 \nQ 14.796875 37.15625 21.921875 38.8125 \nz\nM 18.3125 54.390625 \nQ 18.3125 48.734375 21.84375 45.5625 \nQ 25.390625 42.390625 31.78125 42.390625 \nQ 38.140625 42.390625 41.71875 45.5625 \nQ 45.3125 48.734375 45.3125 54.390625 \nQ 45.3125 60.0625 41.71875 63.234375 \nQ 38.140625 66.40625 31.78125 66.40625 \nQ 25.390625 66.40625 21.84375 63.234375 \nQ 18.3125 60.0625 18.3125 54.390625 \nz\n\" id=\"DejaVuSans-56\"/>\n       </defs>\n       <use xlink:href=\"#DejaVuSans-48\"/>\n       <use x=\"63.623047\" xlink:href=\"#DejaVuSans-46\"/>\n       <use x=\"95.410156\" xlink:href=\"#DejaVuSans-56\"/>\n      </g>\n     </g>\n    </g>\n    <g id=\"xtick_6\">\n     <g id=\"line2d_6\">\n      <g>\n       <use style=\"stroke:#000000;stroke-width:0.8;\" x=\"330.49522\" xlink:href=\"#mbdd2b3b401\" y=\"239.758125\"/>\n      </g>\n     </g>\n     <g id=\"text_6\">\n      <!-- 1.0 -->\n      <g transform=\"translate(322.543657 254.356562)scale(0.1 -0.1)\">\n       <defs>\n        <path d=\"M 12.40625 8.296875 \nL 28.515625 8.296875 \nL 28.515625 63.921875 \nL 10.984375 60.40625 \nL 10.984375 69.390625 \nL 28.421875 72.90625 \nL 38.28125 72.90625 \nL 38.28125 8.296875 \nL 54.390625 8.296875 \nL 54.390625 0 \nL 12.40625 0 \nz\n\" id=\"DejaVuSans-49\"/>\n       </defs>\n       <use xlink:href=\"#DejaVuSans-49\"/>\n       <use x=\"63.623047\" xlink:href=\"#DejaVuSans-46\"/>\n       <use x=\"95.410156\" xlink:href=\"#DejaVuSans-48\"/>\n      </g>\n     </g>\n    </g>\n    <g id=\"text_7\">\n     <!-- 1e6 -->\n     <g transform=\"translate(316.18364 267.034687)scale(0.1 -0.1)\">\n      <defs>\n       <path d=\"M 56.203125 29.59375 \nL 56.203125 25.203125 \nL 14.890625 25.203125 \nQ 15.484375 15.921875 20.484375 11.0625 \nQ 25.484375 6.203125 34.421875 6.203125 \nQ 39.59375 6.203125 44.453125 7.46875 \nQ 49.3125 8.734375 54.109375 11.28125 \nL 54.109375 2.78125 \nQ 49.265625 0.734375 44.1875 -0.34375 \nQ 39.109375 -1.421875 33.890625 -1.421875 \nQ 20.796875 -1.421875 13.15625 6.1875 \nQ 5.515625 13.8125 5.515625 26.8125 \nQ 5.515625 40.234375 12.765625 48.109375 \nQ 20.015625 56 32.328125 56 \nQ 43.359375 56 49.78125 48.890625 \nQ 56.203125 41.796875 56.203125 29.59375 \nz\nM 47.21875 32.234375 \nQ 47.125 39.59375 43.09375 43.984375 \nQ 39.0625 48.390625 32.421875 48.390625 \nQ 24.90625 48.390625 20.390625 44.140625 \nQ 15.875 39.890625 15.1875 32.171875 \nz\n\" id=\"DejaVuSans-101\"/>\n      </defs>\n      <use xlink:href=\"#DejaVuSans-49\"/>\n      <use x=\"63.623047\" xlink:href=\"#DejaVuSans-101\"/>\n      <use x=\"125.146484\" xlink:href=\"#DejaVuSans-54\"/>\n     </g>\n    </g>\n   </g>\n   <g id=\"matplotlib.axis_2\">\n    <g id=\"ytick_1\">\n     <g id=\"line2d_7\">\n      <defs>\n       <path d=\"M 0 0 \nL -3.5 0 \n\" id=\"me1211bde9e\" style=\"stroke:#000000;stroke-width:0.8;\"/>\n      </defs>\n      <g>\n       <use style=\"stroke:#000000;stroke-width:0.8;\" x=\"39.65\" xlink:href=\"#me1211bde9e\" y=\"239.758125\"/>\n      </g>\n     </g>\n     <g id=\"text_8\">\n      <!-- 0 -->\n      <g transform=\"translate(26.2875 243.557344)scale(0.1 -0.1)\">\n       <use xlink:href=\"#DejaVuSans-48\"/>\n      </g>\n     </g>\n    </g>\n    <g id=\"ytick_2\">\n     <g id=\"line2d_8\">\n      <g>\n       <use style=\"stroke:#000000;stroke-width:0.8;\" x=\"39.65\" xlink:href=\"#me1211bde9e\" y=\"213.904727\"/>\n      </g>\n     </g>\n     <g id=\"text_9\">\n      <!-- 200 -->\n      <g transform=\"translate(13.5625 217.703946)scale(0.1 -0.1)\">\n       <use xlink:href=\"#DejaVuSans-50\"/>\n       <use x=\"63.623047\" xlink:href=\"#DejaVuSans-48\"/>\n       <use x=\"127.246094\" xlink:href=\"#DejaVuSans-48\"/>\n      </g>\n     </g>\n    </g>\n    <g id=\"ytick_3\">\n     <g id=\"line2d_9\">\n      <g>\n       <use style=\"stroke:#000000;stroke-width:0.8;\" x=\"39.65\" xlink:href=\"#me1211bde9e\" y=\"188.05133\"/>\n      </g>\n     </g>\n     <g id=\"text_10\">\n      <!-- 400 -->\n      <g transform=\"translate(13.5625 191.850549)scale(0.1 -0.1)\">\n       <use xlink:href=\"#DejaVuSans-52\"/>\n       <use x=\"63.623047\" xlink:href=\"#DejaVuSans-48\"/>\n       <use x=\"127.246094\" xlink:href=\"#DejaVuSans-48\"/>\n      </g>\n     </g>\n    </g>\n    <g id=\"ytick_4\">\n     <g id=\"line2d_10\">\n      <g>\n       <use style=\"stroke:#000000;stroke-width:0.8;\" x=\"39.65\" xlink:href=\"#me1211bde9e\" y=\"162.197932\"/>\n      </g>\n     </g>\n     <g id=\"text_11\">\n      <!-- 600 -->\n      <g transform=\"translate(13.5625 165.997151)scale(0.1 -0.1)\">\n       <use xlink:href=\"#DejaVuSans-54\"/>\n       <use x=\"63.623047\" xlink:href=\"#DejaVuSans-48\"/>\n       <use x=\"127.246094\" xlink:href=\"#DejaVuSans-48\"/>\n      </g>\n     </g>\n    </g>\n    <g id=\"ytick_5\">\n     <g id=\"line2d_11\">\n      <g>\n       <use style=\"stroke:#000000;stroke-width:0.8;\" x=\"39.65\" xlink:href=\"#me1211bde9e\" y=\"136.344535\"/>\n      </g>\n     </g>\n     <g id=\"text_12\">\n      <!-- 800 -->\n      <g transform=\"translate(13.5625 140.143754)scale(0.1 -0.1)\">\n       <use xlink:href=\"#DejaVuSans-56\"/>\n       <use x=\"63.623047\" xlink:href=\"#DejaVuSans-48\"/>\n       <use x=\"127.246094\" xlink:href=\"#DejaVuSans-48\"/>\n      </g>\n     </g>\n    </g>\n    <g id=\"ytick_6\">\n     <g id=\"line2d_12\">\n      <g>\n       <use style=\"stroke:#000000;stroke-width:0.8;\" x=\"39.65\" xlink:href=\"#me1211bde9e\" y=\"110.491137\"/>\n      </g>\n     </g>\n     <g id=\"text_13\">\n      <!-- 1000 -->\n      <g transform=\"translate(7.2 114.290356)scale(0.1 -0.1)\">\n       <use xlink:href=\"#DejaVuSans-49\"/>\n       <use x=\"63.623047\" xlink:href=\"#DejaVuSans-48\"/>\n       <use x=\"127.246094\" xlink:href=\"#DejaVuSans-48\"/>\n       <use x=\"190.869141\" xlink:href=\"#DejaVuSans-48\"/>\n      </g>\n     </g>\n    </g>\n    <g id=\"ytick_7\">\n     <g id=\"line2d_13\">\n      <g>\n       <use style=\"stroke:#000000;stroke-width:0.8;\" x=\"39.65\" xlink:href=\"#me1211bde9e\" y=\"84.63774\"/>\n      </g>\n     </g>\n     <g id=\"text_14\">\n      <!-- 1200 -->\n      <g transform=\"translate(7.2 88.436959)scale(0.1 -0.1)\">\n       <use xlink:href=\"#DejaVuSans-49\"/>\n       <use x=\"63.623047\" xlink:href=\"#DejaVuSans-50\"/>\n       <use x=\"127.246094\" xlink:href=\"#DejaVuSans-48\"/>\n       <use x=\"190.869141\" xlink:href=\"#DejaVuSans-48\"/>\n      </g>\n     </g>\n    </g>\n    <g id=\"ytick_8\">\n     <g id=\"line2d_14\">\n      <g>\n       <use style=\"stroke:#000000;stroke-width:0.8;\" x=\"39.65\" xlink:href=\"#me1211bde9e\" y=\"58.784342\"/>\n      </g>\n     </g>\n     <g id=\"text_15\">\n      <!-- 1400 -->\n      <g transform=\"translate(7.2 62.583561)scale(0.1 -0.1)\">\n       <use xlink:href=\"#DejaVuSans-49\"/>\n       <use x=\"63.623047\" xlink:href=\"#DejaVuSans-52\"/>\n       <use x=\"127.246094\" xlink:href=\"#DejaVuSans-48\"/>\n       <use x=\"190.869141\" xlink:href=\"#DejaVuSans-48\"/>\n      </g>\n     </g>\n    </g>\n    <g id=\"ytick_9\">\n     <g id=\"line2d_15\">\n      <g>\n       <use style=\"stroke:#000000;stroke-width:0.8;\" x=\"39.65\" xlink:href=\"#me1211bde9e\" y=\"32.930945\"/>\n      </g>\n     </g>\n     <g id=\"text_16\">\n      <!-- 1600 -->\n      <g transform=\"translate(7.2 36.730163)scale(0.1 -0.1)\">\n       <use xlink:href=\"#DejaVuSans-49\"/>\n       <use x=\"63.623047\" xlink:href=\"#DejaVuSans-54\"/>\n       <use x=\"127.246094\" xlink:href=\"#DejaVuSans-48\"/>\n       <use x=\"190.869141\" xlink:href=\"#DejaVuSans-48\"/>\n      </g>\n     </g>\n    </g>\n   </g>\n   <g id=\"patch_23\">\n    <path d=\"M 39.65 239.758125 \nL 39.65 22.318125 \n\" style=\"fill:none;stroke:#000000;stroke-linecap:square;stroke-linejoin:miter;stroke-width:0.8;\"/>\n   </g>\n   <g id=\"patch_24\">\n    <path d=\"M 335.061765 239.758125 \nL 335.061765 22.318125 \n\" style=\"fill:none;stroke:#000000;stroke-linecap:square;stroke-linejoin:miter;stroke-width:0.8;\"/>\n   </g>\n   <g id=\"patch_25\">\n    <path d=\"M 39.65 239.758125 \nL 335.061765 239.758125 \n\" style=\"fill:none;stroke:#000000;stroke-linecap:square;stroke-linejoin:miter;stroke-width:0.8;\"/>\n   </g>\n   <g id=\"patch_26\">\n    <path d=\"M 39.65 22.318125 \nL 335.061765 22.318125 \n\" style=\"fill:none;stroke:#000000;stroke-linecap:square;stroke-linejoin:miter;stroke-width:0.8;\"/>\n   </g>\n   <g id=\"text_17\">\n    <!-- mileage -->\n    <g transform=\"translate(163.30807 16.318125)scale(0.12 -0.12)\">\n     <defs>\n      <path d=\"M 52 44.1875 \nQ 55.375 50.25 60.0625 53.125 \nQ 64.75 56 71.09375 56 \nQ 79.640625 56 84.28125 50.015625 \nQ 88.921875 44.046875 88.921875 33.015625 \nL 88.921875 0 \nL 79.890625 0 \nL 79.890625 32.71875 \nQ 79.890625 40.578125 77.09375 44.375 \nQ 74.3125 48.1875 68.609375 48.1875 \nQ 61.625 48.1875 57.5625 43.546875 \nQ 53.515625 38.921875 53.515625 30.90625 \nL 53.515625 0 \nL 44.484375 0 \nL 44.484375 32.71875 \nQ 44.484375 40.625 41.703125 44.40625 \nQ 38.921875 48.1875 33.109375 48.1875 \nQ 26.21875 48.1875 22.15625 43.53125 \nQ 18.109375 38.875 18.109375 30.90625 \nL 18.109375 0 \nL 9.078125 0 \nL 9.078125 54.6875 \nL 18.109375 54.6875 \nL 18.109375 46.1875 \nQ 21.1875 51.21875 25.484375 53.609375 \nQ 29.78125 56 35.6875 56 \nQ 41.65625 56 45.828125 52.96875 \nQ 50 49.953125 52 44.1875 \nz\n\" id=\"DejaVuSans-109\"/>\n      <path d=\"M 9.421875 54.6875 \nL 18.40625 54.6875 \nL 18.40625 0 \nL 9.421875 0 \nz\nM 9.421875 75.984375 \nL 18.40625 75.984375 \nL 18.40625 64.59375 \nL 9.421875 64.59375 \nz\n\" id=\"DejaVuSans-105\"/>\n      <path d=\"M 9.421875 75.984375 \nL 18.40625 75.984375 \nL 18.40625 0 \nL 9.421875 0 \nz\n\" id=\"DejaVuSans-108\"/>\n      <path d=\"M 34.28125 27.484375 \nQ 23.390625 27.484375 19.1875 25 \nQ 14.984375 22.515625 14.984375 16.5 \nQ 14.984375 11.71875 18.140625 8.90625 \nQ 21.296875 6.109375 26.703125 6.109375 \nQ 34.1875 6.109375 38.703125 11.40625 \nQ 43.21875 16.703125 43.21875 25.484375 \nL 43.21875 27.484375 \nz\nM 52.203125 31.203125 \nL 52.203125 0 \nL 43.21875 0 \nL 43.21875 8.296875 \nQ 40.140625 3.328125 35.546875 0.953125 \nQ 30.953125 -1.421875 24.3125 -1.421875 \nQ 15.921875 -1.421875 10.953125 3.296875 \nQ 6 8.015625 6 15.921875 \nQ 6 25.140625 12.171875 29.828125 \nQ 18.359375 34.515625 30.609375 34.515625 \nL 43.21875 34.515625 \nL 43.21875 35.40625 \nQ 43.21875 41.609375 39.140625 45 \nQ 35.0625 48.390625 27.6875 48.390625 \nQ 23 48.390625 18.546875 47.265625 \nQ 14.109375 46.140625 10.015625 43.890625 \nL 10.015625 52.203125 \nQ 14.9375 54.109375 19.578125 55.046875 \nQ 24.21875 56 28.609375 56 \nQ 40.484375 56 46.34375 49.84375 \nQ 52.203125 43.703125 52.203125 31.203125 \nz\n\" id=\"DejaVuSans-97\"/>\n      <path d=\"M 45.40625 27.984375 \nQ 45.40625 37.75 41.375 43.109375 \nQ 37.359375 48.484375 30.078125 48.484375 \nQ 22.859375 48.484375 18.828125 43.109375 \nQ 14.796875 37.75 14.796875 27.984375 \nQ 14.796875 18.265625 18.828125 12.890625 \nQ 22.859375 7.515625 30.078125 7.515625 \nQ 37.359375 7.515625 41.375 12.890625 \nQ 45.40625 18.265625 45.40625 27.984375 \nz\nM 54.390625 6.78125 \nQ 54.390625 -7.171875 48.1875 -13.984375 \nQ 42 -20.796875 29.203125 -20.796875 \nQ 24.46875 -20.796875 20.265625 -20.09375 \nQ 16.0625 -19.390625 12.109375 -17.921875 \nL 12.109375 -9.1875 \nQ 16.0625 -11.328125 19.921875 -12.34375 \nQ 23.78125 -13.375 27.78125 -13.375 \nQ 36.625 -13.375 41.015625 -8.765625 \nQ 45.40625 -4.15625 45.40625 5.171875 \nL 45.40625 9.625 \nQ 42.625 4.78125 38.28125 2.390625 \nQ 33.9375 0 27.875 0 \nQ 17.828125 0 11.671875 7.65625 \nQ 5.515625 15.328125 5.515625 27.984375 \nQ 5.515625 40.671875 11.671875 48.328125 \nQ 17.828125 56 27.875 56 \nQ 33.9375 56 38.28125 53.609375 \nQ 42.625 51.21875 45.40625 46.390625 \nL 45.40625 54.6875 \nL 54.390625 54.6875 \nz\n\" id=\"DejaVuSans-103\"/>\n     </defs>\n     <use xlink:href=\"#DejaVuSans-109\"/>\n     <use x=\"97.412109\" xlink:href=\"#DejaVuSans-105\"/>\n     <use x=\"125.195312\" xlink:href=\"#DejaVuSans-108\"/>\n     <use x=\"152.978516\" xlink:href=\"#DejaVuSans-101\"/>\n     <use x=\"214.501953\" xlink:href=\"#DejaVuSans-97\"/>\n     <use x=\"275.78125\" xlink:href=\"#DejaVuSans-103\"/>\n     <use x=\"339.257812\" xlink:href=\"#DejaVuSans-101\"/>\n    </g>\n   </g>\n  </g>\n  <g id=\"axes_2\">\n   <g id=\"patch_27\">\n    <path d=\"M 394.144118 239.758125 \nL 689.555882 239.758125 \nL 689.555882 22.318125 \nL 394.144118 22.318125 \nz\n\" style=\"fill:#ffffff;\"/>\n   </g>\n   <g id=\"patch_28\">\n    <path clip-path=\"url(#p75ebf3a5e9)\" d=\"M 407.571925 239.758125 \nL 417.114529 239.758125 \nL 417.114529 239.123866 \nL 407.571925 239.123866 \nz\n\" style=\"fill:#1f77b4;\"/>\n   </g>\n   <g id=\"patch_29\">\n    <path clip-path=\"url(#p75ebf3a5e9)\" d=\"M 421.204217 239.758125 \nL 430.746821 239.758125 \nL 430.746821 239.28243 \nL 421.204217 239.28243 \nz\n\" style=\"fill:#1f77b4;\"/>\n   </g>\n   <g id=\"patch_30\">\n    <path clip-path=\"url(#p75ebf3a5e9)\" d=\"M 434.836509 239.758125 \nL 444.379113 239.758125 \nL 444.379113 239.440995 \nL 434.836509 239.440995 \nz\n\" style=\"fill:#1f77b4;\"/>\n   </g>\n   <g id=\"patch_31\">\n    <path clip-path=\"url(#p75ebf3a5e9)\" d=\"M 448.468801 239.758125 \nL 458.011405 239.758125 \nL 458.011405 238.965301 \nL 448.468801 238.965301 \nz\n\" style=\"fill:#1f77b4;\"/>\n   </g>\n   <g id=\"patch_32\">\n    <path clip-path=\"url(#p75ebf3a5e9)\" d=\"M 462.101093 239.758125 \nL 471.643697 239.758125 \nL 471.643697 238.489606 \nL 462.101093 238.489606 \nz\n\" style=\"fill:#1f77b4;\"/>\n   </g>\n   <g id=\"patch_33\">\n    <path clip-path=\"url(#p75ebf3a5e9)\" d=\"M 475.733384 239.758125 \nL 485.275989 239.758125 \nL 485.275989 237.696782 \nL 475.733384 237.696782 \nz\n\" style=\"fill:#1f77b4;\"/>\n   </g>\n   <g id=\"patch_34\">\n    <path clip-path=\"url(#p75ebf3a5e9)\" d=\"M 489.365676 239.758125 \nL 498.908281 239.758125 \nL 498.908281 233.256966 \nL 489.365676 233.256966 \nz\n\" style=\"fill:#1f77b4;\"/>\n   </g>\n   <g id=\"patch_35\">\n    <path clip-path=\"url(#p75ebf3a5e9)\" d=\"M 502.997968 239.758125 \nL 512.540572 239.758125 \nL 512.540572 237.221087 \nL 502.997968 237.221087 \nz\n\" style=\"fill:#1f77b4;\"/>\n   </g>\n   <g id=\"patch_36\">\n    <path clip-path=\"url(#p75ebf3a5e9)\" d=\"M 516.63026 239.758125 \nL 526.172864 239.758125 \nL 526.172864 236.111133 \nL 516.63026 236.111133 \nz\n\" style=\"fill:#1f77b4;\"/>\n   </g>\n   <g id=\"patch_37\">\n    <path clip-path=\"url(#p75ebf3a5e9)\" d=\"M 530.262552 239.758125 \nL 539.805156 239.758125 \nL 539.805156 235.318309 \nL 530.262552 235.318309 \nz\n\" style=\"fill:#1f77b4;\"/>\n   </g>\n   <g id=\"patch_38\">\n    <path clip-path=\"url(#p75ebf3a5e9)\" d=\"M 543.894844 239.758125 \nL 553.437448 239.758125 \nL 553.437448 223.743074 \nL 543.894844 223.743074 \nz\n\" style=\"fill:#1f77b4;\"/>\n   </g>\n   <g id=\"patch_39\">\n    <path clip-path=\"url(#p75ebf3a5e9)\" d=\"M 557.527136 239.758125 \nL 567.06974 239.758125 \nL 567.06974 220.413211 \nL 557.527136 220.413211 \nz\n\" style=\"fill:#1f77b4;\"/>\n   </g>\n   <g id=\"patch_40\">\n    <path clip-path=\"url(#p75ebf3a5e9)\" d=\"M 571.159428 239.758125 \nL 580.702032 239.758125 \nL 580.702032 204.39816 \nL 571.159428 204.39816 \nz\n\" style=\"fill:#1f77b4;\"/>\n   </g>\n   <g id=\"patch_41\">\n    <path clip-path=\"url(#p75ebf3a5e9)\" d=\"M 584.791719 239.758125 \nL 594.334324 239.758125 \nL 594.334324 165.232638 \nL 584.791719 165.232638 \nz\n\" style=\"fill:#1f77b4;\"/>\n   </g>\n   <g id=\"patch_42\">\n    <path clip-path=\"url(#p75ebf3a5e9)\" d=\"M 598.424011 239.758125 \nL 607.966616 239.758125 \nL 607.966616 127.969895 \nL 598.424011 127.969895 \nz\n\" style=\"fill:#1f77b4;\"/>\n   </g>\n   <g id=\"patch_43\">\n    <path clip-path=\"url(#p75ebf3a5e9)\" d=\"M 612.056303 239.758125 \nL 621.598907 239.758125 \nL 621.598907 32.672411 \nL 612.056303 32.672411 \nz\n\" style=\"fill:#1f77b4;\"/>\n   </g>\n   <g id=\"patch_44\">\n    <path clip-path=\"url(#p75ebf3a5e9)\" d=\"M 625.688595 239.758125 \nL 635.231199 239.758125 \nL 635.231199 65.971032 \nL 625.688595 65.971032 \nz\n\" style=\"fill:#1f77b4;\"/>\n   </g>\n   <g id=\"patch_45\">\n    <path clip-path=\"url(#p75ebf3a5e9)\" d=\"M 639.320887 239.758125 \nL 648.863491 239.758125 \nL 648.863491 63.909689 \nL 639.320887 63.909689 \nz\n\" style=\"fill:#1f77b4;\"/>\n   </g>\n   <g id=\"patch_46\">\n    <path clip-path=\"url(#p75ebf3a5e9)\" d=\"M 652.953179 239.758125 \nL 662.495783 239.758125 \nL 662.495783 94.988403 \nL 652.953179 94.988403 \nz\n\" style=\"fill:#1f77b4;\"/>\n   </g>\n   <g id=\"patch_47\">\n    <path clip-path=\"url(#p75ebf3a5e9)\" d=\"M 666.585471 239.758125 \nL 676.128075 239.758125 \nL 676.128075 161.427081 \nL 666.585471 161.427081 \nz\n\" style=\"fill:#1f77b4;\"/>\n   </g>\n   <g id=\"matplotlib.axis_3\">\n    <g id=\"xtick_7\">\n     <g id=\"line2d_16\">\n      <g>\n       <use style=\"stroke:#000000;stroke-width:0.8;\" x=\"443.325709\" xlink:href=\"#mbdd2b3b401\" y=\"239.758125\"/>\n      </g>\n     </g>\n     <g id=\"text_18\">\n      <!-- 1980 -->\n      <g transform=\"translate(430.600709 254.356562)scale(0.1 -0.1)\">\n       <defs>\n        <path d=\"M 10.984375 1.515625 \nL 10.984375 10.5 \nQ 14.703125 8.734375 18.5 7.8125 \nQ 22.3125 6.890625 25.984375 6.890625 \nQ 35.75 6.890625 40.890625 13.453125 \nQ 46.046875 20.015625 46.78125 33.40625 \nQ 43.953125 29.203125 39.59375 26.953125 \nQ 35.25 24.703125 29.984375 24.703125 \nQ 19.046875 24.703125 12.671875 31.3125 \nQ 6.296875 37.9375 6.296875 49.421875 \nQ 6.296875 60.640625 12.9375 67.421875 \nQ 19.578125 74.21875 30.609375 74.21875 \nQ 43.265625 74.21875 49.921875 64.515625 \nQ 56.59375 54.828125 56.59375 36.375 \nQ 56.59375 19.140625 48.40625 8.859375 \nQ 40.234375 -1.421875 26.421875 -1.421875 \nQ 22.703125 -1.421875 18.890625 -0.6875 \nQ 15.09375 0.046875 10.984375 1.515625 \nz\nM 30.609375 32.421875 \nQ 37.25 32.421875 41.125 36.953125 \nQ 45.015625 41.5 45.015625 49.421875 \nQ 45.015625 57.28125 41.125 61.84375 \nQ 37.25 66.40625 30.609375 66.40625 \nQ 23.96875 66.40625 20.09375 61.84375 \nQ 16.21875 57.28125 16.21875 49.421875 \nQ 16.21875 41.5 20.09375 36.953125 \nQ 23.96875 32.421875 30.609375 32.421875 \nz\n\" id=\"DejaVuSans-57\"/>\n       </defs>\n       <use xlink:href=\"#DejaVuSans-49\"/>\n       <use x=\"63.623047\" xlink:href=\"#DejaVuSans-57\"/>\n       <use x=\"127.246094\" xlink:href=\"#DejaVuSans-56\"/>\n       <use x=\"190.869141\" xlink:href=\"#DejaVuSans-48\"/>\n      </g>\n     </g>\n    </g>\n    <g id=\"xtick_8\">\n     <g id=\"line2d_17\">\n      <g>\n       <use style=\"stroke:#000000;stroke-width:0.8;\" x=\"505.290672\" xlink:href=\"#mbdd2b3b401\" y=\"239.758125\"/>\n      </g>\n     </g>\n     <g id=\"text_19\">\n      <!-- 1990 -->\n      <g transform=\"translate(492.565672 254.356562)scale(0.1 -0.1)\">\n       <use xlink:href=\"#DejaVuSans-49\"/>\n       <use x=\"63.623047\" xlink:href=\"#DejaVuSans-57\"/>\n       <use x=\"127.246094\" xlink:href=\"#DejaVuSans-57\"/>\n       <use x=\"190.869141\" xlink:href=\"#DejaVuSans-48\"/>\n      </g>\n     </g>\n    </g>\n    <g id=\"xtick_9\">\n     <g id=\"line2d_18\">\n      <g>\n       <use style=\"stroke:#000000;stroke-width:0.8;\" x=\"567.255635\" xlink:href=\"#mbdd2b3b401\" y=\"239.758125\"/>\n      </g>\n     </g>\n     <g id=\"text_20\">\n      <!-- 2000 -->\n      <g transform=\"translate(554.530635 254.356562)scale(0.1 -0.1)\">\n       <use xlink:href=\"#DejaVuSans-50\"/>\n       <use x=\"63.623047\" xlink:href=\"#DejaVuSans-48\"/>\n       <use x=\"127.246094\" xlink:href=\"#DejaVuSans-48\"/>\n       <use x=\"190.869141\" xlink:href=\"#DejaVuSans-48\"/>\n      </g>\n     </g>\n    </g>\n    <g id=\"xtick_10\">\n     <g id=\"line2d_19\">\n      <g>\n       <use style=\"stroke:#000000;stroke-width:0.8;\" x=\"629.220598\" xlink:href=\"#mbdd2b3b401\" y=\"239.758125\"/>\n      </g>\n     </g>\n     <g id=\"text_21\">\n      <!-- 2010 -->\n      <g transform=\"translate(616.495598 254.356562)scale(0.1 -0.1)\">\n       <use xlink:href=\"#DejaVuSans-50\"/>\n       <use x=\"63.623047\" xlink:href=\"#DejaVuSans-48\"/>\n       <use x=\"127.246094\" xlink:href=\"#DejaVuSans-49\"/>\n       <use x=\"190.869141\" xlink:href=\"#DejaVuSans-48\"/>\n      </g>\n     </g>\n    </g>\n   </g>\n   <g id=\"matplotlib.axis_4\">\n    <g id=\"ytick_10\">\n     <g id=\"line2d_20\">\n      <g>\n       <use style=\"stroke:#000000;stroke-width:0.8;\" x=\"394.144118\" xlink:href=\"#me1211bde9e\" y=\"239.758125\"/>\n      </g>\n     </g>\n     <g id=\"text_22\">\n      <!-- 0 -->\n      <g transform=\"translate(380.781618 243.557344)scale(0.1 -0.1)\">\n       <use xlink:href=\"#DejaVuSans-48\"/>\n      </g>\n     </g>\n    </g>\n    <g id=\"ytick_11\">\n     <g id=\"line2d_21\">\n      <g>\n       <use style=\"stroke:#000000;stroke-width:0.8;\" x=\"394.144118\" xlink:href=\"#me1211bde9e\" y=\"208.045152\"/>\n      </g>\n     </g>\n     <g id=\"text_23\">\n      <!-- 200 -->\n      <g transform=\"translate(368.056618 211.844371)scale(0.1 -0.1)\">\n       <use xlink:href=\"#DejaVuSans-50\"/>\n       <use x=\"63.623047\" xlink:href=\"#DejaVuSans-48\"/>\n       <use x=\"127.246094\" xlink:href=\"#DejaVuSans-48\"/>\n      </g>\n     </g>\n    </g>\n    <g id=\"ytick_12\">\n     <g id=\"line2d_22\">\n      <g>\n       <use style=\"stroke:#000000;stroke-width:0.8;\" x=\"394.144118\" xlink:href=\"#me1211bde9e\" y=\"176.332179\"/>\n      </g>\n     </g>\n     <g id=\"text_24\">\n      <!-- 400 -->\n      <g transform=\"translate(368.056618 180.131398)scale(0.1 -0.1)\">\n       <use xlink:href=\"#DejaVuSans-52\"/>\n       <use x=\"63.623047\" xlink:href=\"#DejaVuSans-48\"/>\n       <use x=\"127.246094\" xlink:href=\"#DejaVuSans-48\"/>\n      </g>\n     </g>\n    </g>\n    <g id=\"ytick_13\">\n     <g id=\"line2d_23\">\n      <g>\n       <use style=\"stroke:#000000;stroke-width:0.8;\" x=\"394.144118\" xlink:href=\"#me1211bde9e\" y=\"144.619206\"/>\n      </g>\n     </g>\n     <g id=\"text_25\">\n      <!-- 600 -->\n      <g transform=\"translate(368.056618 148.418424)scale(0.1 -0.1)\">\n       <use xlink:href=\"#DejaVuSans-54\"/>\n       <use x=\"63.623047\" xlink:href=\"#DejaVuSans-48\"/>\n       <use x=\"127.246094\" xlink:href=\"#DejaVuSans-48\"/>\n      </g>\n     </g>\n    </g>\n    <g id=\"ytick_14\">\n     <g id=\"line2d_24\">\n      <g>\n       <use style=\"stroke:#000000;stroke-width:0.8;\" x=\"394.144118\" xlink:href=\"#me1211bde9e\" y=\"112.906233\"/>\n      </g>\n     </g>\n     <g id=\"text_26\">\n      <!-- 800 -->\n      <g transform=\"translate(368.056618 116.705451)scale(0.1 -0.1)\">\n       <use xlink:href=\"#DejaVuSans-56\"/>\n       <use x=\"63.623047\" xlink:href=\"#DejaVuSans-48\"/>\n       <use x=\"127.246094\" xlink:href=\"#DejaVuSans-48\"/>\n      </g>\n     </g>\n    </g>\n    <g id=\"ytick_15\">\n     <g id=\"line2d_25\">\n      <g>\n       <use style=\"stroke:#000000;stroke-width:0.8;\" x=\"394.144118\" xlink:href=\"#me1211bde9e\" y=\"81.19326\"/>\n      </g>\n     </g>\n     <g id=\"text_27\">\n      <!-- 1000 -->\n      <g transform=\"translate(361.694118 84.992478)scale(0.1 -0.1)\">\n       <use xlink:href=\"#DejaVuSans-49\"/>\n       <use x=\"63.623047\" xlink:href=\"#DejaVuSans-48\"/>\n       <use x=\"127.246094\" xlink:href=\"#DejaVuSans-48\"/>\n       <use x=\"190.869141\" xlink:href=\"#DejaVuSans-48\"/>\n      </g>\n     </g>\n    </g>\n    <g id=\"ytick_16\">\n     <g id=\"line2d_26\">\n      <g>\n       <use style=\"stroke:#000000;stroke-width:0.8;\" x=\"394.144118\" xlink:href=\"#me1211bde9e\" y=\"49.480286\"/>\n      </g>\n     </g>\n     <g id=\"text_28\">\n      <!-- 1200 -->\n      <g transform=\"translate(361.694118 53.279505)scale(0.1 -0.1)\">\n       <use xlink:href=\"#DejaVuSans-49\"/>\n       <use x=\"63.623047\" xlink:href=\"#DejaVuSans-50\"/>\n       <use x=\"127.246094\" xlink:href=\"#DejaVuSans-48\"/>\n       <use x=\"190.869141\" xlink:href=\"#DejaVuSans-48\"/>\n      </g>\n     </g>\n    </g>\n   </g>\n   <g id=\"patch_48\">\n    <path d=\"M 394.144118 239.758125 \nL 394.144118 22.318125 \n\" style=\"fill:none;stroke:#000000;stroke-linecap:square;stroke-linejoin:miter;stroke-width:0.8;\"/>\n   </g>\n   <g id=\"patch_49\">\n    <path d=\"M 689.555882 239.758125 \nL 689.555882 22.318125 \n\" style=\"fill:none;stroke:#000000;stroke-linecap:square;stroke-linejoin:miter;stroke-width:0.8;\"/>\n   </g>\n   <g id=\"patch_50\">\n    <path d=\"M 394.144118 239.758125 \nL 689.555882 239.758125 \n\" style=\"fill:none;stroke:#000000;stroke-linecap:square;stroke-linejoin:miter;stroke-width:0.8;\"/>\n   </g>\n   <g id=\"patch_51\">\n    <path d=\"M 394.144118 22.318125 \nL 689.555882 22.318125 \n\" style=\"fill:none;stroke:#000000;stroke-linecap:square;stroke-linejoin:miter;stroke-width:0.8;\"/>\n   </g>\n   <g id=\"text_29\">\n    <!-- modelDate -->\n    <g transform=\"translate(508.825625 16.318125)scale(0.12 -0.12)\">\n     <defs>\n      <path d=\"M 30.609375 48.390625 \nQ 23.390625 48.390625 19.1875 42.75 \nQ 14.984375 37.109375 14.984375 27.296875 \nQ 14.984375 17.484375 19.15625 11.84375 \nQ 23.34375 6.203125 30.609375 6.203125 \nQ 37.796875 6.203125 41.984375 11.859375 \nQ 46.1875 17.53125 46.1875 27.296875 \nQ 46.1875 37.015625 41.984375 42.703125 \nQ 37.796875 48.390625 30.609375 48.390625 \nz\nM 30.609375 56 \nQ 42.328125 56 49.015625 48.375 \nQ 55.71875 40.765625 55.71875 27.296875 \nQ 55.71875 13.875 49.015625 6.21875 \nQ 42.328125 -1.421875 30.609375 -1.421875 \nQ 18.84375 -1.421875 12.171875 6.21875 \nQ 5.515625 13.875 5.515625 27.296875 \nQ 5.515625 40.765625 12.171875 48.375 \nQ 18.84375 56 30.609375 56 \nz\n\" id=\"DejaVuSans-111\"/>\n      <path d=\"M 45.40625 46.390625 \nL 45.40625 75.984375 \nL 54.390625 75.984375 \nL 54.390625 0 \nL 45.40625 0 \nL 45.40625 8.203125 \nQ 42.578125 3.328125 38.25 0.953125 \nQ 33.9375 -1.421875 27.875 -1.421875 \nQ 17.96875 -1.421875 11.734375 6.484375 \nQ 5.515625 14.40625 5.515625 27.296875 \nQ 5.515625 40.1875 11.734375 48.09375 \nQ 17.96875 56 27.875 56 \nQ 33.9375 56 38.25 53.625 \nQ 42.578125 51.265625 45.40625 46.390625 \nz\nM 14.796875 27.296875 \nQ 14.796875 17.390625 18.875 11.75 \nQ 22.953125 6.109375 30.078125 6.109375 \nQ 37.203125 6.109375 41.296875 11.75 \nQ 45.40625 17.390625 45.40625 27.296875 \nQ 45.40625 37.203125 41.296875 42.84375 \nQ 37.203125 48.484375 30.078125 48.484375 \nQ 22.953125 48.484375 18.875 42.84375 \nQ 14.796875 37.203125 14.796875 27.296875 \nz\n\" id=\"DejaVuSans-100\"/>\n      <path d=\"M 19.671875 64.796875 \nL 19.671875 8.109375 \nL 31.59375 8.109375 \nQ 46.6875 8.109375 53.6875 14.9375 \nQ 60.6875 21.78125 60.6875 36.53125 \nQ 60.6875 51.171875 53.6875 57.984375 \nQ 46.6875 64.796875 31.59375 64.796875 \nz\nM 9.8125 72.90625 \nL 30.078125 72.90625 \nQ 51.265625 72.90625 61.171875 64.09375 \nQ 71.09375 55.28125 71.09375 36.53125 \nQ 71.09375 17.671875 61.125 8.828125 \nQ 51.171875 0 30.078125 0 \nL 9.8125 0 \nz\n\" id=\"DejaVuSans-68\"/>\n      <path d=\"M 18.3125 70.21875 \nL 18.3125 54.6875 \nL 36.8125 54.6875 \nL 36.8125 47.703125 \nL 18.3125 47.703125 \nL 18.3125 18.015625 \nQ 18.3125 11.328125 20.140625 9.421875 \nQ 21.96875 7.515625 27.59375 7.515625 \nL 36.8125 7.515625 \nL 36.8125 0 \nL 27.59375 0 \nQ 17.1875 0 13.234375 3.875 \nQ 9.28125 7.765625 9.28125 18.015625 \nL 9.28125 47.703125 \nL 2.6875 47.703125 \nL 2.6875 54.6875 \nL 9.28125 54.6875 \nL 9.28125 70.21875 \nz\n\" id=\"DejaVuSans-116\"/>\n     </defs>\n     <use xlink:href=\"#DejaVuSans-109\"/>\n     <use x=\"97.412109\" xlink:href=\"#DejaVuSans-111\"/>\n     <use x=\"158.59375\" xlink:href=\"#DejaVuSans-100\"/>\n     <use x=\"222.070312\" xlink:href=\"#DejaVuSans-101\"/>\n     <use x=\"283.59375\" xlink:href=\"#DejaVuSans-108\"/>\n     <use x=\"311.376953\" xlink:href=\"#DejaVuSans-68\"/>\n     <use x=\"388.378906\" xlink:href=\"#DejaVuSans-97\"/>\n     <use x=\"449.658203\" xlink:href=\"#DejaVuSans-116\"/>\n     <use x=\"488.867188\" xlink:href=\"#DejaVuSans-101\"/>\n    </g>\n   </g>\n  </g>\n  <g id=\"axes_3\">\n   <g id=\"patch_52\">\n    <path d=\"M 748.638235 239.758125 \nL 1044.05 239.758125 \nL 1044.05 22.318125 \nL 748.638235 22.318125 \nz\n\" style=\"fill:#ffffff;\"/>\n   </g>\n   <g id=\"patch_53\">\n    <path clip-path=\"url(#pa7e5b2442e)\" d=\"M 762.066043 239.758125 \nL 771.608647 239.758125 \nL 771.608647 239.057327 \nL 762.066043 239.057327 \nz\n\" style=\"fill:#1f77b4;\"/>\n   </g>\n   <g id=\"patch_54\">\n    <path clip-path=\"url(#pa7e5b2442e)\" d=\"M 775.698335 239.758125 \nL 785.240939 239.758125 \nL 785.240939 238.882128 \nL 775.698335 238.882128 \nz\n\" style=\"fill:#1f77b4;\"/>\n   </g>\n   <g id=\"patch_55\">\n    <path clip-path=\"url(#pa7e5b2442e)\" d=\"M 789.330627 239.758125 \nL 798.873231 239.758125 \nL 798.873231 239.057327 \nL 789.330627 239.057327 \nz\n\" style=\"fill:#1f77b4;\"/>\n   </g>\n   <g id=\"patch_56\">\n    <path clip-path=\"url(#pa7e5b2442e)\" d=\"M 802.962918 239.758125 \nL 812.505523 239.758125 \nL 812.505523 238.882128 \nL 802.962918 238.882128 \nz\n\" style=\"fill:#1f77b4;\"/>\n   </g>\n   <g id=\"patch_57\">\n    <path clip-path=\"url(#pa7e5b2442e)\" d=\"M 816.59521 239.758125 \nL 826.137815 239.758125 \nL 826.137815 238.706928 \nL 816.59521 238.706928 \nz\n\" style=\"fill:#1f77b4;\"/>\n   </g>\n   <g id=\"patch_58\">\n    <path clip-path=\"url(#pa7e5b2442e)\" d=\"M 830.227502 239.758125 \nL 839.770106 239.758125 \nL 839.770106 236.779735 \nL 830.227502 236.779735 \nz\n\" style=\"fill:#1f77b4;\"/>\n   </g>\n   <g id=\"patch_59\">\n    <path clip-path=\"url(#pa7e5b2442e)\" d=\"M 843.859794 239.758125 \nL 853.402398 239.758125 \nL 853.402398 235.728538 \nL 843.859794 235.728538 \nz\n\" style=\"fill:#1f77b4;\"/>\n   </g>\n   <g id=\"patch_60\">\n    <path clip-path=\"url(#pa7e5b2442e)\" d=\"M 857.492086 239.758125 \nL 867.03469 239.758125 \nL 867.03469 235.553339 \nL 857.492086 235.553339 \nz\n\" style=\"fill:#1f77b4;\"/>\n   </g>\n   <g id=\"patch_61\">\n    <path clip-path=\"url(#pa7e5b2442e)\" d=\"M 871.124378 239.758125 \nL 880.666982 239.758125 \nL 880.666982 230.998154 \nL 871.124378 230.998154 \nz\n\" style=\"fill:#1f77b4;\"/>\n   </g>\n   <g id=\"patch_62\">\n    <path clip-path=\"url(#pa7e5b2442e)\" d=\"M 884.75667 239.758125 \nL 894.299274 239.758125 \nL 894.299274 233.801345 \nL 884.75667 233.801345 \nz\n\" style=\"fill:#1f77b4;\"/>\n   </g>\n   <g id=\"patch_63\">\n    <path clip-path=\"url(#pa7e5b2442e)\" d=\"M 898.388961 239.758125 \nL 907.931566 239.758125 \nL 907.931566 219.434992 \nL 898.388961 219.434992 \nz\n\" style=\"fill:#1f77b4;\"/>\n   </g>\n   <g id=\"patch_64\">\n    <path clip-path=\"url(#pa7e5b2442e)\" d=\"M 912.021253 239.758125 \nL 921.563858 239.758125 \nL 921.563858 203.842244 \nL 912.021253 203.842244 \nz\n\" style=\"fill:#1f77b4;\"/>\n   </g>\n   <g id=\"patch_65\">\n    <path clip-path=\"url(#pa7e5b2442e)\" d=\"M 925.653545 239.758125 \nL 935.196149 239.758125 \nL 935.196149 188.775094 \nL 925.653545 188.775094 \nz\n\" style=\"fill:#1f77b4;\"/>\n   </g>\n   <g id=\"patch_66\">\n    <path clip-path=\"url(#pa7e5b2442e)\" d=\"M 939.285837 239.758125 \nL 948.828441 239.758125 \nL 948.828441 118.870525 \nL 939.285837 118.870525 \nz\n\" style=\"fill:#1f77b4;\"/>\n   </g>\n   <g id=\"patch_67\">\n    <path clip-path=\"url(#pa7e5b2442e)\" d=\"M 952.918129 239.758125 \nL 962.460733 239.758125 \nL 962.460733 124.652106 \nL 952.918129 124.652106 \nz\n\" style=\"fill:#1f77b4;\"/>\n   </g>\n   <g id=\"patch_68\">\n    <path clip-path=\"url(#pa7e5b2442e)\" d=\"M 966.550421 239.758125 \nL 976.093025 239.758125 \nL 976.093025 47.038763 \nL 966.550421 47.038763 \nz\n\" style=\"fill:#1f77b4;\"/>\n   </g>\n   <g id=\"patch_69\">\n    <path clip-path=\"url(#pa7e5b2442e)\" d=\"M 980.182713 239.758125 \nL 989.725317 239.758125 \nL 989.725317 32.672411 \nL 980.182713 32.672411 \nz\n\" style=\"fill:#1f77b4;\"/>\n   </g>\n   <g id=\"patch_70\">\n    <path clip-path=\"url(#pa7e5b2442e)\" d=\"M 993.815004 239.758125 \nL 1003.357609 239.758125 \nL 1003.357609 70.515485 \nL 993.815004 70.515485 \nz\n\" style=\"fill:#1f77b4;\"/>\n   </g>\n   <g id=\"patch_71\">\n    <path clip-path=\"url(#pa7e5b2442e)\" d=\"M 1007.447296 239.758125 \nL 1016.989901 239.758125 \nL 1016.989901 89.437023 \nL 1007.447296 89.437023 \nz\n\" style=\"fill:#1f77b4;\"/>\n   </g>\n   <g id=\"patch_72\">\n    <path clip-path=\"url(#pa7e5b2442e)\" d=\"M 1021.079588 239.758125 \nL 1030.622193 239.758125 \nL 1030.622193 161.794383 \nL 1021.079588 161.794383 \nz\n\" style=\"fill:#1f77b4;\"/>\n   </g>\n   <g id=\"matplotlib.axis_5\">\n    <g id=\"xtick_11\">\n     <g id=\"line2d_27\">\n      <g>\n       <use style=\"stroke:#000000;stroke-width:0.8;\" x=\"752.487564\" xlink:href=\"#mbdd2b3b401\" y=\"239.758125\"/>\n      </g>\n     </g>\n     <g id=\"text_30\">\n      <!-- 1980 -->\n      <g transform=\"translate(739.762564 254.356562)scale(0.1 -0.1)\">\n       <use xlink:href=\"#DejaVuSans-49\"/>\n       <use x=\"63.623047\" xlink:href=\"#DejaVuSans-57\"/>\n       <use x=\"127.246094\" xlink:href=\"#DejaVuSans-56\"/>\n       <use x=\"190.869141\" xlink:href=\"#DejaVuSans-48\"/>\n      </g>\n     </g>\n    </g>\n    <g id=\"xtick_12\">\n     <g id=\"line2d_28\">\n      <g>\n       <use style=\"stroke:#000000;stroke-width:0.8;\" x=\"788.362016\" xlink:href=\"#mbdd2b3b401\" y=\"239.758125\"/>\n      </g>\n     </g>\n     <g id=\"text_31\">\n      <!-- 1985 -->\n      <g transform=\"translate(775.637016 254.356562)scale(0.1 -0.1)\">\n       <defs>\n        <path d=\"M 10.796875 72.90625 \nL 49.515625 72.90625 \nL 49.515625 64.59375 \nL 19.828125 64.59375 \nL 19.828125 46.734375 \nQ 21.96875 47.46875 24.109375 47.828125 \nQ 26.265625 48.1875 28.421875 48.1875 \nQ 40.625 48.1875 47.75 41.5 \nQ 54.890625 34.8125 54.890625 23.390625 \nQ 54.890625 11.625 47.5625 5.09375 \nQ 40.234375 -1.421875 26.90625 -1.421875 \nQ 22.3125 -1.421875 17.546875 -0.640625 \nQ 12.796875 0.140625 7.71875 1.703125 \nL 7.71875 11.625 \nQ 12.109375 9.234375 16.796875 8.0625 \nQ 21.484375 6.890625 26.703125 6.890625 \nQ 35.15625 6.890625 40.078125 11.328125 \nQ 45.015625 15.765625 45.015625 23.390625 \nQ 45.015625 31 40.078125 35.4375 \nQ 35.15625 39.890625 26.703125 39.890625 \nQ 22.75 39.890625 18.8125 39.015625 \nQ 14.890625 38.140625 10.796875 36.28125 \nz\n\" id=\"DejaVuSans-53\"/>\n       </defs>\n       <use xlink:href=\"#DejaVuSans-49\"/>\n       <use x=\"63.623047\" xlink:href=\"#DejaVuSans-57\"/>\n       <use x=\"127.246094\" xlink:href=\"#DejaVuSans-56\"/>\n       <use x=\"190.869141\" xlink:href=\"#DejaVuSans-53\"/>\n      </g>\n     </g>\n    </g>\n    <g id=\"xtick_13\">\n     <g id=\"line2d_29\">\n      <g>\n       <use style=\"stroke:#000000;stroke-width:0.8;\" x=\"824.236469\" xlink:href=\"#mbdd2b3b401\" y=\"239.758125\"/>\n      </g>\n     </g>\n     <g id=\"text_32\">\n      <!-- 1990 -->\n      <g transform=\"translate(811.511469 254.356562)scale(0.1 -0.1)\">\n       <use xlink:href=\"#DejaVuSans-49\"/>\n       <use x=\"63.623047\" xlink:href=\"#DejaVuSans-57\"/>\n       <use x=\"127.246094\" xlink:href=\"#DejaVuSans-57\"/>\n       <use x=\"190.869141\" xlink:href=\"#DejaVuSans-48\"/>\n      </g>\n     </g>\n    </g>\n    <g id=\"xtick_14\">\n     <g id=\"line2d_30\">\n      <g>\n       <use style=\"stroke:#000000;stroke-width:0.8;\" x=\"860.110921\" xlink:href=\"#mbdd2b3b401\" y=\"239.758125\"/>\n      </g>\n     </g>\n     <g id=\"text_33\">\n      <!-- 1995 -->\n      <g transform=\"translate(847.385921 254.356562)scale(0.1 -0.1)\">\n       <use xlink:href=\"#DejaVuSans-49\"/>\n       <use x=\"63.623047\" xlink:href=\"#DejaVuSans-57\"/>\n       <use x=\"127.246094\" xlink:href=\"#DejaVuSans-57\"/>\n       <use x=\"190.869141\" xlink:href=\"#DejaVuSans-53\"/>\n      </g>\n     </g>\n    </g>\n    <g id=\"xtick_15\">\n     <g id=\"line2d_31\">\n      <g>\n       <use style=\"stroke:#000000;stroke-width:0.8;\" x=\"895.985373\" xlink:href=\"#mbdd2b3b401\" y=\"239.758125\"/>\n      </g>\n     </g>\n     <g id=\"text_34\">\n      <!-- 2000 -->\n      <g transform=\"translate(883.260373 254.356562)scale(0.1 -0.1)\">\n       <use xlink:href=\"#DejaVuSans-50\"/>\n       <use x=\"63.623047\" xlink:href=\"#DejaVuSans-48\"/>\n       <use x=\"127.246094\" xlink:href=\"#DejaVuSans-48\"/>\n       <use x=\"190.869141\" xlink:href=\"#DejaVuSans-48\"/>\n      </g>\n     </g>\n    </g>\n    <g id=\"xtick_16\">\n     <g id=\"line2d_32\">\n      <g>\n       <use style=\"stroke:#000000;stroke-width:0.8;\" x=\"931.859825\" xlink:href=\"#mbdd2b3b401\" y=\"239.758125\"/>\n      </g>\n     </g>\n     <g id=\"text_35\">\n      <!-- 2005 -->\n      <g transform=\"translate(919.134825 254.356562)scale(0.1 -0.1)\">\n       <use xlink:href=\"#DejaVuSans-50\"/>\n       <use x=\"63.623047\" xlink:href=\"#DejaVuSans-48\"/>\n       <use x=\"127.246094\" xlink:href=\"#DejaVuSans-48\"/>\n       <use x=\"190.869141\" xlink:href=\"#DejaVuSans-53\"/>\n      </g>\n     </g>\n    </g>\n    <g id=\"xtick_17\">\n     <g id=\"line2d_33\">\n      <g>\n       <use style=\"stroke:#000000;stroke-width:0.8;\" x=\"967.734278\" xlink:href=\"#mbdd2b3b401\" y=\"239.758125\"/>\n      </g>\n     </g>\n     <g id=\"text_36\">\n      <!-- 2010 -->\n      <g transform=\"translate(955.009278 254.356562)scale(0.1 -0.1)\">\n       <use xlink:href=\"#DejaVuSans-50\"/>\n       <use x=\"63.623047\" xlink:href=\"#DejaVuSans-48\"/>\n       <use x=\"127.246094\" xlink:href=\"#DejaVuSans-49\"/>\n       <use x=\"190.869141\" xlink:href=\"#DejaVuSans-48\"/>\n      </g>\n     </g>\n    </g>\n    <g id=\"xtick_18\">\n     <g id=\"line2d_34\">\n      <g>\n       <use style=\"stroke:#000000;stroke-width:0.8;\" x=\"1003.60873\" xlink:href=\"#mbdd2b3b401\" y=\"239.758125\"/>\n      </g>\n     </g>\n     <g id=\"text_37\">\n      <!-- 2015 -->\n      <g transform=\"translate(990.88373 254.356562)scale(0.1 -0.1)\">\n       <use xlink:href=\"#DejaVuSans-50\"/>\n       <use x=\"63.623047\" xlink:href=\"#DejaVuSans-48\"/>\n       <use x=\"127.246094\" xlink:href=\"#DejaVuSans-49\"/>\n       <use x=\"190.869141\" xlink:href=\"#DejaVuSans-53\"/>\n      </g>\n     </g>\n    </g>\n    <g id=\"xtick_19\">\n     <g id=\"line2d_35\">\n      <g>\n       <use style=\"stroke:#000000;stroke-width:0.8;\" x=\"1039.483182\" xlink:href=\"#mbdd2b3b401\" y=\"239.758125\"/>\n      </g>\n     </g>\n     <g id=\"text_38\">\n      <!-- 2020 -->\n      <g transform=\"translate(1026.758182 254.356562)scale(0.1 -0.1)\">\n       <use xlink:href=\"#DejaVuSans-50\"/>\n       <use x=\"63.623047\" xlink:href=\"#DejaVuSans-48\"/>\n       <use x=\"127.246094\" xlink:href=\"#DejaVuSans-50\"/>\n       <use x=\"190.869141\" xlink:href=\"#DejaVuSans-48\"/>\n      </g>\n     </g>\n    </g>\n   </g>\n   <g id=\"matplotlib.axis_6\">\n    <g id=\"ytick_17\">\n     <g id=\"line2d_36\">\n      <g>\n       <use style=\"stroke:#000000;stroke-width:0.8;\" x=\"748.638235\" xlink:href=\"#me1211bde9e\" y=\"239.758125\"/>\n      </g>\n     </g>\n     <g id=\"text_39\">\n      <!-- 0 -->\n      <g transform=\"translate(735.275735 243.557344)scale(0.1 -0.1)\">\n       <use xlink:href=\"#DejaVuSans-48\"/>\n      </g>\n     </g>\n    </g>\n    <g id=\"ytick_18\">\n     <g id=\"line2d_37\">\n      <g>\n       <use style=\"stroke:#000000;stroke-width:0.8;\" x=\"748.638235\" xlink:href=\"#me1211bde9e\" y=\"204.718241\"/>\n      </g>\n     </g>\n     <g id=\"text_40\">\n      <!-- 200 -->\n      <g transform=\"translate(722.550735 208.51746)scale(0.1 -0.1)\">\n       <use xlink:href=\"#DejaVuSans-50\"/>\n       <use x=\"63.623047\" xlink:href=\"#DejaVuSans-48\"/>\n       <use x=\"127.246094\" xlink:href=\"#DejaVuSans-48\"/>\n      </g>\n     </g>\n    </g>\n    <g id=\"ytick_19\">\n     <g id=\"line2d_38\">\n      <g>\n       <use style=\"stroke:#000000;stroke-width:0.8;\" x=\"748.638235\" xlink:href=\"#me1211bde9e\" y=\"169.678357\"/>\n      </g>\n     </g>\n     <g id=\"text_41\">\n      <!-- 400 -->\n      <g transform=\"translate(722.550735 173.477576)scale(0.1 -0.1)\">\n       <use xlink:href=\"#DejaVuSans-52\"/>\n       <use x=\"63.623047\" xlink:href=\"#DejaVuSans-48\"/>\n       <use x=\"127.246094\" xlink:href=\"#DejaVuSans-48\"/>\n      </g>\n     </g>\n    </g>\n    <g id=\"ytick_20\">\n     <g id=\"line2d_39\">\n      <g>\n       <use style=\"stroke:#000000;stroke-width:0.8;\" x=\"748.638235\" xlink:href=\"#me1211bde9e\" y=\"134.638473\"/>\n      </g>\n     </g>\n     <g id=\"text_42\">\n      <!-- 600 -->\n      <g transform=\"translate(722.550735 138.437692)scale(0.1 -0.1)\">\n       <use xlink:href=\"#DejaVuSans-54\"/>\n       <use x=\"63.623047\" xlink:href=\"#DejaVuSans-48\"/>\n       <use x=\"127.246094\" xlink:href=\"#DejaVuSans-48\"/>\n      </g>\n     </g>\n    </g>\n    <g id=\"ytick_21\">\n     <g id=\"line2d_40\">\n      <g>\n       <use style=\"stroke:#000000;stroke-width:0.8;\" x=\"748.638235\" xlink:href=\"#me1211bde9e\" y=\"99.598589\"/>\n      </g>\n     </g>\n     <g id=\"text_43\">\n      <!-- 800 -->\n      <g transform=\"translate(722.550735 103.397808)scale(0.1 -0.1)\">\n       <use xlink:href=\"#DejaVuSans-56\"/>\n       <use x=\"63.623047\" xlink:href=\"#DejaVuSans-48\"/>\n       <use x=\"127.246094\" xlink:href=\"#DejaVuSans-48\"/>\n      </g>\n     </g>\n    </g>\n    <g id=\"ytick_22\">\n     <g id=\"line2d_41\">\n      <g>\n       <use style=\"stroke:#000000;stroke-width:0.8;\" x=\"748.638235\" xlink:href=\"#me1211bde9e\" y=\"64.558705\"/>\n      </g>\n     </g>\n     <g id=\"text_44\">\n      <!-- 1000 -->\n      <g transform=\"translate(716.188235 68.357924)scale(0.1 -0.1)\">\n       <use xlink:href=\"#DejaVuSans-49\"/>\n       <use x=\"63.623047\" xlink:href=\"#DejaVuSans-48\"/>\n       <use x=\"127.246094\" xlink:href=\"#DejaVuSans-48\"/>\n       <use x=\"190.869141\" xlink:href=\"#DejaVuSans-48\"/>\n      </g>\n     </g>\n    </g>\n    <g id=\"ytick_23\">\n     <g id=\"line2d_42\">\n      <g>\n       <use style=\"stroke:#000000;stroke-width:0.8;\" x=\"748.638235\" xlink:href=\"#me1211bde9e\" y=\"29.518821\"/>\n      </g>\n     </g>\n     <g id=\"text_45\">\n      <!-- 1200 -->\n      <g transform=\"translate(716.188235 33.31804)scale(0.1 -0.1)\">\n       <use xlink:href=\"#DejaVuSans-49\"/>\n       <use x=\"63.623047\" xlink:href=\"#DejaVuSans-50\"/>\n       <use x=\"127.246094\" xlink:href=\"#DejaVuSans-48\"/>\n       <use x=\"190.869141\" xlink:href=\"#DejaVuSans-48\"/>\n      </g>\n     </g>\n    </g>\n   </g>\n   <g id=\"patch_73\">\n    <path d=\"M 748.638235 239.758125 \nL 748.638235 22.318125 \n\" style=\"fill:none;stroke:#000000;stroke-linecap:square;stroke-linejoin:miter;stroke-width:0.8;\"/>\n   </g>\n   <g id=\"patch_74\">\n    <path d=\"M 1044.05 239.758125 \nL 1044.05 22.318125 \n\" style=\"fill:none;stroke:#000000;stroke-linecap:square;stroke-linejoin:miter;stroke-width:0.8;\"/>\n   </g>\n   <g id=\"patch_75\">\n    <path d=\"M 748.638235 239.758125 \nL 1044.05 239.758125 \n\" style=\"fill:none;stroke:#000000;stroke-linecap:square;stroke-linejoin:miter;stroke-width:0.8;\"/>\n   </g>\n   <g id=\"patch_76\">\n    <path d=\"M 748.638235 22.318125 \nL 1044.05 22.318125 \n\" style=\"fill:none;stroke:#000000;stroke-linecap:square;stroke-linejoin:miter;stroke-width:0.8;\"/>\n   </g>\n   <g id=\"text_46\">\n    <!-- productionDate -->\n    <g transform=\"translate(849.787868 16.318125)scale(0.12 -0.12)\">\n     <defs>\n      <path d=\"M 18.109375 8.203125 \nL 18.109375 -20.796875 \nL 9.078125 -20.796875 \nL 9.078125 54.6875 \nL 18.109375 54.6875 \nL 18.109375 46.390625 \nQ 20.953125 51.265625 25.265625 53.625 \nQ 29.59375 56 35.59375 56 \nQ 45.5625 56 51.78125 48.09375 \nQ 58.015625 40.1875 58.015625 27.296875 \nQ 58.015625 14.40625 51.78125 6.484375 \nQ 45.5625 -1.421875 35.59375 -1.421875 \nQ 29.59375 -1.421875 25.265625 0.953125 \nQ 20.953125 3.328125 18.109375 8.203125 \nz\nM 48.6875 27.296875 \nQ 48.6875 37.203125 44.609375 42.84375 \nQ 40.53125 48.484375 33.40625 48.484375 \nQ 26.265625 48.484375 22.1875 42.84375 \nQ 18.109375 37.203125 18.109375 27.296875 \nQ 18.109375 17.390625 22.1875 11.75 \nQ 26.265625 6.109375 33.40625 6.109375 \nQ 40.53125 6.109375 44.609375 11.75 \nQ 48.6875 17.390625 48.6875 27.296875 \nz\n\" id=\"DejaVuSans-112\"/>\n      <path d=\"M 41.109375 46.296875 \nQ 39.59375 47.171875 37.8125 47.578125 \nQ 36.03125 48 33.890625 48 \nQ 26.265625 48 22.1875 43.046875 \nQ 18.109375 38.09375 18.109375 28.8125 \nL 18.109375 0 \nL 9.078125 0 \nL 9.078125 54.6875 \nL 18.109375 54.6875 \nL 18.109375 46.1875 \nQ 20.953125 51.171875 25.484375 53.578125 \nQ 30.03125 56 36.53125 56 \nQ 37.453125 56 38.578125 55.875 \nQ 39.703125 55.765625 41.0625 55.515625 \nz\n\" id=\"DejaVuSans-114\"/>\n      <path d=\"M 8.5 21.578125 \nL 8.5 54.6875 \nL 17.484375 54.6875 \nL 17.484375 21.921875 \nQ 17.484375 14.15625 20.5 10.265625 \nQ 23.53125 6.390625 29.59375 6.390625 \nQ 36.859375 6.390625 41.078125 11.03125 \nQ 45.3125 15.671875 45.3125 23.6875 \nL 45.3125 54.6875 \nL 54.296875 54.6875 \nL 54.296875 0 \nL 45.3125 0 \nL 45.3125 8.40625 \nQ 42.046875 3.421875 37.71875 1 \nQ 33.40625 -1.421875 27.6875 -1.421875 \nQ 18.265625 -1.421875 13.375 4.4375 \nQ 8.5 10.296875 8.5 21.578125 \nz\nM 31.109375 56 \nz\n\" id=\"DejaVuSans-117\"/>\n      <path d=\"M 48.78125 52.59375 \nL 48.78125 44.1875 \nQ 44.96875 46.296875 41.140625 47.34375 \nQ 37.3125 48.390625 33.40625 48.390625 \nQ 24.65625 48.390625 19.8125 42.84375 \nQ 14.984375 37.3125 14.984375 27.296875 \nQ 14.984375 17.28125 19.8125 11.734375 \nQ 24.65625 6.203125 33.40625 6.203125 \nQ 37.3125 6.203125 41.140625 7.25 \nQ 44.96875 8.296875 48.78125 10.40625 \nL 48.78125 2.09375 \nQ 45.015625 0.34375 40.984375 -0.53125 \nQ 36.96875 -1.421875 32.421875 -1.421875 \nQ 20.0625 -1.421875 12.78125 6.34375 \nQ 5.515625 14.109375 5.515625 27.296875 \nQ 5.515625 40.671875 12.859375 48.328125 \nQ 20.21875 56 33.015625 56 \nQ 37.15625 56 41.109375 55.140625 \nQ 45.0625 54.296875 48.78125 52.59375 \nz\n\" id=\"DejaVuSans-99\"/>\n      <path d=\"M 54.890625 33.015625 \nL 54.890625 0 \nL 45.90625 0 \nL 45.90625 32.71875 \nQ 45.90625 40.484375 42.875 44.328125 \nQ 39.84375 48.1875 33.796875 48.1875 \nQ 26.515625 48.1875 22.3125 43.546875 \nQ 18.109375 38.921875 18.109375 30.90625 \nL 18.109375 0 \nL 9.078125 0 \nL 9.078125 54.6875 \nL 18.109375 54.6875 \nL 18.109375 46.1875 \nQ 21.34375 51.125 25.703125 53.5625 \nQ 30.078125 56 35.796875 56 \nQ 45.21875 56 50.046875 50.171875 \nQ 54.890625 44.34375 54.890625 33.015625 \nz\n\" id=\"DejaVuSans-110\"/>\n     </defs>\n     <use xlink:href=\"#DejaVuSans-112\"/>\n     <use x=\"63.476562\" xlink:href=\"#DejaVuSans-114\"/>\n     <use x=\"102.339844\" xlink:href=\"#DejaVuSans-111\"/>\n     <use x=\"163.521484\" xlink:href=\"#DejaVuSans-100\"/>\n     <use x=\"226.998047\" xlink:href=\"#DejaVuSans-117\"/>\n     <use x=\"290.376953\" xlink:href=\"#DejaVuSans-99\"/>\n     <use x=\"345.357422\" xlink:href=\"#DejaVuSans-116\"/>\n     <use x=\"384.566406\" xlink:href=\"#DejaVuSans-105\"/>\n     <use x=\"412.349609\" xlink:href=\"#DejaVuSans-111\"/>\n     <use x=\"473.53125\" xlink:href=\"#DejaVuSans-110\"/>\n     <use x=\"536.910156\" xlink:href=\"#DejaVuSans-68\"/>\n     <use x=\"613.912109\" xlink:href=\"#DejaVuSans-97\"/>\n     <use x=\"675.191406\" xlink:href=\"#DejaVuSans-116\"/>\n     <use x=\"714.400391\" xlink:href=\"#DejaVuSans-101\"/>\n    </g>\n   </g>\n  </g>\n </g>\n <defs>\n  <clipPath id=\"p540a3a352b\">\n   <rect height=\"217.44\" width=\"295.411765\" x=\"39.65\" y=\"22.318125\"/>\n  </clipPath>\n  <clipPath id=\"p75ebf3a5e9\">\n   <rect height=\"217.44\" width=\"295.411765\" x=\"394.144118\" y=\"22.318125\"/>\n  </clipPath>\n  <clipPath id=\"pa7e5b2442e\">\n   <rect height=\"217.44\" width=\"295.411765\" x=\"748.638235\" y=\"22.318125\"/>\n  </clipPath>\n </defs>\n</svg>\n"
     },
     "metadata": {
      "needs_background": "light"
     }
    }
   ]
  },
  {
   "metadata": {},
   "cell_type": "markdown",
   "source": [
    "Итого:\n",
    "* CatBoost сможет работать с признаками и в таком виде, но для нейросети нужны нормированные данные."
   ]
  },
  {
   "metadata": {},
   "cell_type": "markdown",
   "source": [
    "# PreProc Tabular Data"
   ]
  },
  {
   "metadata": {
    "trusted": true
   },
   "cell_type": "code",
   "source": [
    "# используем все текстовые признаки как категориальные без предобработки.\n",
    "categorical_features = ['bodyType', 'brand', 'color', 'engineDisplacement', 'enginePower', 'fuelType', 'model_info', 'name',\n",
    "  'numberOfDoors', 'vehicleTransmission', 'Владельцы', 'Владение', 'ПТС', 'Привод', 'Руль']\n",
    "\n",
    "# используем все числовые признаки\n",
    "numerical_features = ['mileage', 'modelDate', 'productionDate']"
   ],
   "execution_count": 11,
   "outputs": []
  },
  {
   "metadata": {
    "trusted": true
   },
   "cell_type": "code",
   "source": [
    "# ВАЖНО! дря корректной обработки признаков объединяем трейн и тест в один датасет\n",
    "train['sample'] = 1 # помечаем где у нас трейн\n",
    "test['sample'] = 0 # помечаем где у нас тест\n",
    "test['price'] = 0 # в тесте у нас нет значения price, мы его должны предсказать, поэтому пока просто заполняем нулями\n",
    "\n",
    "data = test.append(train, sort=False).reset_index(drop=True) # объединяем\n",
    "print(train.shape, test.shape, data.shape)"
   ],
   "execution_count": 12,
   "outputs": [
    {
     "output_type": "stream",
     "name": "stdout",
     "text": [
      "(6682, 23) (1671, 23) (8353, 23)\n"
     ]
    }
   ]
  },
  {
   "metadata": {
    "trusted": true
   },
   "cell_type": "code",
   "source": [
    "def preproc_data(df_input):\n",
    "    \"\"\" includes several functions to pre-process the predictor data.\"\"\"\n",
    "    \n",
    "    df_output = df_input.copy()\n",
    "    \n",
    "    # ################### 1. Предобработка ############################################################## \n",
    "    # убираем не нужные для модели признаки\n",
    "    df_output.drop(['description','sell_id',], axis = 1, inplace=True)\n",
    "    \n",
    "    \n",
    "    # ################### Numerical Features ############################################################## \n",
    "    # Далее заполняем пропуски\n",
    "    for column in numerical_features:\n",
    "        df_output[column].fillna(df_output[column].median(), inplace=True)\n",
    "    # тут ваш код по обработке NAN\n",
    "    # ....\n",
    "    \n",
    "    # Нормализация данных\n",
    "    scaler = MinMaxScaler()\n",
    "    for column in numerical_features:\n",
    "        df_output[column] = scaler.fit_transform(df_output[[column]])[:,0]\n",
    "    \n",
    "    \n",
    "    \n",
    "    # ################### Categorical Features ############################################################## \n",
    "    # Label Encoding\n",
    "    for column in categorical_features:\n",
    "        df_output[column] = df_output[column].astype('category').cat.codes\n",
    "        \n",
    "    # One-Hot Encoding: в pandas есть готовая функция - get_dummies.\n",
    "    df_output = pd.get_dummies(df_output, columns=categorical_features, dummy_na=False)\n",
    "    # тут ваш код не Encoding фитчей\n",
    "    # ....\n",
    "    \n",
    "    \n",
    "    # ################### Feature Engineering ####################################################\n",
    "    # тут ваш код не генерацию новых фитчей\n",
    "    # ....\n",
    "    \n",
    "    \n",
    "    # ################### Clean #################################################### \n",
    "    # убираем признаки которые еще не успели обработать, \n",
    "    df_output.drop(['vehicleConfiguration'], axis = 1, inplace=True)\n",
    "    \n",
    "    return df_output"
   ],
   "execution_count": 13,
   "outputs": []
  },
  {
   "metadata": {
    "trusted": true
   },
   "cell_type": "code",
   "source": [
    "# Запускаем и проверяем, что получилось\n",
    "df_preproc = preproc_data(data)\n",
    "df_preproc.sample(10)"
   ],
   "execution_count": 14,
   "outputs": [
    {
     "output_type": "execute_result",
     "data": {
      "text/plain": [
       "       mileage  modelDate  productionDate  sample      price  bodyType_0  \\\n",
       "7399  0.106999   0.895833        0.868421       1  1590000.0           0   \n",
       "4273  0.044999   0.875000        0.894737       1  3100000.0           0   \n",
       "3362  0.054999   0.875000        0.868421       1  3750000.0           0   \n",
       "2794  0.124999   0.833333        0.763158       1  1990000.0           0   \n",
       "5378  0.148999   0.875000        0.868421       1  1285000.0           0   \n",
       "5902  0.069799   0.854167        0.815789       1  3399999.0           0   \n",
       "1454  0.052765   0.854167        0.868421       0        0.0           0   \n",
       "2476  0.173499   0.750000        0.684211       1   700000.0           0   \n",
       "743   0.119999   0.750000        0.736842       0        0.0           0   \n",
       "1168  0.035999   0.854167        0.842105       0        0.0           0   \n",
       "\n",
       "      bodyType_1  bodyType_2  bodyType_3  bodyType_4  ...  Владение_177  \\\n",
       "7399           1           0           0           0  ...             0   \n",
       "4273           1           0           0           0  ...             0   \n",
       "3362           0           0           0           0  ...             0   \n",
       "2794           0           0           0           0  ...             0   \n",
       "5378           0           0           0           0  ...             0   \n",
       "5902           0           0           0           0  ...             0   \n",
       "1454           0           0           0           0  ...             0   \n",
       "2476           0           0           0           0  ...             0   \n",
       "743            0           0           0           0  ...             0   \n",
       "1168           1           0           0           0  ...             0   \n",
       "\n",
       "      Владение_178  Владение_179  ПТС_0  ПТС_1  Привод_0  Привод_1  Привод_2  \\\n",
       "7399             0             0      0      1         0         0         1   \n",
       "4273             0             0      0      1         0         0         1   \n",
       "3362             0             0      0      1         0         0         1   \n",
       "2794             0             0      0      1         0         0         1   \n",
       "5378             0             0      0      1         0         0         1   \n",
       "5902             0             0      0      1         0         0         1   \n",
       "1454             0             0      0      1         0         0         1   \n",
       "2476             0             0      1      0         1         0         0   \n",
       "743              0             0      0      1         1         0         0   \n",
       "1168             0             0      0      1         0         0         1   \n",
       "\n",
       "      Руль_0  Руль_1  \n",
       "7399       1       0  \n",
       "4273       1       0  \n",
       "3362       1       0  \n",
       "2794       1       0  \n",
       "5378       1       0  \n",
       "5902       1       0  \n",
       "1454       1       0  \n",
       "2476       1       0  \n",
       "743        1       0  \n",
       "1168       1       0  \n",
       "\n",
       "[10 rows x 1545 columns]"
      ],
      "text/html": "<div>\n<style scoped>\n    .dataframe tbody tr th:only-of-type {\n        vertical-align: middle;\n    }\n\n    .dataframe tbody tr th {\n        vertical-align: top;\n    }\n\n    .dataframe thead th {\n        text-align: right;\n    }\n</style>\n<table border=\"1\" class=\"dataframe\">\n  <thead>\n    <tr style=\"text-align: right;\">\n      <th></th>\n      <th>mileage</th>\n      <th>modelDate</th>\n      <th>productionDate</th>\n      <th>sample</th>\n      <th>price</th>\n      <th>bodyType_0</th>\n      <th>bodyType_1</th>\n      <th>bodyType_2</th>\n      <th>bodyType_3</th>\n      <th>bodyType_4</th>\n      <th>...</th>\n      <th>Владение_177</th>\n      <th>Владение_178</th>\n      <th>Владение_179</th>\n      <th>ПТС_0</th>\n      <th>ПТС_1</th>\n      <th>Привод_0</th>\n      <th>Привод_1</th>\n      <th>Привод_2</th>\n      <th>Руль_0</th>\n      <th>Руль_1</th>\n    </tr>\n  </thead>\n  <tbody>\n    <tr>\n      <th>7399</th>\n      <td>0.106999</td>\n      <td>0.895833</td>\n      <td>0.868421</td>\n      <td>1</td>\n      <td>1590000.0</td>\n      <td>0</td>\n      <td>1</td>\n      <td>0</td>\n      <td>0</td>\n      <td>0</td>\n      <td>...</td>\n      <td>0</td>\n      <td>0</td>\n      <td>0</td>\n      <td>0</td>\n      <td>1</td>\n      <td>0</td>\n      <td>0</td>\n      <td>1</td>\n      <td>1</td>\n      <td>0</td>\n    </tr>\n    <tr>\n      <th>4273</th>\n      <td>0.044999</td>\n      <td>0.875000</td>\n      <td>0.894737</td>\n      <td>1</td>\n      <td>3100000.0</td>\n      <td>0</td>\n      <td>1</td>\n      <td>0</td>\n      <td>0</td>\n      <td>0</td>\n      <td>...</td>\n      <td>0</td>\n      <td>0</td>\n      <td>0</td>\n      <td>0</td>\n      <td>1</td>\n      <td>0</td>\n      <td>0</td>\n      <td>1</td>\n      <td>1</td>\n      <td>0</td>\n    </tr>\n    <tr>\n      <th>3362</th>\n      <td>0.054999</td>\n      <td>0.875000</td>\n      <td>0.868421</td>\n      <td>1</td>\n      <td>3750000.0</td>\n      <td>0</td>\n      <td>0</td>\n      <td>0</td>\n      <td>0</td>\n      <td>0</td>\n      <td>...</td>\n      <td>0</td>\n      <td>0</td>\n      <td>0</td>\n      <td>0</td>\n      <td>1</td>\n      <td>0</td>\n      <td>0</td>\n      <td>1</td>\n      <td>1</td>\n      <td>0</td>\n    </tr>\n    <tr>\n      <th>2794</th>\n      <td>0.124999</td>\n      <td>0.833333</td>\n      <td>0.763158</td>\n      <td>1</td>\n      <td>1990000.0</td>\n      <td>0</td>\n      <td>0</td>\n      <td>0</td>\n      <td>0</td>\n      <td>0</td>\n      <td>...</td>\n      <td>0</td>\n      <td>0</td>\n      <td>0</td>\n      <td>0</td>\n      <td>1</td>\n      <td>0</td>\n      <td>0</td>\n      <td>1</td>\n      <td>1</td>\n      <td>0</td>\n    </tr>\n    <tr>\n      <th>5378</th>\n      <td>0.148999</td>\n      <td>0.875000</td>\n      <td>0.868421</td>\n      <td>1</td>\n      <td>1285000.0</td>\n      <td>0</td>\n      <td>0</td>\n      <td>0</td>\n      <td>0</td>\n      <td>0</td>\n      <td>...</td>\n      <td>0</td>\n      <td>0</td>\n      <td>0</td>\n      <td>0</td>\n      <td>1</td>\n      <td>0</td>\n      <td>0</td>\n      <td>1</td>\n      <td>1</td>\n      <td>0</td>\n    </tr>\n    <tr>\n      <th>5902</th>\n      <td>0.069799</td>\n      <td>0.854167</td>\n      <td>0.815789</td>\n      <td>1</td>\n      <td>3399999.0</td>\n      <td>0</td>\n      <td>0</td>\n      <td>0</td>\n      <td>0</td>\n      <td>0</td>\n      <td>...</td>\n      <td>0</td>\n      <td>0</td>\n      <td>0</td>\n      <td>0</td>\n      <td>1</td>\n      <td>0</td>\n      <td>0</td>\n      <td>1</td>\n      <td>1</td>\n      <td>0</td>\n    </tr>\n    <tr>\n      <th>1454</th>\n      <td>0.052765</td>\n      <td>0.854167</td>\n      <td>0.868421</td>\n      <td>0</td>\n      <td>0.0</td>\n      <td>0</td>\n      <td>0</td>\n      <td>0</td>\n      <td>0</td>\n      <td>0</td>\n      <td>...</td>\n      <td>0</td>\n      <td>0</td>\n      <td>0</td>\n      <td>0</td>\n      <td>1</td>\n      <td>0</td>\n      <td>0</td>\n      <td>1</td>\n      <td>1</td>\n      <td>0</td>\n    </tr>\n    <tr>\n      <th>2476</th>\n      <td>0.173499</td>\n      <td>0.750000</td>\n      <td>0.684211</td>\n      <td>1</td>\n      <td>700000.0</td>\n      <td>0</td>\n      <td>0</td>\n      <td>0</td>\n      <td>0</td>\n      <td>0</td>\n      <td>...</td>\n      <td>0</td>\n      <td>0</td>\n      <td>0</td>\n      <td>1</td>\n      <td>0</td>\n      <td>1</td>\n      <td>0</td>\n      <td>0</td>\n      <td>1</td>\n      <td>0</td>\n    </tr>\n    <tr>\n      <th>743</th>\n      <td>0.119999</td>\n      <td>0.750000</td>\n      <td>0.736842</td>\n      <td>0</td>\n      <td>0.0</td>\n      <td>0</td>\n      <td>0</td>\n      <td>0</td>\n      <td>0</td>\n      <td>0</td>\n      <td>...</td>\n      <td>0</td>\n      <td>0</td>\n      <td>0</td>\n      <td>0</td>\n      <td>1</td>\n      <td>1</td>\n      <td>0</td>\n      <td>0</td>\n      <td>1</td>\n      <td>0</td>\n    </tr>\n    <tr>\n      <th>1168</th>\n      <td>0.035999</td>\n      <td>0.854167</td>\n      <td>0.842105</td>\n      <td>0</td>\n      <td>0.0</td>\n      <td>0</td>\n      <td>1</td>\n      <td>0</td>\n      <td>0</td>\n      <td>0</td>\n      <td>...</td>\n      <td>0</td>\n      <td>0</td>\n      <td>0</td>\n      <td>0</td>\n      <td>1</td>\n      <td>0</td>\n      <td>0</td>\n      <td>1</td>\n      <td>1</td>\n      <td>0</td>\n    </tr>\n  </tbody>\n</table>\n<p>10 rows × 1545 columns</p>\n</div>"
     },
     "metadata": {},
     "execution_count": 14
    }
   ]
  },
  {
   "metadata": {
    "trusted": true
   },
   "cell_type": "code",
   "source": [
    "df_preproc.info()"
   ],
   "execution_count": 15,
   "outputs": [
    {
     "output_type": "stream",
     "name": "stdout",
     "text": [
      "<class 'pandas.core.frame.DataFrame'>\nRangeIndex: 8353 entries, 0 to 8352\nColumns: 1545 entries, mileage to Руль_1\ndtypes: float64(4), int64(1), uint8(1540)\nmemory usage: 12.6 MB\n"
     ]
    }
   ]
  },
  {
   "metadata": {},
   "cell_type": "markdown",
   "source": [
    "## Split data"
   ]
  },
  {
   "metadata": {
    "trusted": true
   },
   "cell_type": "code",
   "source": [
    "# Теперь выделим тестовую часть\n",
    "train_data = df_preproc.query('sample == 1').drop(['sample'], axis=1)\n",
    "test_data = df_preproc.query('sample == 0').drop(['sample'], axis=1)\n",
    "\n",
    "y = train_data.price.values     # наш таргет\n",
    "X = train_data.drop(['price'], axis=1)\n",
    "X_sub = test_data.drop(['price'], axis=1)"
   ],
   "execution_count": 16,
   "outputs": []
  },
  {
   "metadata": {
    "trusted": true
   },
   "cell_type": "code",
   "source": [
    "test_data.info()"
   ],
   "execution_count": 17,
   "outputs": [
    {
     "output_type": "stream",
     "name": "stdout",
     "text": [
      "<class 'pandas.core.frame.DataFrame'>\nInt64Index: 1671 entries, 0 to 1670\nColumns: 1544 entries, mileage to Руль_1\ndtypes: float64(4), uint8(1540)\nmemory usage: 2.5 MB\n"
     ]
    }
   ]
  },
  {
   "metadata": {},
   "cell_type": "markdown",
   "source": [
    "# Model 2: CatBoostRegressor"
   ]
  },
  {
   "metadata": {
    "trusted": true
   },
   "cell_type": "code",
   "source": [
    "X_train, X_test, y_train, y_test = train_test_split(X, y, test_size=0.15, shuffle=True, random_state=RANDOM_SEED)"
   ],
   "execution_count": 18,
   "outputs": []
  },
  {
   "metadata": {
    "_kg_hide-output": true,
    "trusted": true
   },
   "cell_type": "code",
   "source": [
    "model = CatBoostRegressor(iterations = 5000,\n",
    "                          #depth=10,\n",
    "                          #learning_rate = 0.5,\n",
    "                          random_seed = RANDOM_SEED,\n",
    "                          eval_metric='MAPE',\n",
    "                          custom_metric=['RMSE', 'MAE'],\n",
    "                          od_wait=500,\n",
    "                          #task_type='GPU',\n",
    "                         )\n",
    "model.fit(X_train, y_train,\n",
    "         eval_set=(X_test, y_test),\n",
    "         verbose_eval=100,\n",
    "         use_best_model=True,\n",
    "         #plot=True\n",
    "         )"
   ],
   "execution_count": 20,
   "outputs": [
    {
     "output_type": "stream",
     "name": "stdout",
     "text": [
      "Learning rate set to 0.023474\n",
      "0:\tlearn: 0.9864227\ttest: 1.0103208\tbest: 1.0103208 (0)\ttotal: 49.7ms\tremaining: 4m 8s\n",
      "100:\tlearn: 0.3693591\ttest: 0.3766194\tbest: 0.3766194 (100)\ttotal: 419ms\tremaining: 20.3s\n",
      "200:\tlearn: 0.2962474\ttest: 0.3018127\tbest: 0.3018127 (200)\ttotal: 751ms\tremaining: 17.9s\n",
      "300:\tlearn: 0.2519785\ttest: 0.2590730\tbest: 0.2590730 (300)\ttotal: 1.07s\tremaining: 16.7s\n",
      "400:\tlearn: 0.2275643\ttest: 0.2349237\tbest: 0.2349237 (400)\ttotal: 1.42s\tremaining: 16.2s\n",
      "500:\tlearn: 0.2138834\ttest: 0.2224197\tbest: 0.2224197 (500)\ttotal: 1.73s\tremaining: 15.5s\n",
      "600:\tlearn: 0.2038407\ttest: 0.2124349\tbest: 0.2124349 (600)\ttotal: 2.05s\tremaining: 15s\n",
      "700:\tlearn: 0.1954458\ttest: 0.2041418\tbest: 0.2041418 (700)\ttotal: 2.36s\tremaining: 14.5s\n",
      "800:\tlearn: 0.1875896\ttest: 0.1964258\tbest: 0.1964258 (800)\ttotal: 2.68s\tremaining: 14s\n",
      "900:\tlearn: 0.1797988\ttest: 0.1892220\tbest: 0.1892220 (900)\ttotal: 3s\tremaining: 13.7s\n",
      "1000:\tlearn: 0.1741349\ttest: 0.1839268\tbest: 0.1839268 (1000)\ttotal: 3.37s\tremaining: 13.5s\n",
      "1100:\tlearn: 0.1701113\ttest: 0.1799463\tbest: 0.1799463 (1100)\ttotal: 3.69s\tremaining: 13.1s\n",
      "1200:\tlearn: 0.1650840\ttest: 0.1748480\tbest: 0.1748480 (1200)\ttotal: 4.11s\tremaining: 13s\n",
      "1300:\tlearn: 0.1614989\ttest: 0.1714032\tbest: 0.1714032 (1300)\ttotal: 4.54s\tremaining: 12.9s\n",
      "1400:\tlearn: 0.1582556\ttest: 0.1687570\tbest: 0.1687570 (1400)\ttotal: 4.87s\tremaining: 12.5s\n",
      "1500:\tlearn: 0.1555922\ttest: 0.1664525\tbest: 0.1664525 (1500)\ttotal: 5.24s\tremaining: 12.2s\n",
      "1600:\tlearn: 0.1526557\ttest: 0.1640832\tbest: 0.1640485 (1599)\ttotal: 5.58s\tremaining: 11.8s\n",
      "1700:\tlearn: 0.1496943\ttest: 0.1618035\tbest: 0.1618035 (1700)\ttotal: 5.93s\tremaining: 11.5s\n",
      "1800:\tlearn: 0.1469368\ttest: 0.1595314\tbest: 0.1595314 (1800)\ttotal: 6.32s\tremaining: 11.2s\n",
      "1900:\tlearn: 0.1449013\ttest: 0.1582018\tbest: 0.1582018 (1900)\ttotal: 6.63s\tremaining: 10.8s\n",
      "2000:\tlearn: 0.1430339\ttest: 0.1562481\tbest: 0.1562481 (2000)\ttotal: 7s\tremaining: 10.5s\n",
      "2100:\tlearn: 0.1413805\ttest: 0.1552321\tbest: 0.1552321 (2100)\ttotal: 7.35s\tremaining: 10.1s\n",
      "2200:\tlearn: 0.1390382\ttest: 0.1532846\tbest: 0.1532805 (2199)\ttotal: 7.68s\tremaining: 9.77s\n",
      "2300:\tlearn: 0.1366272\ttest: 0.1514468\tbest: 0.1514455 (2299)\ttotal: 8.02s\tremaining: 9.41s\n",
      "2400:\tlearn: 0.1346600\ttest: 0.1500539\tbest: 0.1500539 (2400)\ttotal: 8.35s\tremaining: 9.04s\n",
      "2500:\tlearn: 0.1330554\ttest: 0.1487272\tbest: 0.1487250 (2498)\ttotal: 8.7s\tremaining: 8.69s\n",
      "2600:\tlearn: 0.1311190\ttest: 0.1471697\tbest: 0.1471697 (2600)\ttotal: 9.03s\tremaining: 8.33s\n",
      "2700:\tlearn: 0.1296832\ttest: 0.1460942\tbest: 0.1460942 (2700)\ttotal: 9.35s\tremaining: 7.96s\n",
      "2800:\tlearn: 0.1281936\ttest: 0.1450229\tbest: 0.1450229 (2800)\ttotal: 9.67s\tremaining: 7.59s\n",
      "2900:\tlearn: 0.1268871\ttest: 0.1441126\tbest: 0.1441126 (2900)\ttotal: 10s\tremaining: 7.24s\n",
      "3000:\tlearn: 0.1254932\ttest: 0.1431230\tbest: 0.1431230 (3000)\ttotal: 10.3s\tremaining: 6.88s\n",
      "3100:\tlearn: 0.1239656\ttest: 0.1417764\tbest: 0.1417764 (3100)\ttotal: 10.7s\tremaining: 6.53s\n",
      "3200:\tlearn: 0.1231762\ttest: 0.1412265\tbest: 0.1412265 (3200)\ttotal: 11s\tremaining: 6.19s\n",
      "3300:\tlearn: 0.1220080\ttest: 0.1404134\tbest: 0.1404134 (3300)\ttotal: 11.4s\tremaining: 5.85s\n",
      "3400:\tlearn: 0.1210586\ttest: 0.1397811\tbest: 0.1397811 (3400)\ttotal: 11.7s\tremaining: 5.51s\n",
      "3500:\tlearn: 0.1196387\ttest: 0.1387971\tbest: 0.1387922 (3499)\ttotal: 12.1s\tremaining: 5.18s\n",
      "3600:\tlearn: 0.1184715\ttest: 0.1379759\tbest: 0.1379759 (3600)\ttotal: 12.4s\tremaining: 4.84s\n",
      "3700:\tlearn: 0.1171727\ttest: 0.1370263\tbest: 0.1370263 (3700)\ttotal: 12.8s\tremaining: 4.48s\n",
      "3800:\tlearn: 0.1161039\ttest: 0.1364248\tbest: 0.1364248 (3800)\ttotal: 13.1s\tremaining: 4.15s\n",
      "3900:\tlearn: 0.1154169\ttest: 0.1360570\tbest: 0.1360570 (3900)\ttotal: 13.5s\tremaining: 3.81s\n",
      "4000:\tlearn: 0.1144211\ttest: 0.1355106\tbest: 0.1355106 (4000)\ttotal: 13.9s\tremaining: 3.47s\n",
      "4100:\tlearn: 0.1132264\ttest: 0.1348329\tbest: 0.1348253 (4094)\ttotal: 14.2s\tremaining: 3.12s\n",
      "4200:\tlearn: 0.1122597\ttest: 0.1342832\tbest: 0.1342832 (4200)\ttotal: 14.6s\tremaining: 2.77s\n",
      "4300:\tlearn: 0.1114431\ttest: 0.1339739\tbest: 0.1339672 (4291)\ttotal: 14.9s\tremaining: 2.43s\n",
      "4400:\tlearn: 0.1106109\ttest: 0.1336236\tbest: 0.1336236 (4400)\ttotal: 15.3s\tremaining: 2.08s\n",
      "4500:\tlearn: 0.1098927\ttest: 0.1334126\tbest: 0.1334124 (4499)\ttotal: 15.7s\tremaining: 1.74s\n",
      "4600:\tlearn: 0.1091975\ttest: 0.1331297\tbest: 0.1331270 (4599)\ttotal: 16s\tremaining: 1.39s\n",
      "4700:\tlearn: 0.1084751\ttest: 0.1329061\tbest: 0.1329061 (4700)\ttotal: 16.4s\tremaining: 1.04s\n",
      "4800:\tlearn: 0.1079689\ttest: 0.1327459\tbest: 0.1327441 (4799)\ttotal: 16.7s\tremaining: 693ms\n",
      "4900:\tlearn: 0.1073371\ttest: 0.1325282\tbest: 0.1325282 (4900)\ttotal: 17s\tremaining: 344ms\n",
      "4999:\tlearn: 0.1069343\ttest: 0.1323091\tbest: 0.1323050 (4998)\ttotal: 17.4s\tremaining: 0us\n",
      "\n",
      "bestTest = 0.1323050219\n",
      "bestIteration = 4998\n",
      "\n",
      "Shrink model to first 4999 iterations.\n"
     ]
    },
    {
     "output_type": "execute_result",
     "data": {
      "text/plain": [
       "<catboost.core.CatBoostRegressor at 0x7fe14127d1c0>"
      ]
     },
     "metadata": {},
     "execution_count": 20
    }
   ]
  },
  {
   "metadata": {
    "trusted": true
   },
   "cell_type": "code",
   "source": [
    "test_predict_catboost = model.predict(X_test)\n",
    "print(f\"TEST mape: {(mape(y_test, test_predict_catboost))*100:0.2f}%\")"
   ],
   "execution_count": 21,
   "outputs": [
    {
     "output_type": "stream",
     "name": "stdout",
     "text": [
      "TEST mape: 13.23%\n"
     ]
    }
   ]
  },
  {
   "metadata": {},
   "cell_type": "markdown",
   "source": [
    "### Submission"
   ]
  },
  {
   "metadata": {
    "trusted": true
   },
   "cell_type": "code",
   "source": [
    "sub_predict_catboost = model.predict(X_sub)\n",
    "sample_submission['price'] = sub_predict_catboost\n",
    "sample_submission.to_csv('catboost_submission.csv', index=False)"
   ],
   "execution_count": 22,
   "outputs": []
  },
  {
   "metadata": {},
   "cell_type": "markdown",
   "source": [
    "# Model 3: Tabular NN"
   ]
  },
  {
   "metadata": {},
   "cell_type": "markdown",
   "source": [
    "Построим обычную сеть:"
   ]
  },
  {
   "metadata": {
    "trusted": true
   },
   "cell_type": "code",
   "source": [
    "X_train.head(5)"
   ],
   "execution_count": 19,
   "outputs": [
    {
     "output_type": "execute_result",
     "data": {
      "text/plain": [
       "       mileage  modelDate  productionDate  bodyType_0  bodyType_1  bodyType_2  \\\n",
       "7320  0.149999   0.770833        0.763158           0           0           0   \n",
       "8037  0.020941   0.937500        0.947368           0           1           0   \n",
       "4681  0.133896   0.687500        0.631579           0           0           0   \n",
       "6014  0.329999   0.729167        0.657895           0           0           0   \n",
       "3649  0.125999   0.833333        0.815789           0           0           0   \n",
       "\n",
       "      bodyType_3  bodyType_4  bodyType_5  bodyType_6  ...  Владение_177  \\\n",
       "7320           0           0           0           0  ...             0   \n",
       "8037           0           0           0           0  ...             0   \n",
       "4681           0           0           0           0  ...             0   \n",
       "6014           0           0           0           0  ...             0   \n",
       "3649           0           0           0           0  ...             0   \n",
       "\n",
       "      Владение_178  Владение_179  ПТС_0  ПТС_1  Привод_0  Привод_1  Привод_2  \\\n",
       "7320             0             0      0      1         1         0         0   \n",
       "8037             0             0      0      1         0         0         1   \n",
       "4681             0             0      0      1         0         0         1   \n",
       "6014             0             0      0      1         1         0         0   \n",
       "3649             0             0      0      1         0         0         1   \n",
       "\n",
       "      Руль_0  Руль_1  \n",
       "7320       1       0  \n",
       "8037       1       0  \n",
       "4681       1       0  \n",
       "6014       1       0  \n",
       "3649       1       0  \n",
       "\n",
       "[5 rows x 1543 columns]"
      ],
      "text/html": "<div>\n<style scoped>\n    .dataframe tbody tr th:only-of-type {\n        vertical-align: middle;\n    }\n\n    .dataframe tbody tr th {\n        vertical-align: top;\n    }\n\n    .dataframe thead th {\n        text-align: right;\n    }\n</style>\n<table border=\"1\" class=\"dataframe\">\n  <thead>\n    <tr style=\"text-align: right;\">\n      <th></th>\n      <th>mileage</th>\n      <th>modelDate</th>\n      <th>productionDate</th>\n      <th>bodyType_0</th>\n      <th>bodyType_1</th>\n      <th>bodyType_2</th>\n      <th>bodyType_3</th>\n      <th>bodyType_4</th>\n      <th>bodyType_5</th>\n      <th>bodyType_6</th>\n      <th>...</th>\n      <th>Владение_177</th>\n      <th>Владение_178</th>\n      <th>Владение_179</th>\n      <th>ПТС_0</th>\n      <th>ПТС_1</th>\n      <th>Привод_0</th>\n      <th>Привод_1</th>\n      <th>Привод_2</th>\n      <th>Руль_0</th>\n      <th>Руль_1</th>\n    </tr>\n  </thead>\n  <tbody>\n    <tr>\n      <th>7320</th>\n      <td>0.149999</td>\n      <td>0.770833</td>\n      <td>0.763158</td>\n      <td>0</td>\n      <td>0</td>\n      <td>0</td>\n      <td>0</td>\n      <td>0</td>\n      <td>0</td>\n      <td>0</td>\n      <td>...</td>\n      <td>0</td>\n      <td>0</td>\n      <td>0</td>\n      <td>0</td>\n      <td>1</td>\n      <td>1</td>\n      <td>0</td>\n      <td>0</td>\n      <td>1</td>\n      <td>0</td>\n    </tr>\n    <tr>\n      <th>8037</th>\n      <td>0.020941</td>\n      <td>0.937500</td>\n      <td>0.947368</td>\n      <td>0</td>\n      <td>1</td>\n      <td>0</td>\n      <td>0</td>\n      <td>0</td>\n      <td>0</td>\n      <td>0</td>\n      <td>...</td>\n      <td>0</td>\n      <td>0</td>\n      <td>0</td>\n      <td>0</td>\n      <td>1</td>\n      <td>0</td>\n      <td>0</td>\n      <td>1</td>\n      <td>1</td>\n      <td>0</td>\n    </tr>\n    <tr>\n      <th>4681</th>\n      <td>0.133896</td>\n      <td>0.687500</td>\n      <td>0.631579</td>\n      <td>0</td>\n      <td>0</td>\n      <td>0</td>\n      <td>0</td>\n      <td>0</td>\n      <td>0</td>\n      <td>0</td>\n      <td>...</td>\n      <td>0</td>\n      <td>0</td>\n      <td>0</td>\n      <td>0</td>\n      <td>1</td>\n      <td>0</td>\n      <td>0</td>\n      <td>1</td>\n      <td>1</td>\n      <td>0</td>\n    </tr>\n    <tr>\n      <th>6014</th>\n      <td>0.329999</td>\n      <td>0.729167</td>\n      <td>0.657895</td>\n      <td>0</td>\n      <td>0</td>\n      <td>0</td>\n      <td>0</td>\n      <td>0</td>\n      <td>0</td>\n      <td>0</td>\n      <td>...</td>\n      <td>0</td>\n      <td>0</td>\n      <td>0</td>\n      <td>0</td>\n      <td>1</td>\n      <td>1</td>\n      <td>0</td>\n      <td>0</td>\n      <td>1</td>\n      <td>0</td>\n    </tr>\n    <tr>\n      <th>3649</th>\n      <td>0.125999</td>\n      <td>0.833333</td>\n      <td>0.815789</td>\n      <td>0</td>\n      <td>0</td>\n      <td>0</td>\n      <td>0</td>\n      <td>0</td>\n      <td>0</td>\n      <td>0</td>\n      <td>...</td>\n      <td>0</td>\n      <td>0</td>\n      <td>0</td>\n      <td>0</td>\n      <td>1</td>\n      <td>0</td>\n      <td>0</td>\n      <td>1</td>\n      <td>1</td>\n      <td>0</td>\n    </tr>\n  </tbody>\n</table>\n<p>5 rows × 1543 columns</p>\n</div>"
     },
     "metadata": {},
     "execution_count": 19
    }
   ]
  },
  {
   "metadata": {},
   "cell_type": "markdown",
   "source": [
    "## Simple Dense NN"
   ]
  },
  {
   "metadata": {
    "trusted": true
   },
   "cell_type": "code",
   "source": [
    "model = Sequential()\n",
    "model.add(L.Dense(512, input_dim=X_train.shape[1], activation=\"relu\"))\n",
    "model.add(L.Dropout(0.5))\n",
    "model.add(L.Dense(256, activation=\"relu\"))\n",
    "model.add(L.Dropout(0.5))\n",
    "model.add(L.Dense(1, activation=\"linear\"))"
   ],
   "execution_count": 20,
   "outputs": []
  },
  {
   "metadata": {
    "trusted": true
   },
   "cell_type": "code",
   "source": [
    "model.summary()"
   ],
   "execution_count": 21,
   "outputs": [
    {
     "output_type": "stream",
     "name": "stdout",
     "text": [
      "Model: \"sequential\"\n_________________________________________________________________\nLayer (type)                 Output Shape              Param #   \n=================================================================\ndense (Dense)                (None, 512)               790528    \n_________________________________________________________________\ndropout (Dropout)            (None, 512)               0         \n_________________________________________________________________\ndense_1 (Dense)              (None, 256)               131328    \n_________________________________________________________________\ndropout_1 (Dropout)          (None, 256)               0         \n_________________________________________________________________\ndense_2 (Dense)              (None, 1)                 257       \n=================================================================\nTotal params: 922,113\nTrainable params: 922,113\nNon-trainable params: 0\n_________________________________________________________________\n"
     ]
    }
   ]
  },
  {
   "metadata": {
    "trusted": true
   },
   "cell_type": "code",
   "source": [
    "# Compile model\n",
    "optimizer = tf.keras.optimizers.Adam(0.01)\n",
    "model.compile(loss='MAPE',optimizer=optimizer, metrics=['MAPE'])"
   ],
   "execution_count": 22,
   "outputs": []
  },
  {
   "metadata": {
    "trusted": true
   },
   "cell_type": "code",
   "source": [
    "checkpoint = ModelCheckpoint('../working/best_model.hdf5' , monitor=['val_MAPE'], verbose=0  , mode='min')\n",
    "earlystop = EarlyStopping(monitor='val_MAPE', patience=50, restore_best_weights=True,)\n",
    "callbacks_list = [checkpoint, earlystop]"
   ],
   "execution_count": 23,
   "outputs": []
  },
  {
   "metadata": {},
   "cell_type": "markdown",
   "source": [
    "### Fit"
   ]
  },
  {
   "metadata": {
    "trusted": true
   },
   "cell_type": "code",
   "source": [
    "history = model.fit(X_train, y_train,\n",
    "                    batch_size=512,\n",
    "                    epochs=500, # фактически мы обучаем пока EarlyStopping не остановит обучение\n",
    "                    validation_data=(X_test, y_test),\n",
    "                    callbacks=callbacks_list,\n",
    "                    verbose=0,\n",
    "                   )"
   ],
   "execution_count": 24,
   "outputs": []
  },
  {
   "metadata": {
    "trusted": true
   },
   "cell_type": "code",
   "source": [
    "plt.title('Loss')\n",
    "plt.plot(history.history['MAPE'], label='train')\n",
    "plt.plot(history.history['val_MAPE'], label='test')\n",
    "plt.show();"
   ],
   "execution_count": null,
   "outputs": []
  },
  {
   "metadata": {
    "trusted": true
   },
   "cell_type": "code",
   "source": [
    "model.load_weights('../working/best_model.hdf5')\n",
    "model.save('../working/nn_1.hdf5')"
   ],
   "execution_count": null,
   "outputs": []
  },
  {
   "metadata": {
    "trusted": true
   },
   "cell_type": "code",
   "source": [
    "test_predict_nn1 = model.predict(X_test)\n",
    "print(f\"TEST mape: {(mape(y_test, test_predict_nn1[:,0]))*100:0.2f}%\")"
   ],
   "execution_count": null,
   "outputs": []
  },
  {
   "metadata": {
    "trusted": true
   },
   "cell_type": "code",
   "source": [
    "sub_predict_nn1 = model.predict(X_sub)\n",
    "sample_submission['price'] = sub_predict_nn1[:,0]\n",
    "sample_submission.to_csv('nn1_submission.csv', index=False)"
   ],
   "execution_count": null,
   "outputs": []
  },
  {
   "metadata": {},
   "cell_type": "markdown",
   "source": [
    "Рекомендации для улучшения Model 3:    \n",
    "* В нейросеть желательно подавать данные с распределением, близким к нормальному, поэтому от некоторых числовых признаков имеет смысл взять логарифм перед нормализацией. Пример:\n",
    "`modelDateNorm = np.log(2020 - data['modelDate'])`\n",
    "Статья по теме: https://habr.com/ru/company/ods/blog/325422\n",
    "\n",
    "* Извлечение числовых значений из текста:\n",
    "Парсинг признаков 'engineDisplacement', 'enginePower', 'Владение' для извлечения числовых значений.\n",
    "\n",
    "* Сокращение размерности категориальных признаков\n",
    "Признак name 'name' содержит данные, которые уже есть в других столбцах ('enginePower', 'engineDisplacement', 'vehicleTransmission'), поэтому эти данные можно удалить. Затем следует еще сильнее сократить размерность, например, выделив наличие xDrive в качестве отдельного признака."
   ]
  },
  {
   "metadata": {},
   "cell_type": "markdown",
   "source": [
    "# Model 4: NLP + Multiple Inputs"
   ]
  },
  {
   "metadata": {
    "trusted": false
   },
   "cell_type": "code",
   "source": [
    "data.description"
   ],
   "execution_count": 23,
   "outputs": [
    {
     "output_type": "execute_result",
     "data": {
      "text/plain": [
       "0       Всем привет!\\n\\nПродам эксклюзивный проект 124...\n",
       "1       Продаю любимейшую тачилу.. Обвес и тюнинг Hamm...\n",
       "2       Машина тут продаётся не в первый раз, НО! Толь...\n",
       "3       Автомобиль в отличном состоянии, весь в родной...\n",
       "4       Немка! с бесключивым доступом и камерой заднег...\n",
       "                              ...                        \n",
       "8348    Продаётся любимый автомобиль! За годы эксплуат...\n",
       "8349    Куплена у официального дилера в 2017 г. \\n\\nТр...\n",
       "8350    Торг на месте. Все работает. Сборка немецкая. ...\n",
       "8351    Автомобиль в отличном состоянии.\\n3-из Авто в ...\n",
       "8352    Удлиненный заводской Pullman на базе W140 (воо...\n",
       "Name: description, Length: 8353, dtype: object"
      ]
     },
     "metadata": {},
     "execution_count": 23
    }
   ]
  },
  {
   "cell_type": "code",
   "execution_count": 24,
   "metadata": {},
   "outputs": [],
   "source": [
    "data.description = data.description.apply(lambda x: ''.join(m.lemmatize(x)))"
   ]
  },
  {
   "cell_type": "code",
   "execution_count": 25,
   "metadata": {},
   "outputs": [
    {
     "output_type": "execute_result",
     "data": {
      "text/plain": [
       "0       все привет!\\n\\nпродавать эксклюзивный проект 1...\n",
       "1       продавать любимый тачил.. обвес и тюнинг Hamma...\n",
       "2       машина тут продаваться не в первый раз, но! то...\n",
       "3       автомобиль в отличный состояние, весь в родной...\n",
       "4       немка! с бесключивый доступ и камера задний ви...\n",
       "                              ...                        \n",
       "8348    продаваться любимый автомобиль! за год эксплуа...\n",
       "8349    купить у официальный дилер в 2017 г. \\n\\nтрети...\n",
       "8350    торг на место. все работать. сборка немецкий. ...\n",
       "8351    автомобиль в отличный состояние.\\n3-из авто в ...\n",
       "8352    удлиненный заводской Pullman на база W140 (воо...\n",
       "Name: description, Length: 8353, dtype: object"
      ]
     },
     "metadata": {},
     "execution_count": 25
    }
   ],
   "source": [
    "data.description"
   ]
  },
  {
   "metadata": {
    "trusted": false
   },
   "cell_type": "code",
   "source": [
    "# TOKENIZER\n",
    "# The maximum number of words to be used. (most frequent)\n",
    "MAX_WORDS = 200000\n",
    "# Max number of words in each complaint.\n",
    "MAX_SEQUENCE_LENGTH = 256"
   ],
   "execution_count": 21,
   "outputs": []
  },
  {
   "metadata": {
    "trusted": false
   },
   "cell_type": "code",
   "source": [
    "# split данных\n",
    "text_train = data.description.iloc[X_train.index]\n",
    "text_test = data.description.iloc[X_test.index]\n",
    "text_sub = data.description.iloc[X_sub.index]"
   ],
   "execution_count": 22,
   "outputs": []
  },
  {
   "metadata": {},
   "cell_type": "markdown",
   "source": [
    "### Tokenizer"
   ]
  },
  {
   "metadata": {
    "trusted": false
   },
   "cell_type": "code",
   "source": [
    "%%time\n",
    "tokenize = Tokenizer(num_words=MAX_WORDS)\n",
    "tokenize.fit_on_texts(data.description)"
   ],
   "execution_count": 23,
   "outputs": [
    {
     "output_type": "stream",
     "name": "stdout",
     "text": [
      "CPU times: user 853 ms, sys: 0 ns, total: 853 ms\nWall time: 853 ms\n"
     ]
    }
   ]
  },
  {
   "metadata": {
    "_kg_hide-output": true,
    "trusted": false
   },
   "cell_type": "code",
   "source": [
    "len(tokenize.word_index)"
   ],
   "execution_count": 26,
   "outputs": [
    {
     "output_type": "error",
     "ename": "NameError",
     "evalue": "name 'tokenize' is not defined",
     "traceback": [
      "\u001b[0;31m---------------------------------------------------------------------------\u001b[0m",
      "\u001b[0;31mNameError\u001b[0m                                 Traceback (most recent call last)",
      "\u001b[0;32m<ipython-input-26-6bfeb2b9c5f0>\u001b[0m in \u001b[0;36m<module>\u001b[0;34m\u001b[0m\n\u001b[0;32m----> 1\u001b[0;31m \u001b[0mlen\u001b[0m\u001b[0;34m(\u001b[0m\u001b[0mtokenize\u001b[0m\u001b[0;34m.\u001b[0m\u001b[0mword_index\u001b[0m\u001b[0;34m)\u001b[0m\u001b[0;34m\u001b[0m\u001b[0;34m\u001b[0m\u001b[0m\n\u001b[0m",
      "\u001b[0;31mNameError\u001b[0m: name 'tokenize' is not defined"
     ]
    }
   ]
  },
  {
   "metadata": {
    "trusted": false
   },
   "cell_type": "code",
   "source": [
    "%%time\n",
    "text_train_sequences = sequence.pad_sequences(tokenize.texts_to_sequences(text_train), maxlen=MAX_SEQUENCE_LENGTH)\n",
    "text_test_sequences = sequence.pad_sequences(tokenize.texts_to_sequences(text_test), maxlen=MAX_SEQUENCE_LENGTH)\n",
    "text_sub_sequences = sequence.pad_sequences(tokenize.texts_to_sequences(text_sub), maxlen=MAX_SEQUENCE_LENGTH)\n",
    "\n",
    "print(text_train_sequences.shape, text_test_sequences.shape, text_sub_sequences.shape, )"
   ],
   "execution_count": 25,
   "outputs": [
    {
     "output_type": "stream",
     "name": "stdout",
     "text": [
      "(5679, 256) (1003, 256) (1671, 256)\nCPU times: user 772 ms, sys: 0 ns, total: 772 ms\nWall time: 772 ms\n"
     ]
    }
   ]
  },
  {
   "metadata": {
    "trusted": false
   },
   "cell_type": "code",
   "source": [
    "# вот так теперь выглядит наш текст\n",
    "print(text_train.iloc[6])\n",
    "print(text_train_sequences[6])"
   ],
   "execution_count": 27,
   "outputs": [
    {
     "output_type": "error",
     "ename": "NameError",
     "evalue": "name 'text_train' is not defined",
     "traceback": [
      "\u001b[0;31m---------------------------------------------------------------------------\u001b[0m",
      "\u001b[0;31mNameError\u001b[0m                                 Traceback (most recent call last)",
      "\u001b[0;32m<ipython-input-27-7b6a48773e40>\u001b[0m in \u001b[0;36m<module>\u001b[0;34m\u001b[0m\n\u001b[1;32m      1\u001b[0m \u001b[0;31m# вот так теперь выглядит наш текст\u001b[0m\u001b[0;34m\u001b[0m\u001b[0;34m\u001b[0m\u001b[0;34m\u001b[0m\u001b[0m\n\u001b[0;32m----> 2\u001b[0;31m \u001b[0mprint\u001b[0m\u001b[0;34m(\u001b[0m\u001b[0mtext_train\u001b[0m\u001b[0;34m.\u001b[0m\u001b[0miloc\u001b[0m\u001b[0;34m[\u001b[0m\u001b[0;36m6\u001b[0m\u001b[0;34m]\u001b[0m\u001b[0;34m)\u001b[0m\u001b[0;34m\u001b[0m\u001b[0;34m\u001b[0m\u001b[0m\n\u001b[0m\u001b[1;32m      3\u001b[0m \u001b[0mprint\u001b[0m\u001b[0;34m(\u001b[0m\u001b[0mtext_train_sequences\u001b[0m\u001b[0;34m[\u001b[0m\u001b[0;36m6\u001b[0m\u001b[0;34m]\u001b[0m\u001b[0;34m)\u001b[0m\u001b[0;34m\u001b[0m\u001b[0;34m\u001b[0m\u001b[0m\n",
      "\u001b[0;31mNameError\u001b[0m: name 'text_train' is not defined"
     ]
    }
   ]
  },
  {
   "metadata": {},
   "cell_type": "markdown",
   "source": [
    "### RNN NLP"
   ]
  },
  {
   "metadata": {
    "trusted": false
   },
   "cell_type": "code",
   "source": [
    "model_nlp = Sequential()\n",
    "model_nlp.add(L.Input(shape=MAX_SEQUENCE_LENGTH, name=\"seq_description\"))\n",
    "model_nlp.add(L.Embedding(len(tokenize.word_index)+1, MAX_SEQUENCE_LENGTH,))\n",
    "model_nlp.add(L.LSTM(256, return_sequences=True))\n",
    "model_nlp.add(L.Dropout(0.5))\n",
    "model_nlp.add(L.LSTM(128,))\n",
    "model_nlp.add(L.Dropout(0.25))\n",
    "model_nlp.add(L.Dense(64, activation=\"relu\"))\n",
    "model_nlp.add(L.Dropout(0.25))"
   ],
   "execution_count": 31,
   "outputs": []
  },
  {
   "metadata": {},
   "cell_type": "markdown",
   "source": [
    "### MLP"
   ]
  },
  {
   "metadata": {
    "trusted": false
   },
   "cell_type": "code",
   "source": [
    "model_mlp = Sequential()\n",
    "model_mlp.add(L.Dense(512, input_dim=X_train.shape[1], activation=\"relu\"))\n",
    "model_mlp.add(L.Dropout(0.5))\n",
    "model_mlp.add(L.Dense(256, activation=\"relu\"))\n",
    "model_mlp.add(L.Dropout(0.5))"
   ],
   "execution_count": 32,
   "outputs": []
  },
  {
   "metadata": {},
   "cell_type": "markdown",
   "source": [
    "### Multiple Inputs NN"
   ]
  },
  {
   "metadata": {
    "trusted": false
   },
   "cell_type": "code",
   "source": [
    "combinedInput = L.concatenate([model_nlp.output, model_mlp.output])\n",
    "# being our regression head\n",
    "head = L.Dense(64, activation=\"relu\")(combinedInput)\n",
    "head = L.Dense(1, activation=\"linear\")(head)\n",
    "\n",
    "model = Model(inputs=[model_nlp.input, model_mlp.input], outputs=head)"
   ],
   "execution_count": 33,
   "outputs": []
  },
  {
   "metadata": {
    "_kg_hide-output": true,
    "trusted": false
   },
   "cell_type": "code",
   "source": [
    "model.summary()"
   ],
   "execution_count": 34,
   "outputs": [
    {
     "output_type": "stream",
     "name": "stdout",
     "text": [
      "Model: \"model\"\n__________________________________________________________________________________________________\nLayer (type)                    Output Shape         Param #     Connected to                     \n==================================================================================================\nseq_description (InputLayer)    [(None, 256)]        0                                            \n__________________________________________________________________________________________________\nembedding (Embedding)           (None, 256, 256)     6134272     seq_description[0][0]            \n__________________________________________________________________________________________________\nlstm (LSTM)                     (None, 256, 256)     525312      embedding[0][0]                  \n__________________________________________________________________________________________________\ndropout (Dropout)               (None, 256, 256)     0           lstm[0][0]                       \n__________________________________________________________________________________________________\ndense_1_input (InputLayer)      [(None, 1543)]       0                                            \n__________________________________________________________________________________________________\nlstm_1 (LSTM)                   (None, 128)          197120      dropout[0][0]                    \n__________________________________________________________________________________________________\ndense_1 (Dense)                 (None, 512)          790528      dense_1_input[0][0]              \n__________________________________________________________________________________________________\ndropout_1 (Dropout)             (None, 128)          0           lstm_1[0][0]                     \n__________________________________________________________________________________________________\ndropout_3 (Dropout)             (None, 512)          0           dense_1[0][0]                    \n__________________________________________________________________________________________________\ndense (Dense)                   (None, 64)           8256        dropout_1[0][0]                  \n__________________________________________________________________________________________________\ndense_2 (Dense)                 (None, 256)          131328      dropout_3[0][0]                  \n__________________________________________________________________________________________________\ndropout_2 (Dropout)             (None, 64)           0           dense[0][0]                      \n__________________________________________________________________________________________________\ndropout_4 (Dropout)             (None, 256)          0           dense_2[0][0]                    \n__________________________________________________________________________________________________\nconcatenate (Concatenate)       (None, 320)          0           dropout_2[0][0]                  \n                                                                 dropout_4[0][0]                  \n__________________________________________________________________________________________________\ndense_3 (Dense)                 (None, 64)           20544       concatenate[0][0]                \n__________________________________________________________________________________________________\ndense_4 (Dense)                 (None, 1)            65          dense_3[0][0]                    \n==================================================================================================\nTotal params: 7,807,425\nTrainable params: 7,807,425\nNon-trainable params: 0\n__________________________________________________________________________________________________\n"
     ]
    }
   ]
  },
  {
   "metadata": {},
   "cell_type": "markdown",
   "source": [
    "### Fit"
   ]
  },
  {
   "metadata": {
    "trusted": false
   },
   "cell_type": "code",
   "source": [
    "optimizer = tf.keras.optimizers.Adam(0.01)\n",
    "model.compile(loss='MAPE',optimizer=optimizer, metrics=['MAPE'])"
   ],
   "execution_count": 35,
   "outputs": []
  },
  {
   "metadata": {
    "trusted": false
   },
   "cell_type": "code",
   "source": [
    "checkpoint = ModelCheckpoint('../working/best_model.hdf5', monitor=['val_MAPE'], verbose=0, mode='min')\n",
    "earlystop = EarlyStopping(monitor='val_MAPE', patience=10, restore_best_weights=True,)\n",
    "callbacks_list = [checkpoint, earlystop]"
   ],
   "execution_count": 36,
   "outputs": []
  },
  {
   "metadata": {
    "_kg_hide-output": true,
    "trusted": false
   },
   "cell_type": "code",
   "source": [
    "history = model.fit([text_train_sequences, X_train], y_train,\n",
    "                    batch_size=512,\n",
    "                    epochs=500, # фактически мы обучаем пока EarlyStopping не остановит обучение\n",
    "                    validation_data=([text_test_sequences, X_test], y_test),\n",
    "                    callbacks=callbacks_list\n",
    "                   )"
   ],
   "execution_count": 37,
   "outputs": [
    {
     "output_type": "stream",
     "name": "stdout",
     "text": [
      "Epoch 1/500\n",
      "12/12 [==============================] - 6s 161ms/step - loss: 99.9965 - MAPE: 99.9965 - val_loss: 99.8600 - val_MAPE: 99.8600\n",
      "Epoch 2/500\n",
      "12/12 [==============================] - 1s 112ms/step - loss: 99.3038 - MAPE: 99.3038 - val_loss: 93.4962 - val_MAPE: 93.4962\n",
      "Epoch 3/500\n",
      "12/12 [==============================] - 1s 112ms/step - loss: 85.8520 - MAPE: 85.8520 - val_loss: 49.6116 - val_MAPE: 49.6116\n",
      "Epoch 4/500\n",
      "12/12 [==============================] - 1s 111ms/step - loss: 50.7367 - MAPE: 50.7367 - val_loss: 45.2198 - val_MAPE: 45.2198\n",
      "Epoch 5/500\n",
      "12/12 [==============================] - 1s 113ms/step - loss: 44.9585 - MAPE: 44.9585 - val_loss: 40.8398 - val_MAPE: 40.8398\n",
      "Epoch 6/500\n",
      "12/12 [==============================] - 1s 111ms/step - loss: 39.9128 - MAPE: 39.9128 - val_loss: 36.4333 - val_MAPE: 36.4333\n",
      "Epoch 7/500\n",
      "12/12 [==============================] - 1s 113ms/step - loss: 36.5786 - MAPE: 36.5786 - val_loss: 32.5765 - val_MAPE: 32.5765\n",
      "Epoch 8/500\n",
      "12/12 [==============================] - 1s 113ms/step - loss: 33.1152 - MAPE: 33.1152 - val_loss: 30.1832 - val_MAPE: 30.1832\n",
      "Epoch 9/500\n",
      "12/12 [==============================] - 1s 112ms/step - loss: 31.3230 - MAPE: 31.3230 - val_loss: 28.1488 - val_MAPE: 28.1488\n",
      "Epoch 10/500\n",
      "12/12 [==============================] - 1s 114ms/step - loss: 28.0051 - MAPE: 28.0051 - val_loss: 26.4322 - val_MAPE: 26.4322\n",
      "Epoch 11/500\n",
      "12/12 [==============================] - 1s 112ms/step - loss: 26.8203 - MAPE: 26.8203 - val_loss: 24.7584 - val_MAPE: 24.7584\n",
      "Epoch 12/500\n",
      "12/12 [==============================] - 1s 113ms/step - loss: 25.1080 - MAPE: 25.1080 - val_loss: 23.6277 - val_MAPE: 23.6277\n",
      "Epoch 13/500\n",
      "12/12 [==============================] - 1s 113ms/step - loss: 23.6104 - MAPE: 23.6104 - val_loss: 22.5730 - val_MAPE: 22.5730\n",
      "Epoch 14/500\n",
      "12/12 [==============================] - 1s 111ms/step - loss: 22.6488 - MAPE: 22.6488 - val_loss: 22.1704 - val_MAPE: 22.1704\n",
      "Epoch 15/500\n",
      "12/12 [==============================] - 1s 115ms/step - loss: 21.2930 - MAPE: 21.2930 - val_loss: 21.2321 - val_MAPE: 21.2321\n",
      "Epoch 16/500\n",
      "12/12 [==============================] - 1s 109ms/step - loss: 20.3806 - MAPE: 20.3806 - val_loss: 20.5753 - val_MAPE: 20.5753\n",
      "Epoch 17/500\n",
      "12/12 [==============================] - 1s 111ms/step - loss: 20.2375 - MAPE: 20.2375 - val_loss: 20.2223 - val_MAPE: 20.2223\n",
      "Epoch 18/500\n",
      "12/12 [==============================] - 1s 110ms/step - loss: 19.0967 - MAPE: 19.0967 - val_loss: 19.7118 - val_MAPE: 19.7118\n",
      "Epoch 19/500\n",
      "12/12 [==============================] - 1s 111ms/step - loss: 18.5361 - MAPE: 18.5361 - val_loss: 19.6727 - val_MAPE: 19.6727\n",
      "Epoch 20/500\n",
      "12/12 [==============================] - 1s 110ms/step - loss: 18.0927 - MAPE: 18.0927 - val_loss: 19.5529 - val_MAPE: 19.5529\n",
      "Epoch 21/500\n",
      "12/12 [==============================] - 1s 109ms/step - loss: 18.4359 - MAPE: 18.4359 - val_loss: 19.8731 - val_MAPE: 19.8731\n",
      "Epoch 22/500\n",
      "12/12 [==============================] - 1s 110ms/step - loss: 17.8720 - MAPE: 17.8720 - val_loss: 18.7414 - val_MAPE: 18.7414\n",
      "Epoch 23/500\n",
      "12/12 [==============================] - 1s 110ms/step - loss: 17.5880 - MAPE: 17.5880 - val_loss: 18.6100 - val_MAPE: 18.6100\n",
      "Epoch 24/500\n",
      "12/12 [==============================] - 1s 110ms/step - loss: 17.0586 - MAPE: 17.0586 - val_loss: 18.5782 - val_MAPE: 18.5782\n",
      "Epoch 25/500\n",
      "12/12 [==============================] - 1s 110ms/step - loss: 16.8979 - MAPE: 16.8979 - val_loss: 18.1811 - val_MAPE: 18.1811\n",
      "Epoch 26/500\n",
      "12/12 [==============================] - 1s 110ms/step - loss: 16.5790 - MAPE: 16.5790 - val_loss: 18.1333 - val_MAPE: 18.1333\n",
      "Epoch 27/500\n",
      "12/12 [==============================] - 1s 110ms/step - loss: 16.1350 - MAPE: 16.1350 - val_loss: 17.8363 - val_MAPE: 17.8363\n",
      "Epoch 28/500\n",
      "12/12 [==============================] - 1s 110ms/step - loss: 16.2569 - MAPE: 16.2569 - val_loss: 17.6758 - val_MAPE: 17.6758\n",
      "Epoch 29/500\n",
      "12/12 [==============================] - 1s 110ms/step - loss: 15.9036 - MAPE: 15.9036 - val_loss: 17.3807 - val_MAPE: 17.3807\n",
      "Epoch 30/500\n",
      "12/12 [==============================] - 1s 114ms/step - loss: 15.8190 - MAPE: 15.8190 - val_loss: 17.4053 - val_MAPE: 17.4053\n",
      "Epoch 31/500\n",
      "12/12 [==============================] - 1s 111ms/step - loss: 15.4481 - MAPE: 15.4481 - val_loss: 17.2720 - val_MAPE: 17.2720\n",
      "Epoch 32/500\n",
      "12/12 [==============================] - 1s 114ms/step - loss: 15.4268 - MAPE: 15.4268 - val_loss: 16.8909 - val_MAPE: 16.8909\n",
      "Epoch 33/500\n",
      "12/12 [==============================] - 1s 110ms/step - loss: 15.4992 - MAPE: 15.4992 - val_loss: 16.7217 - val_MAPE: 16.7217\n",
      "Epoch 34/500\n",
      "12/12 [==============================] - 1s 111ms/step - loss: 14.8477 - MAPE: 14.8477 - val_loss: 16.7144 - val_MAPE: 16.7144\n",
      "Epoch 35/500\n",
      "12/12 [==============================] - 1s 112ms/step - loss: 14.9673 - MAPE: 14.9673 - val_loss: 16.7389 - val_MAPE: 16.7389\n",
      "Epoch 36/500\n",
      "12/12 [==============================] - 1s 114ms/step - loss: 14.9281 - MAPE: 14.9281 - val_loss: 16.5786 - val_MAPE: 16.5786\n",
      "Epoch 37/500\n",
      "12/12 [==============================] - 1s 109ms/step - loss: 14.6463 - MAPE: 14.6463 - val_loss: 16.5910 - val_MAPE: 16.5910\n",
      "Epoch 38/500\n",
      "12/12 [==============================] - 1s 112ms/step - loss: 14.7305 - MAPE: 14.7305 - val_loss: 16.4375 - val_MAPE: 16.4375\n",
      "Epoch 39/500\n",
      "12/12 [==============================] - 1s 109ms/step - loss: 14.5002 - MAPE: 14.5002 - val_loss: 16.5700 - val_MAPE: 16.5700\n",
      "Epoch 40/500\n",
      "12/12 [==============================] - 1s 112ms/step - loss: 14.5564 - MAPE: 14.5564 - val_loss: 16.2842 - val_MAPE: 16.2842\n",
      "Epoch 41/500\n",
      "12/12 [==============================] - 1s 110ms/step - loss: 14.0077 - MAPE: 14.0077 - val_loss: 16.1640 - val_MAPE: 16.1640\n",
      "Epoch 42/500\n",
      "12/12 [==============================] - 1s 109ms/step - loss: 13.7543 - MAPE: 13.7543 - val_loss: 16.1668 - val_MAPE: 16.1668\n",
      "Epoch 43/500\n",
      "12/12 [==============================] - 1s 109ms/step - loss: 13.4916 - MAPE: 13.4916 - val_loss: 16.0857 - val_MAPE: 16.0857\n",
      "Epoch 44/500\n",
      "12/12 [==============================] - 1s 109ms/step - loss: 13.5164 - MAPE: 13.5164 - val_loss: 15.9073 - val_MAPE: 15.9073\n",
      "Epoch 45/500\n",
      "12/12 [==============================] - 1s 108ms/step - loss: 13.8136 - MAPE: 13.8136 - val_loss: 15.7783 - val_MAPE: 15.7783\n",
      "Epoch 46/500\n",
      "12/12 [==============================] - 1s 109ms/step - loss: 13.6149 - MAPE: 13.6149 - val_loss: 15.9832 - val_MAPE: 15.9832\n",
      "Epoch 47/500\n",
      "12/12 [==============================] - 1s 109ms/step - loss: 13.5528 - MAPE: 13.5528 - val_loss: 15.9809 - val_MAPE: 15.9809\n",
      "Epoch 48/500\n",
      "12/12 [==============================] - 1s 110ms/step - loss: 13.4855 - MAPE: 13.4855 - val_loss: 15.7295 - val_MAPE: 15.7295\n",
      "Epoch 49/500\n",
      "12/12 [==============================] - 1s 114ms/step - loss: 13.5075 - MAPE: 13.5075 - val_loss: 15.6152 - val_MAPE: 15.6152\n",
      "Epoch 50/500\n",
      "12/12 [==============================] - 1s 109ms/step - loss: 13.2666 - MAPE: 13.2666 - val_loss: 15.6887 - val_MAPE: 15.6887\n",
      "Epoch 51/500\n",
      "12/12 [==============================] - 1s 108ms/step - loss: 13.2923 - MAPE: 13.2923 - val_loss: 15.5836 - val_MAPE: 15.5836\n",
      "Epoch 52/500\n",
      "12/12 [==============================] - 1s 108ms/step - loss: 12.9643 - MAPE: 12.9643 - val_loss: 15.6768 - val_MAPE: 15.6768\n",
      "Epoch 53/500\n",
      "12/12 [==============================] - 1s 110ms/step - loss: 13.2035 - MAPE: 13.2035 - val_loss: 15.7657 - val_MAPE: 15.7657\n",
      "Epoch 54/500\n",
      "12/12 [==============================] - 1s 109ms/step - loss: 13.1280 - MAPE: 13.1280 - val_loss: 15.6560 - val_MAPE: 15.6560\n",
      "Epoch 55/500\n",
      "12/12 [==============================] - 1s 108ms/step - loss: 12.9864 - MAPE: 12.9864 - val_loss: 15.3213 - val_MAPE: 15.3213\n",
      "Epoch 56/500\n",
      "12/12 [==============================] - 1s 109ms/step - loss: 12.8426 - MAPE: 12.8426 - val_loss: 15.4784 - val_MAPE: 15.4784\n",
      "Epoch 57/500\n",
      "12/12 [==============================] - 1s 110ms/step - loss: 13.0411 - MAPE: 13.0411 - val_loss: 15.5523 - val_MAPE: 15.5523\n",
      "Epoch 58/500\n",
      "12/12 [==============================] - 1s 110ms/step - loss: 13.0489 - MAPE: 13.0489 - val_loss: 15.4750 - val_MAPE: 15.4750\n",
      "Epoch 59/500\n",
      "12/12 [==============================] - 1s 112ms/step - loss: 13.0809 - MAPE: 13.0809 - val_loss: 15.6989 - val_MAPE: 15.6989\n",
      "Epoch 60/500\n",
      "12/12 [==============================] - 1s 113ms/step - loss: 13.1991 - MAPE: 13.1991 - val_loss: 15.9323 - val_MAPE: 15.9323\n",
      "Epoch 61/500\n",
      "12/12 [==============================] - 1s 110ms/step - loss: 13.1320 - MAPE: 13.1320 - val_loss: 15.5635 - val_MAPE: 15.5635\n",
      "Epoch 62/500\n",
      "12/12 [==============================] - 1s 111ms/step - loss: 12.3069 - MAPE: 12.3069 - val_loss: 15.3000 - val_MAPE: 15.3000\n",
      "Epoch 63/500\n",
      "12/12 [==============================] - 1s 112ms/step - loss: 12.7327 - MAPE: 12.7327 - val_loss: 15.2844 - val_MAPE: 15.2844\n",
      "Epoch 64/500\n",
      "12/12 [==============================] - 1s 110ms/step - loss: 12.5102 - MAPE: 12.5102 - val_loss: 15.2511 - val_MAPE: 15.2511\n",
      "Epoch 65/500\n",
      "12/12 [==============================] - 1s 112ms/step - loss: 12.6329 - MAPE: 12.6329 - val_loss: 15.4161 - val_MAPE: 15.4161\n",
      "Epoch 66/500\n",
      "12/12 [==============================] - 1s 108ms/step - loss: 12.4669 - MAPE: 12.4669 - val_loss: 15.1295 - val_MAPE: 15.1295\n",
      "Epoch 67/500\n",
      "12/12 [==============================] - 1s 110ms/step - loss: 12.4968 - MAPE: 12.4968 - val_loss: 15.1329 - val_MAPE: 15.1329\n",
      "Epoch 68/500\n",
      "12/12 [==============================] - 1s 108ms/step - loss: 12.2981 - MAPE: 12.2981 - val_loss: 15.2218 - val_MAPE: 15.2218\n",
      "Epoch 69/500\n",
      "12/12 [==============================] - 1s 107ms/step - loss: 12.4009 - MAPE: 12.4009 - val_loss: 15.2635 - val_MAPE: 15.2635\n",
      "Epoch 70/500\n",
      "12/12 [==============================] - 1s 115ms/step - loss: 12.3768 - MAPE: 12.3768 - val_loss: 15.2020 - val_MAPE: 15.2020\n",
      "Epoch 71/500\n",
      "12/12 [==============================] - 1s 112ms/step - loss: 12.5722 - MAPE: 12.5722 - val_loss: 14.9902 - val_MAPE: 14.9902\n",
      "Epoch 72/500\n",
      "12/12 [==============================] - 1s 107ms/step - loss: 12.1313 - MAPE: 12.1313 - val_loss: 15.1178 - val_MAPE: 15.1178\n",
      "Epoch 73/500\n",
      "12/12 [==============================] - 1s 111ms/step - loss: 12.2870 - MAPE: 12.2870 - val_loss: 15.1214 - val_MAPE: 15.1214\n",
      "Epoch 74/500\n",
      "12/12 [==============================] - 1s 113ms/step - loss: 12.0535 - MAPE: 12.0535 - val_loss: 15.0283 - val_MAPE: 15.0283\n",
      "Epoch 75/500\n",
      "12/12 [==============================] - 1s 113ms/step - loss: 11.8785 - MAPE: 11.8785 - val_loss: 15.0944 - val_MAPE: 15.0944\n",
      "Epoch 76/500\n",
      "12/12 [==============================] - 1s 113ms/step - loss: 11.9945 - MAPE: 11.9945 - val_loss: 15.0501 - val_MAPE: 15.0501\n",
      "Epoch 77/500\n",
      "12/12 [==============================] - 1s 112ms/step - loss: 11.9667 - MAPE: 11.9667 - val_loss: 15.1823 - val_MAPE: 15.1823\n",
      "Epoch 78/500\n",
      "12/12 [==============================] - 1s 111ms/step - loss: 11.8938 - MAPE: 11.8938 - val_loss: 15.2790 - val_MAPE: 15.2790\n",
      "Epoch 79/500\n",
      "12/12 [==============================] - 1s 113ms/step - loss: 11.7323 - MAPE: 11.7323 - val_loss: 15.0719 - val_MAPE: 15.0719\n",
      "Epoch 80/500\n",
      "12/12 [==============================] - 1s 110ms/step - loss: 11.6135 - MAPE: 11.6135 - val_loss: 15.0564 - val_MAPE: 15.0564\n",
      "Epoch 81/500\n",
      "12/12 [==============================] - 1s 112ms/step - loss: 11.7765 - MAPE: 11.7765 - val_loss: 14.9360 - val_MAPE: 14.9360\n",
      "Epoch 82/500\n",
      "12/12 [==============================] - 1s 110ms/step - loss: 11.7163 - MAPE: 11.7163 - val_loss: 14.8730 - val_MAPE: 14.8730\n",
      "Epoch 83/500\n",
      "12/12 [==============================] - 1s 109ms/step - loss: 11.7301 - MAPE: 11.7301 - val_loss: 14.9831 - val_MAPE: 14.9831\n",
      "Epoch 84/500\n",
      "12/12 [==============================] - 1s 111ms/step - loss: 11.6462 - MAPE: 11.6462 - val_loss: 14.9516 - val_MAPE: 14.9516\n",
      "Epoch 85/500\n",
      "12/12 [==============================] - 1s 112ms/step - loss: 11.6190 - MAPE: 11.6190 - val_loss: 15.0146 - val_MAPE: 15.0146\n",
      "Epoch 86/500\n",
      "12/12 [==============================] - 1s 113ms/step - loss: 11.6555 - MAPE: 11.6555 - val_loss: 14.9743 - val_MAPE: 14.9743\n",
      "Epoch 87/500\n",
      "12/12 [==============================] - 1s 113ms/step - loss: 11.6180 - MAPE: 11.6180 - val_loss: 14.7238 - val_MAPE: 14.7238\n",
      "Epoch 88/500\n",
      "12/12 [==============================] - 1s 113ms/step - loss: 11.3978 - MAPE: 11.3978 - val_loss: 14.9344 - val_MAPE: 14.9344\n",
      "Epoch 89/500\n",
      "12/12 [==============================] - 1s 107ms/step - loss: 11.5775 - MAPE: 11.5775 - val_loss: 14.7781 - val_MAPE: 14.7781\n",
      "Epoch 90/500\n",
      "12/12 [==============================] - 1s 111ms/step - loss: 11.5648 - MAPE: 11.5648 - val_loss: 15.0071 - val_MAPE: 15.0071\n",
      "Epoch 91/500\n",
      "12/12 [==============================] - 1s 110ms/step - loss: 11.6127 - MAPE: 11.6127 - val_loss: 14.9645 - val_MAPE: 14.9645\n",
      "Epoch 92/500\n",
      "12/12 [==============================] - 1s 111ms/step - loss: 11.3869 - MAPE: 11.3869 - val_loss: 14.8579 - val_MAPE: 14.8579\n",
      "Epoch 93/500\n",
      "12/12 [==============================] - 1s 109ms/step - loss: 11.4384 - MAPE: 11.4384 - val_loss: 15.0423 - val_MAPE: 15.0423\n",
      "Epoch 94/500\n",
      "12/12 [==============================] - 1s 108ms/step - loss: 11.6335 - MAPE: 11.6335 - val_loss: 14.7569 - val_MAPE: 14.7569\n",
      "Epoch 95/500\n",
      "12/12 [==============================] - 1s 109ms/step - loss: 11.4654 - MAPE: 11.4654 - val_loss: 14.9292 - val_MAPE: 14.9292\n",
      "Epoch 96/500\n",
      "12/12 [==============================] - 1s 110ms/step - loss: 11.4521 - MAPE: 11.4521 - val_loss: 14.7153 - val_MAPE: 14.7153\n",
      "Epoch 97/500\n",
      "12/12 [==============================] - 1s 111ms/step - loss: 11.6345 - MAPE: 11.6345 - val_loss: 14.8818 - val_MAPE: 14.8818\n",
      "Epoch 98/500\n",
      "12/12 [==============================] - 1s 109ms/step - loss: 11.2527 - MAPE: 11.2527 - val_loss: 14.6915 - val_MAPE: 14.6915\n",
      "Epoch 99/500\n",
      "12/12 [==============================] - 1s 106ms/step - loss: 11.3333 - MAPE: 11.3333 - val_loss: 14.5545 - val_MAPE: 14.5545\n",
      "Epoch 100/500\n",
      "12/12 [==============================] - 1s 107ms/step - loss: 11.4123 - MAPE: 11.4123 - val_loss: 14.6170 - val_MAPE: 14.6170\n",
      "Epoch 101/500\n",
      "12/12 [==============================] - 1s 109ms/step - loss: 11.2809 - MAPE: 11.2809 - val_loss: 14.6471 - val_MAPE: 14.6471\n",
      "Epoch 102/500\n",
      "12/12 [==============================] - 1s 113ms/step - loss: 11.3566 - MAPE: 11.3566 - val_loss: 14.5545 - val_MAPE: 14.5545\n",
      "Epoch 103/500\n",
      "12/12 [==============================] - 1s 108ms/step - loss: 11.2988 - MAPE: 11.2988 - val_loss: 14.5862 - val_MAPE: 14.5862\n",
      "Epoch 104/500\n",
      "12/12 [==============================] - 1s 111ms/step - loss: 10.9013 - MAPE: 10.9013 - val_loss: 14.6396 - val_MAPE: 14.6396\n",
      "Epoch 105/500\n",
      "12/12 [==============================] - 1s 112ms/step - loss: 11.2673 - MAPE: 11.2673 - val_loss: 14.6853 - val_MAPE: 14.6853\n",
      "Epoch 106/500\n",
      "12/12 [==============================] - 1s 114ms/step - loss: 11.0603 - MAPE: 11.0603 - val_loss: 14.5247 - val_MAPE: 14.5247\n",
      "Epoch 107/500\n",
      "12/12 [==============================] - 1s 114ms/step - loss: 10.9836 - MAPE: 10.9836 - val_loss: 14.5671 - val_MAPE: 14.5671\n",
      "Epoch 108/500\n",
      "12/12 [==============================] - 1s 113ms/step - loss: 11.2416 - MAPE: 11.2416 - val_loss: 14.7162 - val_MAPE: 14.7162\n",
      "Epoch 109/500\n",
      "12/12 [==============================] - 1s 112ms/step - loss: 11.1944 - MAPE: 11.1944 - val_loss: 14.7436 - val_MAPE: 14.7436\n",
      "Epoch 110/500\n",
      "12/12 [==============================] - 1s 112ms/step - loss: 11.2668 - MAPE: 11.2668 - val_loss: 14.4916 - val_MAPE: 14.4916\n",
      "Epoch 111/500\n",
      "12/12 [==============================] - 1s 114ms/step - loss: 11.0919 - MAPE: 11.0919 - val_loss: 14.6921 - val_MAPE: 14.6921\n",
      "Epoch 112/500\n",
      "12/12 [==============================] - 1s 113ms/step - loss: 10.9925 - MAPE: 10.9925 - val_loss: 14.4443 - val_MAPE: 14.4443\n",
      "Epoch 113/500\n",
      "12/12 [==============================] - 1s 113ms/step - loss: 10.9456 - MAPE: 10.9456 - val_loss: 14.4762 - val_MAPE: 14.4762\n",
      "Epoch 114/500\n",
      "12/12 [==============================] - 1s 113ms/step - loss: 10.7202 - MAPE: 10.7202 - val_loss: 14.2921 - val_MAPE: 14.2921\n",
      "Epoch 115/500\n",
      "12/12 [==============================] - 1s 113ms/step - loss: 10.9339 - MAPE: 10.9339 - val_loss: 14.3529 - val_MAPE: 14.3529\n",
      "Epoch 116/500\n",
      "12/12 [==============================] - 1s 113ms/step - loss: 11.0113 - MAPE: 11.0113 - val_loss: 14.4435 - val_MAPE: 14.4435\n",
      "Epoch 117/500\n",
      "12/12 [==============================] - 1s 114ms/step - loss: 10.9339 - MAPE: 10.9339 - val_loss: 14.4685 - val_MAPE: 14.4685\n",
      "Epoch 118/500\n",
      "12/12 [==============================] - 1s 115ms/step - loss: 10.6881 - MAPE: 10.6881 - val_loss: 14.3552 - val_MAPE: 14.3552\n",
      "Epoch 119/500\n",
      "12/12 [==============================] - 1s 113ms/step - loss: 11.0671 - MAPE: 11.0671 - val_loss: 14.4564 - val_MAPE: 14.4564\n",
      "Epoch 120/500\n",
      "12/12 [==============================] - 1s 112ms/step - loss: 10.9504 - MAPE: 10.9504 - val_loss: 14.4279 - val_MAPE: 14.4279\n",
      "Epoch 121/500\n",
      "12/12 [==============================] - 1s 113ms/step - loss: 11.0435 - MAPE: 11.0435 - val_loss: 14.3969 - val_MAPE: 14.3969\n",
      "Epoch 122/500\n",
      "12/12 [==============================] - 1s 113ms/step - loss: 10.8495 - MAPE: 10.8495 - val_loss: 14.4346 - val_MAPE: 14.4346\n",
      "Epoch 123/500\n",
      "12/12 [==============================] - 1s 115ms/step - loss: 10.8378 - MAPE: 10.8378 - val_loss: 14.4448 - val_MAPE: 14.4448\n",
      "Epoch 124/500\n",
      "12/12 [==============================] - 1s 112ms/step - loss: 10.8206 - MAPE: 10.8206 - val_loss: 14.4056 - val_MAPE: 14.4056\n"
     ]
    }
   ]
  },
  {
   "metadata": {
    "trusted": false
   },
   "cell_type": "code",
   "source": [
    "plt.title('Loss')\n",
    "plt.plot(history.history['MAPE'], label='train')\n",
    "plt.plot(history.history['val_MAPE'], label='test')\n",
    "plt.show();"
   ],
   "execution_count": 36,
   "outputs": [
    {
     "output_type": "display_data",
     "data": {
      "text/plain": "<Figure size 432x288 with 1 Axes>",
      "image/svg+xml": "<?xml version=\"1.0\" encoding=\"utf-8\" standalone=\"no\"?>\n<!DOCTYPE svg PUBLIC \"-//W3C//DTD SVG 1.1//EN\"\n  \"http://www.w3.org/Graphics/SVG/1.1/DTD/svg11.dtd\">\n<!-- Created with matplotlib (https://matplotlib.org/) -->\n<svg height=\"263.63625pt\" version=\"1.1\" viewBox=\"0 0 382.84627 263.63625\" width=\"382.84627pt\" xmlns=\"http://www.w3.org/2000/svg\" xmlns:xlink=\"http://www.w3.org/1999/xlink\">\n <metadata>\n  <rdf:RDF xmlns:cc=\"http://creativecommons.org/ns#\" xmlns:dc=\"http://purl.org/dc/elements/1.1/\" xmlns:rdf=\"http://www.w3.org/1999/02/22-rdf-syntax-ns#\">\n   <cc:Work>\n    <dc:type rdf:resource=\"http://purl.org/dc/dcmitype/StillImage\"/>\n    <dc:date>2020-11-10T19:54:51.282051</dc:date>\n    <dc:format>image/svg+xml</dc:format>\n    <dc:creator>\n     <cc:Agent>\n      <dc:title>Matplotlib v3.3.2, https://matplotlib.org/</dc:title>\n     </cc:Agent>\n    </dc:creator>\n   </cc:Work>\n  </rdf:RDF>\n </metadata>\n <defs>\n  <style type=\"text/css\">*{stroke-linecap:butt;stroke-linejoin:round;}</style>\n </defs>\n <g id=\"figure_1\">\n  <g id=\"patch_1\">\n   <path d=\"M 0 263.63625 \nL 382.84627 263.63625 \nL 382.84627 0 \nL 0 0 \nz\n\" style=\"fill:none;\"/>\n  </g>\n  <g id=\"axes_1\">\n   <g id=\"patch_2\">\n    <path d=\"M 33.2875 239.758125 \nL 368.0875 239.758125 \nL 368.0875 22.318125 \nL 33.2875 22.318125 \nz\n\" style=\"fill:#ffffff;\"/>\n   </g>\n   <g id=\"matplotlib.axis_1\">\n    <g id=\"xtick_1\">\n     <g id=\"line2d_1\">\n      <defs>\n       <path d=\"M 0 0 \nL 0 3.5 \n\" id=\"m0758b4edd9\" style=\"stroke:#000000;stroke-width:0.8;\"/>\n      </defs>\n      <g>\n       <use style=\"stroke:#000000;stroke-width:0.8;\" x=\"48.505682\" xlink:href=\"#m0758b4edd9\" y=\"239.758125\"/>\n      </g>\n     </g>\n     <g id=\"text_1\">\n      <!-- 0 -->\n      <g transform=\"translate(45.324432 254.356563)scale(0.1 -0.1)\">\n       <defs>\n        <path d=\"M 31.78125 66.40625 \nQ 24.171875 66.40625 20.328125 58.90625 \nQ 16.5 51.421875 16.5 36.375 \nQ 16.5 21.390625 20.328125 13.890625 \nQ 24.171875 6.390625 31.78125 6.390625 \nQ 39.453125 6.390625 43.28125 13.890625 \nQ 47.125 21.390625 47.125 36.375 \nQ 47.125 51.421875 43.28125 58.90625 \nQ 39.453125 66.40625 31.78125 66.40625 \nz\nM 31.78125 74.21875 \nQ 44.046875 74.21875 50.515625 64.515625 \nQ 56.984375 54.828125 56.984375 36.375 \nQ 56.984375 17.96875 50.515625 8.265625 \nQ 44.046875 -1.421875 31.78125 -1.421875 \nQ 19.53125 -1.421875 13.0625 8.265625 \nQ 6.59375 17.96875 6.59375 36.375 \nQ 6.59375 54.828125 13.0625 64.515625 \nQ 19.53125 74.21875 31.78125 74.21875 \nz\n\" id=\"DejaVuSans-48\"/>\n       </defs>\n       <use xlink:href=\"#DejaVuSans-48\"/>\n      </g>\n     </g>\n    </g>\n    <g id=\"xtick_2\">\n     <g id=\"line2d_2\">\n      <g>\n       <use style=\"stroke:#000000;stroke-width:0.8;\" x=\"101.438488\" xlink:href=\"#m0758b4edd9\" y=\"239.758125\"/>\n      </g>\n     </g>\n     <g id=\"text_2\">\n      <!-- 20 -->\n      <g transform=\"translate(95.075988 254.356563)scale(0.1 -0.1)\">\n       <defs>\n        <path d=\"M 19.1875 8.296875 \nL 53.609375 8.296875 \nL 53.609375 0 \nL 7.328125 0 \nL 7.328125 8.296875 \nQ 12.9375 14.109375 22.625 23.890625 \nQ 32.328125 33.6875 34.8125 36.53125 \nQ 39.546875 41.84375 41.421875 45.53125 \nQ 43.3125 49.21875 43.3125 52.78125 \nQ 43.3125 58.59375 39.234375 62.25 \nQ 35.15625 65.921875 28.609375 65.921875 \nQ 23.96875 65.921875 18.8125 64.3125 \nQ 13.671875 62.703125 7.8125 59.421875 \nL 7.8125 69.390625 \nQ 13.765625 71.78125 18.9375 73 \nQ 24.125 74.21875 28.421875 74.21875 \nQ 39.75 74.21875 46.484375 68.546875 \nQ 53.21875 62.890625 53.21875 53.421875 \nQ 53.21875 48.921875 51.53125 44.890625 \nQ 49.859375 40.875 45.40625 35.40625 \nQ 44.1875 33.984375 37.640625 27.21875 \nQ 31.109375 20.453125 19.1875 8.296875 \nz\n\" id=\"DejaVuSans-50\"/>\n       </defs>\n       <use xlink:href=\"#DejaVuSans-50\"/>\n       <use x=\"63.623047\" xlink:href=\"#DejaVuSans-48\"/>\n      </g>\n     </g>\n    </g>\n    <g id=\"xtick_3\">\n     <g id=\"line2d_3\">\n      <g>\n       <use style=\"stroke:#000000;stroke-width:0.8;\" x=\"154.371294\" xlink:href=\"#m0758b4edd9\" y=\"239.758125\"/>\n      </g>\n     </g>\n     <g id=\"text_3\">\n      <!-- 40 -->\n      <g transform=\"translate(148.008794 254.356563)scale(0.1 -0.1)\">\n       <defs>\n        <path d=\"M 37.796875 64.3125 \nL 12.890625 25.390625 \nL 37.796875 25.390625 \nz\nM 35.203125 72.90625 \nL 47.609375 72.90625 \nL 47.609375 25.390625 \nL 58.015625 25.390625 \nL 58.015625 17.1875 \nL 47.609375 17.1875 \nL 47.609375 0 \nL 37.796875 0 \nL 37.796875 17.1875 \nL 4.890625 17.1875 \nL 4.890625 26.703125 \nz\n\" id=\"DejaVuSans-52\"/>\n       </defs>\n       <use xlink:href=\"#DejaVuSans-52\"/>\n       <use x=\"63.623047\" xlink:href=\"#DejaVuSans-48\"/>\n      </g>\n     </g>\n    </g>\n    <g id=\"xtick_4\">\n     <g id=\"line2d_4\">\n      <g>\n       <use style=\"stroke:#000000;stroke-width:0.8;\" x=\"207.304101\" xlink:href=\"#m0758b4edd9\" y=\"239.758125\"/>\n      </g>\n     </g>\n     <g id=\"text_4\">\n      <!-- 60 -->\n      <g transform=\"translate(200.941601 254.356563)scale(0.1 -0.1)\">\n       <defs>\n        <path d=\"M 33.015625 40.375 \nQ 26.375 40.375 22.484375 35.828125 \nQ 18.609375 31.296875 18.609375 23.390625 \nQ 18.609375 15.53125 22.484375 10.953125 \nQ 26.375 6.390625 33.015625 6.390625 \nQ 39.65625 6.390625 43.53125 10.953125 \nQ 47.40625 15.53125 47.40625 23.390625 \nQ 47.40625 31.296875 43.53125 35.828125 \nQ 39.65625 40.375 33.015625 40.375 \nz\nM 52.59375 71.296875 \nL 52.59375 62.3125 \nQ 48.875 64.0625 45.09375 64.984375 \nQ 41.3125 65.921875 37.59375 65.921875 \nQ 27.828125 65.921875 22.671875 59.328125 \nQ 17.53125 52.734375 16.796875 39.40625 \nQ 19.671875 43.65625 24.015625 45.921875 \nQ 28.375 48.1875 33.59375 48.1875 \nQ 44.578125 48.1875 50.953125 41.515625 \nQ 57.328125 34.859375 57.328125 23.390625 \nQ 57.328125 12.15625 50.6875 5.359375 \nQ 44.046875 -1.421875 33.015625 -1.421875 \nQ 20.359375 -1.421875 13.671875 8.265625 \nQ 6.984375 17.96875 6.984375 36.375 \nQ 6.984375 53.65625 15.1875 63.9375 \nQ 23.390625 74.21875 37.203125 74.21875 \nQ 40.921875 74.21875 44.703125 73.484375 \nQ 48.484375 72.75 52.59375 71.296875 \nz\n\" id=\"DejaVuSans-54\"/>\n       </defs>\n       <use xlink:href=\"#DejaVuSans-54\"/>\n       <use x=\"63.623047\" xlink:href=\"#DejaVuSans-48\"/>\n      </g>\n     </g>\n    </g>\n    <g id=\"xtick_5\">\n     <g id=\"line2d_5\">\n      <g>\n       <use style=\"stroke:#000000;stroke-width:0.8;\" x=\"260.236907\" xlink:href=\"#m0758b4edd9\" y=\"239.758125\"/>\n      </g>\n     </g>\n     <g id=\"text_5\">\n      <!-- 80 -->\n      <g transform=\"translate(253.874407 254.356563)scale(0.1 -0.1)\">\n       <defs>\n        <path d=\"M 31.78125 34.625 \nQ 24.75 34.625 20.71875 30.859375 \nQ 16.703125 27.09375 16.703125 20.515625 \nQ 16.703125 13.921875 20.71875 10.15625 \nQ 24.75 6.390625 31.78125 6.390625 \nQ 38.8125 6.390625 42.859375 10.171875 \nQ 46.921875 13.96875 46.921875 20.515625 \nQ 46.921875 27.09375 42.890625 30.859375 \nQ 38.875 34.625 31.78125 34.625 \nz\nM 21.921875 38.8125 \nQ 15.578125 40.375 12.03125 44.71875 \nQ 8.5 49.078125 8.5 55.328125 \nQ 8.5 64.0625 14.71875 69.140625 \nQ 20.953125 74.21875 31.78125 74.21875 \nQ 42.671875 74.21875 48.875 69.140625 \nQ 55.078125 64.0625 55.078125 55.328125 \nQ 55.078125 49.078125 51.53125 44.71875 \nQ 48 40.375 41.703125 38.8125 \nQ 48.828125 37.15625 52.796875 32.3125 \nQ 56.78125 27.484375 56.78125 20.515625 \nQ 56.78125 9.90625 50.3125 4.234375 \nQ 43.84375 -1.421875 31.78125 -1.421875 \nQ 19.734375 -1.421875 13.25 4.234375 \nQ 6.78125 9.90625 6.78125 20.515625 \nQ 6.78125 27.484375 10.78125 32.3125 \nQ 14.796875 37.15625 21.921875 38.8125 \nz\nM 18.3125 54.390625 \nQ 18.3125 48.734375 21.84375 45.5625 \nQ 25.390625 42.390625 31.78125 42.390625 \nQ 38.140625 42.390625 41.71875 45.5625 \nQ 45.3125 48.734375 45.3125 54.390625 \nQ 45.3125 60.0625 41.71875 63.234375 \nQ 38.140625 66.40625 31.78125 66.40625 \nQ 25.390625 66.40625 21.84375 63.234375 \nQ 18.3125 60.0625 18.3125 54.390625 \nz\n\" id=\"DejaVuSans-56\"/>\n       </defs>\n       <use xlink:href=\"#DejaVuSans-56\"/>\n       <use x=\"63.623047\" xlink:href=\"#DejaVuSans-48\"/>\n      </g>\n     </g>\n    </g>\n    <g id=\"xtick_6\">\n     <g id=\"line2d_6\">\n      <g>\n       <use style=\"stroke:#000000;stroke-width:0.8;\" x=\"313.169713\" xlink:href=\"#m0758b4edd9\" y=\"239.758125\"/>\n      </g>\n     </g>\n     <g id=\"text_6\">\n      <!-- 100 -->\n      <g transform=\"translate(303.625963 254.356563)scale(0.1 -0.1)\">\n       <defs>\n        <path d=\"M 12.40625 8.296875 \nL 28.515625 8.296875 \nL 28.515625 63.921875 \nL 10.984375 60.40625 \nL 10.984375 69.390625 \nL 28.421875 72.90625 \nL 38.28125 72.90625 \nL 38.28125 8.296875 \nL 54.390625 8.296875 \nL 54.390625 0 \nL 12.40625 0 \nz\n\" id=\"DejaVuSans-49\"/>\n       </defs>\n       <use xlink:href=\"#DejaVuSans-49\"/>\n       <use x=\"63.623047\" xlink:href=\"#DejaVuSans-48\"/>\n       <use x=\"127.246094\" xlink:href=\"#DejaVuSans-48\"/>\n      </g>\n     </g>\n    </g>\n    <g id=\"xtick_7\">\n     <g id=\"line2d_7\">\n      <g>\n       <use style=\"stroke:#000000;stroke-width:0.8;\" x=\"366.10252\" xlink:href=\"#m0758b4edd9\" y=\"239.758125\"/>\n      </g>\n     </g>\n     <g id=\"text_7\">\n      <!-- 120 -->\n      <g transform=\"translate(356.55877 254.356563)scale(0.1 -0.1)\">\n       <use xlink:href=\"#DejaVuSans-49\"/>\n       <use x=\"63.623047\" xlink:href=\"#DejaVuSans-50\"/>\n       <use x=\"127.246094\" xlink:href=\"#DejaVuSans-48\"/>\n      </g>\n     </g>\n    </g>\n   </g>\n   <g id=\"matplotlib.axis_2\">\n    <g id=\"ytick_1\">\n     <g id=\"line2d_8\">\n      <defs>\n       <path d=\"M 0 0 \nL -3.5 0 \n\" id=\"m3989637e00\" style=\"stroke:#000000;stroke-width:0.8;\"/>\n      </defs>\n      <g>\n       <use style=\"stroke:#000000;stroke-width:0.8;\" x=\"33.2875\" xlink:href=\"#m3989637e00\" y=\"209.886109\"/>\n      </g>\n     </g>\n     <g id=\"text_8\">\n      <!-- 20 -->\n      <g transform=\"translate(13.5625 213.685328)scale(0.1 -0.1)\">\n       <use xlink:href=\"#DejaVuSans-50\"/>\n       <use x=\"63.623047\" xlink:href=\"#DejaVuSans-48\"/>\n      </g>\n     </g>\n    </g>\n    <g id=\"ytick_2\">\n     <g id=\"line2d_9\">\n      <g>\n       <use style=\"stroke:#000000;stroke-width:0.8;\" x=\"33.2875\" xlink:href=\"#m3989637e00\" y=\"165.456849\"/>\n      </g>\n     </g>\n     <g id=\"text_9\">\n      <!-- 40 -->\n      <g transform=\"translate(13.5625 169.256068)scale(0.1 -0.1)\">\n       <use xlink:href=\"#DejaVuSans-52\"/>\n       <use x=\"63.623047\" xlink:href=\"#DejaVuSans-48\"/>\n      </g>\n     </g>\n    </g>\n    <g id=\"ytick_3\">\n     <g id=\"line2d_10\">\n      <g>\n       <use style=\"stroke:#000000;stroke-width:0.8;\" x=\"33.2875\" xlink:href=\"#m3989637e00\" y=\"121.027589\"/>\n      </g>\n     </g>\n     <g id=\"text_10\">\n      <!-- 60 -->\n      <g transform=\"translate(13.5625 124.826807)scale(0.1 -0.1)\">\n       <use xlink:href=\"#DejaVuSans-54\"/>\n       <use x=\"63.623047\" xlink:href=\"#DejaVuSans-48\"/>\n      </g>\n     </g>\n    </g>\n    <g id=\"ytick_4\">\n     <g id=\"line2d_11\">\n      <g>\n       <use style=\"stroke:#000000;stroke-width:0.8;\" x=\"33.2875\" xlink:href=\"#m3989637e00\" y=\"76.598328\"/>\n      </g>\n     </g>\n     <g id=\"text_11\">\n      <!-- 80 -->\n      <g transform=\"translate(13.5625 80.397547)scale(0.1 -0.1)\">\n       <use xlink:href=\"#DejaVuSans-56\"/>\n       <use x=\"63.623047\" xlink:href=\"#DejaVuSans-48\"/>\n      </g>\n     </g>\n    </g>\n    <g id=\"ytick_5\">\n     <g id=\"line2d_12\">\n      <g>\n       <use style=\"stroke:#000000;stroke-width:0.8;\" x=\"33.2875\" xlink:href=\"#m3989637e00\" y=\"32.169068\"/>\n      </g>\n     </g>\n     <g id=\"text_12\">\n      <!-- 100 -->\n      <g transform=\"translate(7.2 35.968287)scale(0.1 -0.1)\">\n       <use xlink:href=\"#DejaVuSans-49\"/>\n       <use x=\"63.623047\" xlink:href=\"#DejaVuSans-48\"/>\n       <use x=\"127.246094\" xlink:href=\"#DejaVuSans-48\"/>\n      </g>\n     </g>\n    </g>\n   </g>\n   <g id=\"line2d_13\">\n    <path clip-path=\"url(#pd369a2e88f)\" d=\"M 48.505682 32.201761 \nL 51.152322 35.625681 \nL 53.798962 82.125682 \nL 56.445603 139.929032 \nL 59.092243 155.340025 \nL 61.738883 165.123279 \nL 64.385524 174.328125 \nL 67.032164 180.999582 \nL 69.678804 185.592158 \nL 72.325445 190.510089 \nL 74.972085 194.489518 \nL 77.618725 197.830217 \nL 80.265366 200.807075 \nL 82.912006 203.351295 \nL 85.558646 205.296071 \nL 88.205287 207.475574 \nL 90.851927 209.196635 \nL 93.498567 210.3871 \nL 96.145208 211.593357 \nL 98.791848 212.67973 \nL 101.438488 213.621426 \nL 104.085128 214.30557 \nL 106.731769 214.964665 \nL 109.378409 215.49493 \nL 112.025049 216.451354 \nL 114.67169 216.463265 \nL 117.31833 217.721486 \nL 119.96497 217.327838 \nL 122.611611 217.975996 \nL 125.258251 218.927497 \nL 127.904891 219.013055 \nL 130.551532 219.358966 \nL 133.198172 220.199387 \nL 135.844812 220.281559 \nL 138.491453 220.904971 \nL 141.138093 220.50877 \nL 143.784733 220.988029 \nL 146.431374 221.428732 \nL 149.078014 222.204556 \nL 151.724654 222.022221 \nL 154.371294 222.569479 \nL 157.017935 222.826574 \nL 159.664575 222.934705 \nL 162.311215 222.875256 \nL 164.957856 223.588734 \nL 167.604496 223.764446 \nL 170.251136 223.929073 \nL 172.897777 224.221729 \nL 175.544417 223.857262 \nL 178.191057 224.33207 \nL 180.837698 224.418403 \nL 183.484338 224.944368 \nL 186.130978 224.822877 \nL 188.777619 225.236154 \nL 191.424259 225.424514 \nL 194.070899 225.493189 \nL 196.71754 225.764959 \nL 199.36418 225.333677 \nL 202.01082 225.250657 \nL 204.65746 225.646282 \nL 207.304101 225.967262 \nL 209.950741 225.950852 \nL 212.597381 226.382331 \nL 215.244022 225.94642 \nL 217.890662 226.186303 \nL 220.537302 226.189655 \nL 223.183943 226.226727 \nL 225.830583 226.827265 \nL 228.477223 227.13526 \nL 231.123864 226.635019 \nL 233.770504 227.073676 \nL 236.417144 226.874229 \nL 239.063785 227.211685 \nL 241.710425 227.316523 \nL 244.357065 227.52179 \nL 247.003706 227.181915 \nL 249.650346 226.989504 \nL 252.296986 227.351151 \nL 254.943626 227.557867 \nL 257.590267 227.891606 \nL 260.236907 227.802534 \nL 262.883547 227.791473 \nL 265.530188 227.971338 \nL 268.176828 228.132649 \nL 270.823468 228.09418 \nL 273.470109 227.662847 \nL 276.116749 228.213325 \nL 278.763389 228.417346 \nL 281.41003 228.296523 \nL 284.05667 228.491313 \nL 286.70331 228.365232 \nL 289.349951 228.657741 \nL 291.996591 228.860369 \nL 294.643231 228.796177 \nL 297.289872 229.101721 \nL 299.936512 228.941999 \nL 302.583152 228.768992 \nL 305.229792 228.987288 \nL 307.876433 229.186978 \nL 310.523073 229.130536 \nL 313.169713 229.047465 \nL 315.816354 229.157596 \nL 318.462994 229.178993 \nL 321.109634 229.479845 \nL 323.756275 229.197609 \nL 326.402915 229.354511 \nL 329.049555 229.578771 \nL 331.696196 229.72073 \nL 334.342836 229.472036 \nL 336.989476 229.808517 \nL 339.636117 229.615229 \nL 342.282757 229.690558 \nL 344.929397 229.77727 \nL 347.576038 229.692793 \nL 350.222678 229.874489 \nL 352.869318 229.489135 \n\" style=\"fill:none;stroke:#1f77b4;stroke-linecap:square;stroke-width:1.5;\"/>\n   </g>\n   <g id=\"line2d_14\">\n    <path clip-path=\"url(#pd369a2e88f)\" d=\"M 48.505682 32.551509 \nL 51.152322 47.741596 \nL 53.798962 144.952128 \nL 56.445603 153.31413 \nL 59.092243 162.890342 \nL 61.738883 172.873697 \nL 64.385524 181.142025 \nL 67.032164 185.287333 \nL 69.678804 191.467255 \nL 72.325445 195.101026 \nL 74.972085 198.562414 \nL 77.618725 201.09305 \nL 80.265366 202.919272 \nL 82.912006 205.257424 \nL 85.558646 206.808222 \nL 88.205287 207.818924 \nL 90.851927 208.940159 \nL 93.498567 209.569932 \nL 96.145208 210.203541 \nL 98.791848 211.106717 \nL 101.438488 212.051753 \nL 104.085128 212.004429 \nL 106.731769 212.348651 \nL 109.378409 213.462539 \nL 112.025049 213.144714 \nL 114.67169 214.258992 \nL 117.31833 213.93523 \nL 119.96497 214.784024 \nL 122.611611 215.176774 \nL 125.258251 215.267982 \nL 127.904891 215.581413 \nL 130.551532 215.958122 \nL 133.198172 215.815001 \nL 135.844812 216.6892 \nL 138.491453 215.434267 \nL 141.138093 216.890204 \nL 143.784733 216.558083 \nL 146.431374 217.458459 \nL 149.078014 217.47878 \nL 151.724654 218.017215 \nL 154.371294 218.20705 \nL 157.017935 218.116909 \nL 159.664575 217.889538 \nL 162.311215 218.075661 \nL 164.957856 217.354358 \nL 167.604496 218.338175 \nL 170.251136 218.424438 \nL 172.897777 218.568835 \nL 175.544417 218.962822 \nL 178.191057 219.2227 \nL 180.837698 219.623266 \nL 183.484338 219.062324 \nL 186.130978 219.166332 \nL 188.777619 219.230596 \nL 191.424259 219.522649 \nL 194.070899 219.354152 \nL 196.71754 219.773725 \nL 199.36418 219.729697 \nL 202.01082 219.842049 \nL 204.65746 219.875486 \nL 207.304101 219.766372 \nL 209.950741 219.87078 \nL 212.597381 219.613071 \nL 215.244022 219.929443 \nL 217.890662 220.343857 \nL 220.537302 220.150868 \nL 223.183943 220.513341 \nL 225.830583 220.16952 \nL 228.477223 220.426979 \nL 231.123864 220.323735 \nL 233.770504 220.412553 \nL 236.417144 220.430021 \nL 239.063785 220.857074 \nL 241.710425 220.822896 \nL 244.357065 220.355605 \nL 247.003706 220.490592 \nL 249.650346 220.756003 \nL 252.296986 220.616793 \nL 254.943626 221.007826 \nL 257.590267 221.072127 \nL 260.236907 221.143426 \nL 262.883547 221.101219 \nL 265.530188 221.333308 \nL 268.176828 221.349235 \nL 270.823468 221.51408 \nL 273.470109 221.435683 \nL 276.116749 221.481039 \nL 278.763389 221.386204 \nL 281.41003 221.727986 \nL 284.05667 221.250924 \nL 286.70331 221.507673 \nL 289.349951 221.750084 \nL 291.996591 221.913618 \nL 294.643231 221.380325 \nL 297.289872 221.495701 \nL 299.936512 221.271843 \nL 302.583152 221.741814 \nL 305.229792 221.812133 \nL 307.876433 221.602328 \nL 310.523073 221.755989 \nL 313.169713 221.935212 \nL 315.816354 222.034095 \nL 318.462994 221.672622 \nL 321.109634 221.893644 \nL 323.756275 221.957508 \nL 326.402915 222.390031 \nL 329.049555 221.817531 \nL 331.696196 221.747051 \nL 334.342836 221.86313 \nL 336.989476 221.992966 \nL 339.636117 221.679984 \nL 342.282757 221.725393 \nL 344.929397 221.387831 \nL 347.576038 221.995913 \nL 350.222678 221.959046 \nL 352.869318 222.148874 \n\" style=\"fill:none;stroke:#ff7f0e;stroke-linecap:square;stroke-width:1.5;\"/>\n   </g>\n   <g id=\"patch_3\">\n    <path d=\"M 33.2875 239.758125 \nL 33.2875 22.318125 \n\" style=\"fill:none;stroke:#000000;stroke-linecap:square;stroke-linejoin:miter;stroke-width:0.8;\"/>\n   </g>\n   <g id=\"patch_4\">\n    <path d=\"M 368.0875 239.758125 \nL 368.0875 22.318125 \n\" style=\"fill:none;stroke:#000000;stroke-linecap:square;stroke-linejoin:miter;stroke-width:0.8;\"/>\n   </g>\n   <g id=\"patch_5\">\n    <path d=\"M 33.2875 239.758125 \nL 368.0875 239.758125 \n\" style=\"fill:none;stroke:#000000;stroke-linecap:square;stroke-linejoin:miter;stroke-width:0.8;\"/>\n   </g>\n   <g id=\"patch_6\">\n    <path d=\"M 33.2875 22.318125 \nL 368.0875 22.318125 \n\" style=\"fill:none;stroke:#000000;stroke-linecap:square;stroke-linejoin:miter;stroke-width:0.8;\"/>\n   </g>\n   <g id=\"text_13\">\n    <!-- Loss -->\n    <g transform=\"translate(187.526875 16.318125)scale(0.12 -0.12)\">\n     <defs>\n      <path d=\"M 9.8125 72.90625 \nL 19.671875 72.90625 \nL 19.671875 8.296875 \nL 55.171875 8.296875 \nL 55.171875 0 \nL 9.8125 0 \nz\n\" id=\"DejaVuSans-76\"/>\n      <path d=\"M 30.609375 48.390625 \nQ 23.390625 48.390625 19.1875 42.75 \nQ 14.984375 37.109375 14.984375 27.296875 \nQ 14.984375 17.484375 19.15625 11.84375 \nQ 23.34375 6.203125 30.609375 6.203125 \nQ 37.796875 6.203125 41.984375 11.859375 \nQ 46.1875 17.53125 46.1875 27.296875 \nQ 46.1875 37.015625 41.984375 42.703125 \nQ 37.796875 48.390625 30.609375 48.390625 \nz\nM 30.609375 56 \nQ 42.328125 56 49.015625 48.375 \nQ 55.71875 40.765625 55.71875 27.296875 \nQ 55.71875 13.875 49.015625 6.21875 \nQ 42.328125 -1.421875 30.609375 -1.421875 \nQ 18.84375 -1.421875 12.171875 6.21875 \nQ 5.515625 13.875 5.515625 27.296875 \nQ 5.515625 40.765625 12.171875 48.375 \nQ 18.84375 56 30.609375 56 \nz\n\" id=\"DejaVuSans-111\"/>\n      <path d=\"M 44.28125 53.078125 \nL 44.28125 44.578125 \nQ 40.484375 46.53125 36.375 47.5 \nQ 32.28125 48.484375 27.875 48.484375 \nQ 21.1875 48.484375 17.84375 46.4375 \nQ 14.5 44.390625 14.5 40.28125 \nQ 14.5 37.15625 16.890625 35.375 \nQ 19.28125 33.59375 26.515625 31.984375 \nL 29.59375 31.296875 \nQ 39.15625 29.25 43.1875 25.515625 \nQ 47.21875 21.78125 47.21875 15.09375 \nQ 47.21875 7.46875 41.1875 3.015625 \nQ 35.15625 -1.421875 24.609375 -1.421875 \nQ 20.21875 -1.421875 15.453125 -0.5625 \nQ 10.6875 0.296875 5.421875 2 \nL 5.421875 11.28125 \nQ 10.40625 8.6875 15.234375 7.390625 \nQ 20.0625 6.109375 24.8125 6.109375 \nQ 31.15625 6.109375 34.5625 8.28125 \nQ 37.984375 10.453125 37.984375 14.40625 \nQ 37.984375 18.0625 35.515625 20.015625 \nQ 33.0625 21.96875 24.703125 23.78125 \nL 21.578125 24.515625 \nQ 13.234375 26.265625 9.515625 29.90625 \nQ 5.8125 33.546875 5.8125 39.890625 \nQ 5.8125 47.609375 11.28125 51.796875 \nQ 16.75 56 26.8125 56 \nQ 31.78125 56 36.171875 55.265625 \nQ 40.578125 54.546875 44.28125 53.078125 \nz\n\" id=\"DejaVuSans-115\"/>\n     </defs>\n     <use xlink:href=\"#DejaVuSans-76\"/>\n     <use x=\"53.962891\" xlink:href=\"#DejaVuSans-111\"/>\n     <use x=\"115.144531\" xlink:href=\"#DejaVuSans-115\"/>\n     <use x=\"167.244141\" xlink:href=\"#DejaVuSans-115\"/>\n    </g>\n   </g>\n  </g>\n </g>\n <defs>\n  <clipPath id=\"pd369a2e88f\">\n   <rect height=\"217.44\" width=\"334.8\" x=\"33.2875\" y=\"22.318125\"/>\n  </clipPath>\n </defs>\n</svg>\n"
     },
     "metadata": {
      "needs_background": "light"
     }
    }
   ]
  },
  {
   "metadata": {
    "trusted": false
   },
   "cell_type": "code",
   "source": [
    "model.load_weights('../working/best_model.hdf5')\n",
    "model.save('../working/nn_mlp_nlp.hdf5')"
   ],
   "execution_count": 37,
   "outputs": []
  },
  {
   "metadata": {
    "trusted": false
   },
   "cell_type": "code",
   "source": [
    "test_predict_nn2 = model.predict([text_test_sequences, X_test])\n",
    "print(f\"TEST mape: {(mape(y_test, test_predict_nn2[:,0]))*100:0.2f}%\")"
   ],
   "execution_count": 38,
   "outputs": [
    {
     "output_type": "stream",
     "name": "stdout",
     "text": [
      "TEST mape: 14.48%\n"
     ]
    }
   ]
  },
  {
   "metadata": {
    "trusted": false
   },
   "cell_type": "code",
   "source": [
    "sub_predict_nn2 = model.predict([text_sub_sequences, X_sub])\n",
    "sample_submission['price'] = sub_predict_nn2[:,0]\n",
    "sample_submission.to_csv('nn2_submission.csv', index=False)"
   ],
   "execution_count": 39,
   "outputs": []
  },
  {
   "metadata": {},
   "cell_type": "markdown",
   "source": [
    "Идеи для улучшения NLP части:\n",
    "* Выделить из описаний часто встречающиеся блоки текста, заменив их на кодовые слова или удалив\n",
    "* Сделать предобработку текста, например, сделать лемматизацию - алгоритм ставящий все слова в форму по умолчанию (глаголы в инфинитив и т. д.), чтобы токенайзер не преобразовывал разные формы слова в разные числа\n",
    "Статья по теме: https://habr.com/ru/company/Voximplant/blog/446738/\n",
    "* Поработать над алгоритмами очистки и аугментации текста"
   ]
  },
  {
   "metadata": {},
   "cell_type": "markdown",
   "source": [
    "# Model 5: Добавляем картинки"
   ]
  },
  {
   "metadata": {},
   "cell_type": "markdown",
   "source": [
    "### Data"
   ]
  },
  {
   "metadata": {
    "trusted": false
   },
   "cell_type": "code",
   "source": [
    "# убедимся, что цены и фото подгрузились верно\n",
    "plt.figure(figsize = (12,8))\n",
    "\n",
    "random_image = train.sample(n = 9)\n",
    "random_image_paths = random_image['sell_id'].values\n",
    "random_image_cat = random_image['price'].values\n",
    "\n",
    "for index, path in enumerate(random_image_paths):\n",
    "    im = PIL.Image.open(DATA_DIR+'img/img/' + str(path) + '.jpg')\n",
    "    plt.subplot(3, 3, index + 1)\n",
    "    plt.imshow(im)\n",
    "    plt.title('price: ' + str(random_image_cat[index]))\n",
    "    plt.axis('off')\n",
    "plt.show()"
   ],
   "execution_count": null,
   "outputs": []
  },
  {
   "metadata": {
    "trusted": false
   },
   "cell_type": "code",
   "source": [
    "size = (320, 240)\n",
    "\n",
    "def get_image_array(index):\n",
    "    images_train = []\n",
    "    for index, sell_id in enumerate(data['sell_id'].iloc[index].values):\n",
    "        image = cv2.imread(DATA_DIR + 'img/img/' + str(sell_id) + '.jpg')\n",
    "        assert(image is not None)\n",
    "        image = cv2.resize(image, size)\n",
    "        images_train.append(image)\n",
    "    images_train = np.array(images_train)\n",
    "    print('images shape', images_train.shape, 'dtype', images_train.dtype)\n",
    "    return(images_train)\n",
    "\n",
    "images_train = get_image_array(X_train.index)\n",
    "images_test = get_image_array(X_test.index)\n",
    "images_sub = get_image_array(X_sub.index)"
   ],
   "execution_count": null,
   "outputs": []
  },
  {
   "metadata": {},
   "cell_type": "markdown",
   "source": [
    "### albumentations"
   ]
  },
  {
   "metadata": {
    "trusted": false
   },
   "cell_type": "code",
   "source": [
    "from albumentations import (\n",
    "    HorizontalFlip, IAAPerspective, ShiftScaleRotate, CLAHE, RandomRotate90,\n",
    "    Transpose, ShiftScaleRotate, Blur, OpticalDistortion, GridDistortion, HueSaturationValue,\n",
    "    IAAAdditiveGaussianNoise, GaussNoise, MotionBlur, MedianBlur, IAAPiecewiseAffine,\n",
    "    IAASharpen, IAAEmboss, RandomBrightnessContrast, Flip, OneOf, Compose\n",
    ")\n",
    "\n",
    "\n",
    "#пример взят из официальной документации: https://albumentations.readthedocs.io/en/latest/examples.html\n",
    "augmentation = Compose([\n",
    "    HorizontalFlip(),\n",
    "    OneOf([\n",
    "        IAAAdditiveGaussianNoise(),\n",
    "        GaussNoise(),\n",
    "    ], p=0.2),\n",
    "    OneOf([\n",
    "        MotionBlur(p=0.2),\n",
    "        MedianBlur(blur_limit=3, p=0.1),\n",
    "        Blur(blur_limit=3, p=0.1),\n",
    "    ], p=0.2),\n",
    "    ShiftScaleRotate(shift_limit=0.0625, scale_limit=0.2, rotate_limit=15, p=1),\n",
    "    OneOf([\n",
    "        OpticalDistortion(p=0.3),\n",
    "        GridDistortion(p=0.1),\n",
    "        IAAPiecewiseAffine(p=0.3),\n",
    "    ], p=0.2),\n",
    "    OneOf([\n",
    "        CLAHE(clip_limit=2),\n",
    "        IAASharpen(),\n",
    "        IAAEmboss(),\n",
    "        RandomBrightnessContrast(),\n",
    "    ], p=0.3),\n",
    "    HueSaturationValue(p=0.3),\n",
    "], p=1)\n",
    "\n",
    "#пример\n",
    "plt.figure(figsize = (12,8))\n",
    "for i in range(9):\n",
    "    img = augmentation(image = images_train[0])['image']\n",
    "    plt.subplot(3, 3, i + 1)\n",
    "    plt.imshow(img)\n",
    "    plt.axis('off')\n",
    "plt.show()"
   ],
   "execution_count": null,
   "outputs": []
  },
  {
   "metadata": {
    "trusted": false
   },
   "cell_type": "code",
   "source": [
    "def make_augmentations(images):\n",
    "  print('применение аугментаций', end = '')\n",
    "  augmented_images = np.empty(images.shape)\n",
    "  for i in range(images.shape[0]):\n",
    "    if i % 200 == 0:\n",
    "      print('.', end = '')\n",
    "    augment_dict = augmentation(image = images[i])\n",
    "    augmented_image = augment_dict['image']\n",
    "    augmented_images[i] = augmented_image\n",
    "  print('')\n",
    "  return augmented_images"
   ],
   "execution_count": null,
   "outputs": []
  },
  {
   "metadata": {},
   "cell_type": "markdown",
   "source": [
    "## tf.data.Dataset\n",
    "Если все изображения мы будем хранить в памяти, то может возникнуть проблема ее нехватки. Не храните все изображения в памяти целиком!\n",
    "\n",
    "Метод .fit() модели keras может принимать либо данные в виде массивов или тензоров, либо разного рода итераторы, из которых наиболее современным и гибким является [tf.data.Dataset](https://www.tensorflow.org/guide/data). Он представляет собой конвейер, то есть мы указываем, откуда берем данные и какую цепочку преобразований с ними выполняем. Далее мы будем работать с tf.data.Dataset.\n",
    "\n",
    "Dataset хранит информацию о конечном или бесконечном наборе кортежей (tuple) с данными и может возвращать эти наборы по очереди. Например, данными могут быть пары (input, target) для обучения нейросети. С данными можно осуществлять преобразования, которые осуществляются по мере необходимости ([lazy evaluation](https://ru.wikipedia.org/wiki/%D0%9B%D0%B5%D0%BD%D0%B8%D0%B2%D1%8B%D0%B5_%D0%B2%D1%8B%D1%87%D0%B8%D1%81%D0%BB%D0%B5%D0%BD%D0%B8%D1%8F)).\n",
    "\n",
    "`tf.data.Dataset.from_tensor_slices(data)` - создает датасет из данных, которые представляют собой либо массив, либо кортеж из массивов. Деление осуществляется по первому индексу каждого массива. Например, если `data = (np.zeros((128, 256, 256)), np.zeros(128))`, то датасет будет содержать 128 элементов, каждый из которых содержит один массив 256x256 и одно число.\n",
    "\n",
    "`dataset2 = dataset1.map(func)` - применение функции к датасету; функция должна принимать столько аргументов, каков размер кортежа в датасете 1 и возвращать столько, сколько нужно иметь в датасете 2. Пусть, например, датасет содержит изображения и метки, а нам нужно создать датасет только из изображений, тогда мы напишем так: `dataset2 = dataset.map(lambda img, label: img)`.\n",
    "\n",
    "`dataset2 = dataset1.batch(8)` - группировка по батчам; если датасет 2 должен вернуть один элемент, то он берет из датасета 1 восемь элементов, склеивает их (нулевой индекс результата - номер элемента) и возвращает.\n",
    "\n",
    "`dataset.__iter__()` - превращение датасета в итератор, из которого можно получать элементы методом `.__next__()`. Итератор, в отличие от самого датасета, хранит позицию текущего элемента. Можно также перебирать датасет циклом for.\n",
    "\n",
    "`dataset2 = dataset1.repeat(X)` - датасет 2 будет повторять датасет 1 X раз.\n",
    "\n",
    "Если нам нужно взять из датасета 1000 элементов и использовать их как тестовые, а остальные как обучающие, то мы напишем так:\n",
    "\n",
    "`test_dataset = dataset.take(1000)\n",
    "train_dataset = dataset.skip(1000)`\n",
    "\n",
    "Датасет по сути неизменен: такие операции, как map, batch, repeat, take, skip никак не затрагивают оригинальный датасет. Если датасет хранит элементы [1, 2, 3], то выполнив 3 раза подряд функцию dataset.take(1) мы получим 3 новых датасета, каждый из которых вернет число 1. Если же мы выполним функцию dataset.skip(1), мы получим датасет, возвращающий числа [2, 3], но исходный датасет все равно будет возвращать [1, 2, 3] каждый раз, когда мы его перебираем.\n",
    "\n",
    "tf.Dataset всегда выполняется в graph-режиме (в противоположность eager-режиму), поэтому либо преобразования (`.map()`) должны содержать только tensorflow-функции, либо мы должны использовать tf.py_function в качестве обертки для функций, вызываемых в `.map()`. Подробнее можно прочитать [здесь](https://www.tensorflow.org/guide/data#applying_arbitrary_python_logic)."
   ]
  },
  {
   "metadata": {
    "trusted": false
   },
   "cell_type": "code",
   "source": [
    "# NLP part\n",
    "tokenize = Tokenizer(num_words=MAX_WORDS)\n",
    "tokenize.fit_on_texts(data.description)"
   ],
   "execution_count": null,
   "outputs": []
  },
  {
   "metadata": {
    "trusted": false
   },
   "cell_type": "code",
   "source": [
    "def process_image(image):\n",
    "    return augmentation(image = image.numpy())['image']\n",
    "\n",
    "def tokenize_(descriptions):\n",
    "  return sequence.pad_sequences(tokenize.texts_to_sequences(descriptions), maxlen = MAX_SEQUENCE_LENGTH)\n",
    "\n",
    "def tokenize_text(text):\n",
    "    return tokenize_([text.numpy().decode('utf-8')])[0]\n",
    "\n",
    "def tf_process_train_dataset_element(image, table_data, text, price):\n",
    "    im_shape = image.shape\n",
    "    [image,] = tf.py_function(process_image, [image], [tf.uint8])\n",
    "    image.set_shape(im_shape)\n",
    "    [text,] = tf.py_function(tokenize_text, [text], [tf.int32])\n",
    "    return (image, table_data, text), price\n",
    "\n",
    "def tf_process_val_dataset_element(image, table_data, text, price):\n",
    "    [text,] = tf.py_function(tokenize_text, [text], [tf.int32])\n",
    "    return (image, table_data, text), price\n",
    "\n",
    "train_dataset = tf.data.Dataset.from_tensor_slices((\n",
    "    images_train, X_train, data.description.iloc[X_train.index], y_train\n",
    "    )).map(tf_process_train_dataset_element)\n",
    "\n",
    "test_dataset = tf.data.Dataset.from_tensor_slices((\n",
    "    images_test, X_test, data.description.iloc[X_test.index], y_test\n",
    "    )).map(tf_process_val_dataset_element)\n",
    "\n",
    "y_sub = np.zeros(len(X_sub))\n",
    "sub_dataset = tf.data.Dataset.from_tensor_slices((\n",
    "    images_sub, X_sub, data.description.iloc[X_sub.index], y_sub\n",
    "    )).map(tf_process_val_dataset_element)\n",
    "\n",
    "#проверяем, что нет ошибок (не будет выброшено исключение):\n",
    "train_dataset.__iter__().__next__();\n",
    "test_dataset.__iter__().__next__();\n",
    "sub_dataset.__iter__().__next__();"
   ],
   "execution_count": null,
   "outputs": []
  },
  {
   "metadata": {},
   "cell_type": "markdown",
   "source": [
    "### Строим сверточную сеть для анализа изображений без \"головы\""
   ]
  },
  {
   "metadata": {
    "trusted": false
   },
   "cell_type": "code",
   "source": [
    "#нормализация включена в состав модели EfficientNetB3, поэтому на вход она принимает данные типа uint8\n",
    "efficientnet_model = tf.keras.applications.efficientnet.EfficientNetB3(weights = 'imagenet', include_top = False, input_shape = (size[1], size[0], 3))\n",
    "efficientnet_output = L.GlobalAveragePooling2D()(efficientnet_model.output)"
   ],
   "execution_count": null,
   "outputs": []
  },
  {
   "metadata": {
    "trusted": false
   },
   "cell_type": "code",
   "source": [
    "#строим нейросеть для анализа табличных данных\n",
    "tabular_model = Sequential([\n",
    "    L.Input(shape = X.shape[1]),\n",
    "    L.Dense(512, activation = 'relu'),\n",
    "    L.Dropout(0.5),\n",
    "    L.Dense(256, activation = 'relu'),\n",
    "    L.Dropout(0.5),\n",
    "    ])"
   ],
   "execution_count": null,
   "outputs": []
  },
  {
   "metadata": {
    "trusted": false
   },
   "cell_type": "code",
   "source": [
    "# NLP\n",
    "nlp_model = Sequential([\n",
    "    L.Input(shape=MAX_SEQUENCE_LENGTH, name=\"seq_description\"),\n",
    "    L.Embedding(len(tokenize.word_index)+1, MAX_SEQUENCE_LENGTH,),\n",
    "    L.LSTM(256, return_sequences=True),\n",
    "    L.Dropout(0.5),\n",
    "    L.LSTM(128),\n",
    "    L.Dropout(0.25),\n",
    "    L.Dense(64),\n",
    "    ])"
   ],
   "execution_count": null,
   "outputs": []
  },
  {
   "metadata": {
    "_kg_hide-output": true,
    "trusted": false
   },
   "cell_type": "code",
   "source": [
    "#объединяем выходы трех нейросетей\n",
    "combinedInput = L.concatenate([efficientnet_output, tabular_model.output, nlp_model.output])\n",
    "\n",
    "# being our regression head\n",
    "head = L.Dense(256, activation=\"relu\")(combinedInput)\n",
    "head = L.Dense(1,)(head)\n",
    "\n",
    "model = Model(inputs=[efficientnet_model.input, tabular_model.input, nlp_model.input], outputs=head)\n",
    "model.summary()"
   ],
   "execution_count": null,
   "outputs": []
  },
  {
   "metadata": {
    "trusted": false
   },
   "cell_type": "code",
   "source": [
    "optimizer = tf.keras.optimizers.Adam(0.005)\n",
    "model.compile(loss='MAPE',optimizer=optimizer, metrics=['MAPE'])"
   ],
   "execution_count": null,
   "outputs": []
  },
  {
   "metadata": {
    "trusted": false
   },
   "cell_type": "code",
   "source": [
    "checkpoint = ModelCheckpoint('../working/best_model.hdf5', monitor=['val_MAPE'], verbose=0, mode='min')\n",
    "earlystop = EarlyStopping(monitor='val_MAPE', patience=10, restore_best_weights=True,)\n",
    "callbacks_list = [checkpoint, earlystop]"
   ],
   "execution_count": null,
   "outputs": []
  },
  {
   "metadata": {
    "_kg_hide-output": true,
    "trusted": false
   },
   "cell_type": "code",
   "source": [
    "history = model.fit(train_dataset.batch(30),\n",
    "                    epochs=100,\n",
    "                    validation_data = test_dataset.batch(30),\n",
    "                    callbacks=callbacks_list\n",
    "                   )"
   ],
   "execution_count": null,
   "outputs": []
  },
  {
   "metadata": {
    "trusted": false
   },
   "cell_type": "code",
   "source": [
    "plt.title('Loss')\n",
    "plt.plot(history.history['MAPE'], label='train')\n",
    "plt.plot(history.history['val_MAPE'], label='test')\n",
    "plt.show();"
   ],
   "execution_count": null,
   "outputs": []
  },
  {
   "metadata": {
    "trusted": false
   },
   "cell_type": "code",
   "source": [
    "model.load_weights('../working/best_model.hdf5')\n",
    "model.save('../working/nn_final.hdf5')"
   ],
   "execution_count": null,
   "outputs": []
  },
  {
   "metadata": {
    "trusted": false
   },
   "cell_type": "code",
   "source": [
    "test_predict_nn3 = model.predict(test_dataset.batch(30))\n",
    "print(f\"TEST mape: {(mape(y_test, test_predict_nn3[:,0]))*100:0.2f}%\")"
   ],
   "execution_count": null,
   "outputs": []
  },
  {
   "metadata": {
    "trusted": false
   },
   "cell_type": "code",
   "source": [
    "sub_predict_nn3 = model.predict(sub_dataset.batch(30))\n",
    "sample_submission['price'] = sub_predict_nn3[:,0]\n",
    "sample_submission.to_csv('nn3_submission.csv', index=False)"
   ],
   "execution_count": null,
   "outputs": []
  },
  {
   "metadata": {},
   "cell_type": "markdown",
   "source": [
    "\n",
    "#### Общие рекомендации:\n",
    "* Попробовать разные архитектуры\n",
    "* Провести более детальный анализ результатов\n",
    "* Попробовать различные подходы в управление LR и оптимизаторы\n",
    "* Поработать с таргетом\n",
    "* Использовать Fine-tuning\n",
    "\n",
    "#### Tabular\n",
    "* В нейросеть желательно подавать данные с распределением, близким к нормальному, поэтому от некоторых числовых признаков имеет смысл взять логарифм перед нормализацией. Пример:\n",
    "`modelDateNorm = np.log(2020 - data['modelDate'])`\n",
    "Статья по теме: https://habr.com/ru/company/ods/blog/325422\n",
    "\n",
    "* Извлечение числовых значений из текста:\n",
    "Парсинг признаков 'engineDisplacement', 'enginePower', 'Владение' для извлечения числовых значений.\n",
    "\n",
    "* Сокращение размерности категориальных признаков\n",
    "Признак name 'name' содержит данные, которые уже есть в других столбцах ('enginePower', 'engineDisplacement', 'vehicleTransmission'). Можно удалить эти данные. Затем можно еще сильнее сократить размерность, например выделив наличие xDrive в качестве отдельного признака.\n",
    "\n",
    "* Поработать над Feature engineering\n",
    "\n",
    "\n",
    "\n",
    "#### NLP\n",
    "* Выделить из описаний часто встречающиеся блоки текста, заменив их на кодовые слова или удалив\n",
    "* Сделать предобработку текста, например сделать лемматизацию - алгоритм ставящий все слова в форму по умолчанию (глаголы в инфинитив и т. д.), чтобы токенайзер не преобразовывал разные формы слова в разные числа\n",
    "Статья по теме: https://habr.com/ru/company/Voximplant/blog/446738/\n",
    "* Поработать над алгоритмами очистки и аугментации текста\n",
    "\n",
    "\n",
    "\n",
    "#### CV\n",
    "* Попробовать различные аугментации\n",
    "* Fine-tuning"
   ]
  },
  {
   "metadata": {},
   "cell_type": "markdown",
   "source": [
    "# Blend"
   ]
  },
  {
   "metadata": {
    "trusted": false
   },
   "cell_type": "code",
   "source": [
    "blend_predict = (test_predict_catboost + test_predict_nn3[:,0]) / 2\n",
    "print(f\"TEST mape: {(mape(y_test, blend_predict))*100:0.2f}%\")"
   ],
   "execution_count": null,
   "outputs": []
  },
  {
   "metadata": {
    "trusted": false
   },
   "cell_type": "code",
   "source": [
    "blend_sub_predict = (sub_predict_catboost + sub_predict_nn3[:,0]) / 2\n",
    "sample_submission['price'] = blend_sub_predict\n",
    "sample_submission.to_csv('blend_submission.csv', index=False)"
   ],
   "execution_count": null,
   "outputs": []
  },
  {
   "metadata": {},
   "cell_type": "markdown",
   "source": [
    "# Model Bonus: проброс признака"
   ]
  },
  {
   "metadata": {
    "trusted": true
   },
   "cell_type": "code",
   "source": [
    "# MLP\n",
    "model_mlp = Sequential()\n",
    "model_mlp.add(L.Dense(512, input_dim=X_train.shape[1], activation=\"relu\"))\n",
    "model_mlp.add(L.Dropout(0.5))\n",
    "model_mlp.add(L.Dense(256, activation=\"relu\"))\n",
    "model_mlp.add(L.Dropout(0.5))"
   ],
   "execution_count": null,
   "outputs": []
  },
  {
   "metadata": {
    "trusted": true
   },
   "cell_type": "code",
   "source": [
    "# FEATURE Input\n",
    "# Iput\n",
    "productiondate = L.Input(shape=[1], name=\"productiondate\")\n",
    "# Embeddings layers\n",
    "emb_productiondate = L.Embedding(len(X.productionDate.unique().tolist())+1, 20)(productiondate)\n",
    "f_productiondate = L.Flatten()(emb_productiondate)"
   ],
   "execution_count": null,
   "outputs": []
  },
  {
   "metadata": {
    "trusted": true
   },
   "cell_type": "code",
   "source": [
    "combinedInput = L.concatenate([model_mlp.output, f_productiondate,])\n",
    "# being our regression head\n",
    "head = L.Dense(64, activation=\"relu\")(combinedInput)\n",
    "head = L.Dense(1, activation=\"linear\")(head)\n",
    "\n",
    "model = Model(inputs=[model_mlp.input, productiondate], outputs=head)"
   ],
   "execution_count": null,
   "outputs": []
  },
  {
   "metadata": {
    "_kg_hide-output": true,
    "trusted": true
   },
   "cell_type": "code",
   "source": [
    "model.summary()"
   ],
   "execution_count": null,
   "outputs": []
  },
  {
   "metadata": {
    "trusted": true
   },
   "cell_type": "code",
   "source": [
    "optimizer = tf.keras.optimizers.Adam(0.01)\n",
    "model.compile(loss='MAPE',optimizer=optimizer, metrics=['MAPE'])"
   ],
   "execution_count": null,
   "outputs": []
  },
  {
   "metadata": {
    "trusted": true
   },
   "cell_type": "code",
   "source": [
    "history = model.fit([X_train, X_train.productionDate.values], y_train,\n",
    "                    batch_size=512,\n",
    "                    epochs=500, # фактически мы обучаем пока EarlyStopping не остановит обучение\n",
    "                    validation_data=([X_test, X_test.productionDate.values], y_test),\n",
    "                    callbacks=callbacks_list\n",
    "                   )"
   ],
   "execution_count": null,
   "outputs": []
  },
  {
   "metadata": {
    "trusted": true
   },
   "cell_type": "code",
   "source": [
    "model.load_weights('../working/best_model.hdf5')\n",
    "test_predict_nn_bonus = model.predict([X_test, X_test.productionDate.values])\n",
    "print(f\"TEST mape: {(mape(y_test, test_predict_nn_bonus[:,0]))*100:0.2f}%\")"
   ],
   "execution_count": null,
   "outputs": []
  },
  {
   "metadata": {
    "trusted": false
   },
   "cell_type": "code",
   "source": [],
   "execution_count": null,
   "outputs": []
  },
  {
   "metadata": {
    "trusted": false
   },
   "cell_type": "code",
   "source": [
    "# "
   ],
   "execution_count": null,
   "outputs": []
  }
 ],
 "metadata": {
  "kernelspec": {
   "name": "python3",
   "display_name": "Python 3"
  },
  "language_info": {
   "pygments_lexer": "ipython3",
   "nbconvert_exporter": "python",
   "version": "3.8.5-final",
   "file_extension": ".py",
   "codemirror_mode": {
    "name": "ipython",
    "version": 3
   },
   "name": "python",
   "mimetype": "text/x-python"
  }
 },
 "nbformat": 4,
 "nbformat_minor": 4
}